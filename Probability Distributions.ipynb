{
 "cells": [
  {
   "cell_type": "markdown",
   "metadata": {},
   "source": [
    "## Discrete Distributions\n",
    "### Probability Mass Function "
   ]
  },
  {
   "cell_type": "code",
   "execution_count": 2,
   "metadata": {
    "scrolled": true
   },
   "outputs": [
    {
     "name": "stdout",
     "output_type": "stream",
     "text": [
      "('Dice - 8 faces: pmf(X)\\n', {1: 1/8, 2: 1/8, 3: 1/8, 4: 1/8, 5: 1/8, 6: 1/8, 7: 1/8, 8: 1/8})\n"
     ]
    }
   ],
   "source": [
    "# pmf - probability mass function\n",
    "from sympy.stats import Die, density, FiniteRV\n",
    "\n",
    "X = Die('X',8)\n",
    "print(\"Dice - 8 faces: pmf(X)\\n\",density(X).dict)"
   ]
  },
  {
   "cell_type": "code",
   "execution_count": 6,
   "metadata": {},
   "outputs": [
    {
     "name": "stdout",
     "output_type": "stream",
     "text": [
      "('Biased Dice - 8 faces: pmf(Y)\\n', {1: 0.2, 2: 0.1, 3: 0.1, 4: 0.1, 5: 0.1, 6: 0.1, 7: 0.2, 8: 0.1})\n"
     ]
    }
   ],
   "source": [
    "# pmf - probability mass function\n",
    "pmf = {1: 0.2, 2: 0.1, 3: 0.1, 4: 0.1, 5: 0.1, 6: 0.1, 7: 0.2, 8: 0.1}\n",
    "Y = FiniteRV('Y',pmf)\n",
    "print(\"Biased Dice - 8 faces: pmf(Y)\\n\",density(Y).dict)"
   ]
  },
  {
   "cell_type": "markdown",
   "metadata": {},
   "source": [
    "### Cumulative Distribution Function"
   ]
  },
  {
   "cell_type": "code",
   "execution_count": 7,
   "metadata": {},
   "outputs": [
    {
     "name": "stdout",
     "output_type": "stream",
     "text": [
      "('Dice - 8 faces: pmf(X)\\n', {1: 1/8, 2: 1/8, 3: 1/8, 4: 1/8, 5: 1/8, 6: 1/8, 7: 1/8, 8: 1/8})\n",
      "('Dice - 8 faces: cdf(X)\\n', {1: 1/8, 2: 1/4, 3: 3/8, 4: 1/2, 5: 5/8, 6: 3/4, 7: 7/8, 8: 1})\n"
     ]
    }
   ],
   "source": [
    "# cdf - cumulative distribution function\n",
    "from sympy.stats import cdf\n",
    "\n",
    "print(\"Dice - 8 faces: pmf(X)\\n\",density(X).dict)\n",
    "print(\"Dice - 8 faces: cdf(X)\\n\", cdf(X))"
   ]
  },
  {
   "cell_type": "code",
   "execution_count": 8,
   "metadata": {},
   "outputs": [
    {
     "name": "stdout",
     "output_type": "stream",
     "text": [
      "('Biased Dice - 8 faces: pmf(Y)\\n', {1: 0.2, 2: 0.1, 3: 0.1, 4: 0.1, 5: 0.1, 6: 0.1, 7: 0.2, 8: 0.1})\n",
      "('Biased Dice - 8 faces: cdf(Y)\\n', {1: 0.200000000000000, 2: 0.300000000000000, 3: 0.400000000000000, 4: 0.500000000000000, 5: 0.600000000000000, 6: 0.700000000000000, 7: 0.900000000000000, 8: 1.00000000000000})\n"
     ]
    }
   ],
   "source": [
    "print(\"Biased Dice - 8 faces: pmf(Y)\\n\",density(Y).dict)\n",
    "print(\"Biased Dice - 8 faces: cdf(Y)\\n\", cdf(Y))"
   ]
  },
  {
   "cell_type": "markdown",
   "metadata": {},
   "source": [
    "<br>\n",
    "<div class=\"alert alert-info\">\n",
    "<b>Exercise start </b>\n",
    "</div>\n",
    "\n",
    "1. Using cdf create a function that generate randomly a face of a 8 faces dice. \n",
    "    - face = my_dice(n,cdf)\n"
   ]
  },
  {
   "cell_type": "code",
   "execution_count": null,
   "metadata": {
    "collapsed": true
   },
   "outputs": [],
   "source": []
  },
  {
   "cell_type": "markdown",
   "metadata": {},
   "source": [
    "## Bernoulli Distribution\n",
    "\n",
    "$$\n",
    "\\begin{eqnarray*}\n",
    "P(X = x)  \\Leftrightarrow  f(x)  & = &\n",
    "\\begin{cases}\n",
    "               \\displaystyle q, \\ \\ \\ x = 0\\\\\n",
    "               p, \\ \\ \\ x = 1\n",
    "\\end{cases}\\\\\n",
    "P(X \\leq x) \\Leftrightarrow  F(x)  & = &\n",
    "\\begin{cases}\n",
    "               0, \\ \\ \\ x < 0\\\\\n",
    "               q, \\ \\ \\ 0 \\leq x < 1\\\\\n",
    "               1, \\ \\ \\ x \\geq 1\n",
    "\\end{cases}\n",
    "\\end{eqnarray*}\n",
    "$$"
   ]
  },
  {
   "cell_type": "code",
   "execution_count": 6,
   "metadata": {},
   "outputs": [
    {
     "name": "stdout",
     "output_type": "stream",
     "text": [
      "Bernoulli pmf(x):\n",
      " {1: 0.750000000000000, 0: 0.250000000000000}\n",
      "Bernoulli cdf(x): \n",
      " {0: 0.250000000000000, 1: 1.00000000000000}\n"
     ]
    }
   ],
   "source": [
    "from sympy.stats import Bernoulli, density, cdf\n",
    "from sympy import S\n",
    "\n",
    "X = Bernoulli('X', 3/4)\n",
    "print(\"Bernoulli pmf(x):\\n\", density(X).dict)\n",
    "print(\"Bernoulli cdf(x): \\n\", cdf(X))"
   ]
  },
  {
   "cell_type": "markdown",
   "metadata": {},
   "source": [
    "## Binomial Distribution\n",
    "\n",
    "$$\n",
    "\\begin{eqnarray*}\n",
    "P(X = k)  \\Leftrightarrow  f(k,n,p)  & = &\n",
    "\\begin{cases}\n",
    "               \\displaystyle \\binom{n}{k}p^k(1-p)^{n-k} \\ \\ \\ 0 \\leq k \\leq n\\\\\n",
    "               \\textrm{caso contrário}\n",
    "\\end{cases}\\\\\n",
    "P(X \\leq x) \\Leftrightarrow  F(k,n,p)  & = &\n",
    "               \\displaystyle \\sum_{i=0}^{k}\\binom{n}{i}p^k(1-p)^{n-k} \n",
    "\\end{eqnarray*}\n",
    "$$"
   ]
  },
  {
   "cell_type": "code",
   "execution_count": 7,
   "metadata": {},
   "outputs": [
    {
     "data": {
      "text/html": [
       "\n",
       "    <div class=\"bk-root\">\n",
       "        <a href=\"https://bokeh.pydata.org\" target=\"_blank\" class=\"bk-logo bk-logo-small bk-logo-notebook\"></a>\n",
       "        <span id=\"06ff2cc4-1073-4b1a-8f03-6e0b73724bed\">Loading BokehJS ...</span>\n",
       "    </div>"
      ]
     },
     "metadata": {},
     "output_type": "display_data"
    },
    {
     "data": {
      "application/javascript": [
       "\n",
       "(function(root) {\n",
       "  function now() {\n",
       "    return new Date();\n",
       "  }\n",
       "\n",
       "  var force = true;\n",
       "\n",
       "  if (typeof (root._bokeh_onload_callbacks) === \"undefined\" || force === true) {\n",
       "    root._bokeh_onload_callbacks = [];\n",
       "    root._bokeh_is_loading = undefined;\n",
       "  }\n",
       "\n",
       "  var JS_MIME_TYPE = 'application/javascript';\n",
       "  var HTML_MIME_TYPE = 'text/html';\n",
       "  var EXEC_MIME_TYPE = 'application/vnd.bokehjs_exec.v0+json';\n",
       "  var CLASS_NAME = 'output_bokeh rendered_html';\n",
       "\n",
       "  /**\n",
       "   * Render data to the DOM node\n",
       "   */\n",
       "  function render(props, node) {\n",
       "    var script = document.createElement(\"script\");\n",
       "    node.appendChild(script);\n",
       "  }\n",
       "\n",
       "  /**\n",
       "   * Handle when an output is cleared or removed\n",
       "   */\n",
       "  function handleClearOutput(event, handle) {\n",
       "    var cell = handle.cell;\n",
       "\n",
       "    var id = cell.output_area._bokeh_element_id;\n",
       "    var server_id = cell.output_area._bokeh_server_id;\n",
       "    // Clean up Bokeh references\n",
       "    if (id !== undefined) {\n",
       "      Bokeh.index[id].model.document.clear();\n",
       "      delete Bokeh.index[id];\n",
       "    }\n",
       "\n",
       "    if (server_id !== undefined) {\n",
       "      // Clean up Bokeh references\n",
       "      var cmd = \"from bokeh.io.state import curstate; print(curstate().uuid_to_server['\" + server_id + \"'].get_sessions()[0].document.roots[0]._id)\";\n",
       "      cell.notebook.kernel.execute(cmd, {\n",
       "        iopub: {\n",
       "          output: function(msg) {\n",
       "            var element_id = msg.content.text.trim();\n",
       "            Bokeh.index[element_id].model.document.clear();\n",
       "            delete Bokeh.index[element_id];\n",
       "          }\n",
       "        }\n",
       "      });\n",
       "      // Destroy server and session\n",
       "      var cmd = \"import bokeh.io.notebook as ion; ion.destroy_server('\" + server_id + \"')\";\n",
       "      cell.notebook.kernel.execute(cmd);\n",
       "    }\n",
       "  }\n",
       "\n",
       "  /**\n",
       "   * Handle when a new output is added\n",
       "   */\n",
       "  function handleAddOutput(event, handle) {\n",
       "    var output_area = handle.output_area;\n",
       "    var output = handle.output;\n",
       "\n",
       "    // limit handleAddOutput to display_data with EXEC_MIME_TYPE content only\n",
       "    if ((output.output_type != \"display_data\") || (!output.data.hasOwnProperty(EXEC_MIME_TYPE))) {\n",
       "      return\n",
       "    }\n",
       "\n",
       "    var toinsert = output_area.element.find(\".\" + CLASS_NAME.split(' ')[0]);\n",
       "\n",
       "    if (output.metadata[EXEC_MIME_TYPE][\"id\"] !== undefined) {\n",
       "      toinsert[toinsert.length - 1].firstChild.textContent = output.data[JS_MIME_TYPE];\n",
       "      // store reference to embed id on output_area\n",
       "      output_area._bokeh_element_id = output.metadata[EXEC_MIME_TYPE][\"id\"];\n",
       "    }\n",
       "    if (output.metadata[EXEC_MIME_TYPE][\"server_id\"] !== undefined) {\n",
       "      var bk_div = document.createElement(\"div\");\n",
       "      bk_div.innerHTML = output.data[HTML_MIME_TYPE];\n",
       "      var script_attrs = bk_div.children[0].attributes;\n",
       "      for (var i = 0; i < script_attrs.length; i++) {\n",
       "        toinsert[toinsert.length - 1].firstChild.setAttribute(script_attrs[i].name, script_attrs[i].value);\n",
       "      }\n",
       "      // store reference to server id on output_area\n",
       "      output_area._bokeh_server_id = output.metadata[EXEC_MIME_TYPE][\"server_id\"];\n",
       "    }\n",
       "  }\n",
       "\n",
       "  function register_renderer(events, OutputArea) {\n",
       "\n",
       "    function append_mime(data, metadata, element) {\n",
       "      // create a DOM node to render to\n",
       "      var toinsert = this.create_output_subarea(\n",
       "        metadata,\n",
       "        CLASS_NAME,\n",
       "        EXEC_MIME_TYPE\n",
       "      );\n",
       "      this.keyboard_manager.register_events(toinsert);\n",
       "      // Render to node\n",
       "      var props = {data: data, metadata: metadata[EXEC_MIME_TYPE]};\n",
       "      render(props, toinsert[toinsert.length - 1]);\n",
       "      element.append(toinsert);\n",
       "      return toinsert\n",
       "    }\n",
       "\n",
       "    /* Handle when an output is cleared or removed */\n",
       "    events.on('clear_output.CodeCell', handleClearOutput);\n",
       "    events.on('delete.Cell', handleClearOutput);\n",
       "\n",
       "    /* Handle when a new output is added */\n",
       "    events.on('output_added.OutputArea', handleAddOutput);\n",
       "\n",
       "    /**\n",
       "     * Register the mime type and append_mime function with output_area\n",
       "     */\n",
       "    OutputArea.prototype.register_mime_type(EXEC_MIME_TYPE, append_mime, {\n",
       "      /* Is output safe? */\n",
       "      safe: true,\n",
       "      /* Index of renderer in `output_area.display_order` */\n",
       "      index: 0\n",
       "    });\n",
       "  }\n",
       "\n",
       "  // register the mime type if in Jupyter Notebook environment and previously unregistered\n",
       "  if (root.Jupyter !== undefined) {\n",
       "    var events = require('base/js/events');\n",
       "    var OutputArea = require('notebook/js/outputarea').OutputArea;\n",
       "\n",
       "    if (OutputArea.prototype.mime_types().indexOf(EXEC_MIME_TYPE) == -1) {\n",
       "      register_renderer(events, OutputArea);\n",
       "    }\n",
       "  }\n",
       "\n",
       "  \n",
       "  if (typeof (root._bokeh_timeout) === \"undefined\" || force === true) {\n",
       "    root._bokeh_timeout = Date.now() + 5000;\n",
       "    root._bokeh_failed_load = false;\n",
       "  }\n",
       "\n",
       "  var NB_LOAD_WARNING = {'data': {'text/html':\n",
       "     \"<div style='background-color: #fdd'>\\n\"+\n",
       "     \"<p>\\n\"+\n",
       "     \"BokehJS does not appear to have successfully loaded. If loading BokehJS from CDN, this \\n\"+\n",
       "     \"may be due to a slow or bad network connection. Possible fixes:\\n\"+\n",
       "     \"</p>\\n\"+\n",
       "     \"<ul>\\n\"+\n",
       "     \"<li>re-rerun `output_notebook()` to attempt to load from CDN again, or</li>\\n\"+\n",
       "     \"<li>use INLINE resources instead, as so:</li>\\n\"+\n",
       "     \"</ul>\\n\"+\n",
       "     \"<code>\\n\"+\n",
       "     \"from bokeh.resources import INLINE\\n\"+\n",
       "     \"output_notebook(resources=INLINE)\\n\"+\n",
       "     \"</code>\\n\"+\n",
       "     \"</div>\"}};\n",
       "\n",
       "  function display_loaded() {\n",
       "    var el = document.getElementById(\"06ff2cc4-1073-4b1a-8f03-6e0b73724bed\");\n",
       "    if (el != null) {\n",
       "      el.textContent = \"BokehJS is loading...\";\n",
       "    }\n",
       "    if (root.Bokeh !== undefined) {\n",
       "      if (el != null) {\n",
       "        el.textContent = \"BokehJS \" + root.Bokeh.version + \" successfully loaded.\";\n",
       "      }\n",
       "    } else if (Date.now() < root._bokeh_timeout) {\n",
       "      setTimeout(display_loaded, 100)\n",
       "    }\n",
       "  }\n",
       "\n",
       "\n",
       "  function run_callbacks() {\n",
       "    try {\n",
       "      root._bokeh_onload_callbacks.forEach(function(callback) { callback() });\n",
       "    }\n",
       "    finally {\n",
       "      delete root._bokeh_onload_callbacks\n",
       "    }\n",
       "    console.info(\"Bokeh: all callbacks have finished\");\n",
       "  }\n",
       "\n",
       "  function load_libs(js_urls, callback) {\n",
       "    root._bokeh_onload_callbacks.push(callback);\n",
       "    if (root._bokeh_is_loading > 0) {\n",
       "      console.log(\"Bokeh: BokehJS is being loaded, scheduling callback at\", now());\n",
       "      return null;\n",
       "    }\n",
       "    if (js_urls == null || js_urls.length === 0) {\n",
       "      run_callbacks();\n",
       "      return null;\n",
       "    }\n",
       "    console.log(\"Bokeh: BokehJS not loaded, scheduling load and callback at\", now());\n",
       "    root._bokeh_is_loading = js_urls.length;\n",
       "    for (var i = 0; i < js_urls.length; i++) {\n",
       "      var url = js_urls[i];\n",
       "      var s = document.createElement('script');\n",
       "      s.src = url;\n",
       "      s.async = false;\n",
       "      s.onreadystatechange = s.onload = function() {\n",
       "        root._bokeh_is_loading--;\n",
       "        if (root._bokeh_is_loading === 0) {\n",
       "          console.log(\"Bokeh: all BokehJS libraries loaded\");\n",
       "          run_callbacks()\n",
       "        }\n",
       "      };\n",
       "      s.onerror = function() {\n",
       "        console.warn(\"failed to load library \" + url);\n",
       "      };\n",
       "      console.log(\"Bokeh: injecting script tag for BokehJS library: \", url);\n",
       "      document.getElementsByTagName(\"head\")[0].appendChild(s);\n",
       "    }\n",
       "  };var element = document.getElementById(\"06ff2cc4-1073-4b1a-8f03-6e0b73724bed\");\n",
       "  if (element == null) {\n",
       "    console.log(\"Bokeh: ERROR: autoload.js configured with elementid '06ff2cc4-1073-4b1a-8f03-6e0b73724bed' but no matching script tag was found. \")\n",
       "    return false;\n",
       "  }\n",
       "\n",
       "  var js_urls = [\"https://cdn.pydata.org/bokeh/release/bokeh-0.12.16.min.js\", \"https://cdn.pydata.org/bokeh/release/bokeh-widgets-0.12.16.min.js\", \"https://cdn.pydata.org/bokeh/release/bokeh-tables-0.12.16.min.js\", \"https://cdn.pydata.org/bokeh/release/bokeh-gl-0.12.16.min.js\"];\n",
       "\n",
       "  var inline_js = [\n",
       "    function(Bokeh) {\n",
       "      Bokeh.set_log_level(\"info\");\n",
       "    },\n",
       "    \n",
       "    function(Bokeh) {\n",
       "      \n",
       "    },\n",
       "    function(Bokeh) {\n",
       "      console.log(\"Bokeh: injecting CSS: https://cdn.pydata.org/bokeh/release/bokeh-0.12.16.min.css\");\n",
       "      Bokeh.embed.inject_css(\"https://cdn.pydata.org/bokeh/release/bokeh-0.12.16.min.css\");\n",
       "      console.log(\"Bokeh: injecting CSS: https://cdn.pydata.org/bokeh/release/bokeh-widgets-0.12.16.min.css\");\n",
       "      Bokeh.embed.inject_css(\"https://cdn.pydata.org/bokeh/release/bokeh-widgets-0.12.16.min.css\");\n",
       "      console.log(\"Bokeh: injecting CSS: https://cdn.pydata.org/bokeh/release/bokeh-tables-0.12.16.min.css\");\n",
       "      Bokeh.embed.inject_css(\"https://cdn.pydata.org/bokeh/release/bokeh-tables-0.12.16.min.css\");\n",
       "    }\n",
       "  ];\n",
       "\n",
       "  function run_inline_js() {\n",
       "    \n",
       "    if ((root.Bokeh !== undefined) || (force === true)) {\n",
       "      for (var i = 0; i < inline_js.length; i++) {\n",
       "        inline_js[i].call(root, root.Bokeh);\n",
       "      }if (force === true) {\n",
       "        display_loaded();\n",
       "      }} else if (Date.now() < root._bokeh_timeout) {\n",
       "      setTimeout(run_inline_js, 100);\n",
       "    } else if (!root._bokeh_failed_load) {\n",
       "      console.log(\"Bokeh: BokehJS failed to load within specified timeout.\");\n",
       "      root._bokeh_failed_load = true;\n",
       "    } else if (force !== true) {\n",
       "      var cell = $(document.getElementById(\"06ff2cc4-1073-4b1a-8f03-6e0b73724bed\")).parents('.cell').data().cell;\n",
       "      cell.output_area.append_execute_result(NB_LOAD_WARNING)\n",
       "    }\n",
       "\n",
       "  }\n",
       "\n",
       "  if (root._bokeh_is_loading === 0) {\n",
       "    console.log(\"Bokeh: BokehJS loaded, going straight to plotting\");\n",
       "    run_inline_js();\n",
       "  } else {\n",
       "    load_libs(js_urls, function() {\n",
       "      console.log(\"Bokeh: BokehJS plotting callback run at\", now());\n",
       "      run_inline_js();\n",
       "    });\n",
       "  }\n",
       "}(window));"
      ],
      "application/vnd.bokehjs_load.v0+json": "\n(function(root) {\n  function now() {\n    return new Date();\n  }\n\n  var force = true;\n\n  if (typeof (root._bokeh_onload_callbacks) === \"undefined\" || force === true) {\n    root._bokeh_onload_callbacks = [];\n    root._bokeh_is_loading = undefined;\n  }\n\n  \n\n  \n  if (typeof (root._bokeh_timeout) === \"undefined\" || force === true) {\n    root._bokeh_timeout = Date.now() + 5000;\n    root._bokeh_failed_load = false;\n  }\n\n  var NB_LOAD_WARNING = {'data': {'text/html':\n     \"<div style='background-color: #fdd'>\\n\"+\n     \"<p>\\n\"+\n     \"BokehJS does not appear to have successfully loaded. If loading BokehJS from CDN, this \\n\"+\n     \"may be due to a slow or bad network connection. Possible fixes:\\n\"+\n     \"</p>\\n\"+\n     \"<ul>\\n\"+\n     \"<li>re-rerun `output_notebook()` to attempt to load from CDN again, or</li>\\n\"+\n     \"<li>use INLINE resources instead, as so:</li>\\n\"+\n     \"</ul>\\n\"+\n     \"<code>\\n\"+\n     \"from bokeh.resources import INLINE\\n\"+\n     \"output_notebook(resources=INLINE)\\n\"+\n     \"</code>\\n\"+\n     \"</div>\"}};\n\n  function display_loaded() {\n    var el = document.getElementById(\"06ff2cc4-1073-4b1a-8f03-6e0b73724bed\");\n    if (el != null) {\n      el.textContent = \"BokehJS is loading...\";\n    }\n    if (root.Bokeh !== undefined) {\n      if (el != null) {\n        el.textContent = \"BokehJS \" + root.Bokeh.version + \" successfully loaded.\";\n      }\n    } else if (Date.now() < root._bokeh_timeout) {\n      setTimeout(display_loaded, 100)\n    }\n  }\n\n\n  function run_callbacks() {\n    try {\n      root._bokeh_onload_callbacks.forEach(function(callback) { callback() });\n    }\n    finally {\n      delete root._bokeh_onload_callbacks\n    }\n    console.info(\"Bokeh: all callbacks have finished\");\n  }\n\n  function load_libs(js_urls, callback) {\n    root._bokeh_onload_callbacks.push(callback);\n    if (root._bokeh_is_loading > 0) {\n      console.log(\"Bokeh: BokehJS is being loaded, scheduling callback at\", now());\n      return null;\n    }\n    if (js_urls == null || js_urls.length === 0) {\n      run_callbacks();\n      return null;\n    }\n    console.log(\"Bokeh: BokehJS not loaded, scheduling load and callback at\", now());\n    root._bokeh_is_loading = js_urls.length;\n    for (var i = 0; i < js_urls.length; i++) {\n      var url = js_urls[i];\n      var s = document.createElement('script');\n      s.src = url;\n      s.async = false;\n      s.onreadystatechange = s.onload = function() {\n        root._bokeh_is_loading--;\n        if (root._bokeh_is_loading === 0) {\n          console.log(\"Bokeh: all BokehJS libraries loaded\");\n          run_callbacks()\n        }\n      };\n      s.onerror = function() {\n        console.warn(\"failed to load library \" + url);\n      };\n      console.log(\"Bokeh: injecting script tag for BokehJS library: \", url);\n      document.getElementsByTagName(\"head\")[0].appendChild(s);\n    }\n  };var element = document.getElementById(\"06ff2cc4-1073-4b1a-8f03-6e0b73724bed\");\n  if (element == null) {\n    console.log(\"Bokeh: ERROR: autoload.js configured with elementid '06ff2cc4-1073-4b1a-8f03-6e0b73724bed' but no matching script tag was found. \")\n    return false;\n  }\n\n  var js_urls = [\"https://cdn.pydata.org/bokeh/release/bokeh-0.12.16.min.js\", \"https://cdn.pydata.org/bokeh/release/bokeh-widgets-0.12.16.min.js\", \"https://cdn.pydata.org/bokeh/release/bokeh-tables-0.12.16.min.js\", \"https://cdn.pydata.org/bokeh/release/bokeh-gl-0.12.16.min.js\"];\n\n  var inline_js = [\n    function(Bokeh) {\n      Bokeh.set_log_level(\"info\");\n    },\n    \n    function(Bokeh) {\n      \n    },\n    function(Bokeh) {\n      console.log(\"Bokeh: injecting CSS: https://cdn.pydata.org/bokeh/release/bokeh-0.12.16.min.css\");\n      Bokeh.embed.inject_css(\"https://cdn.pydata.org/bokeh/release/bokeh-0.12.16.min.css\");\n      console.log(\"Bokeh: injecting CSS: https://cdn.pydata.org/bokeh/release/bokeh-widgets-0.12.16.min.css\");\n      Bokeh.embed.inject_css(\"https://cdn.pydata.org/bokeh/release/bokeh-widgets-0.12.16.min.css\");\n      console.log(\"Bokeh: injecting CSS: https://cdn.pydata.org/bokeh/release/bokeh-tables-0.12.16.min.css\");\n      Bokeh.embed.inject_css(\"https://cdn.pydata.org/bokeh/release/bokeh-tables-0.12.16.min.css\");\n    }\n  ];\n\n  function run_inline_js() {\n    \n    if ((root.Bokeh !== undefined) || (force === true)) {\n      for (var i = 0; i < inline_js.length; i++) {\n        inline_js[i].call(root, root.Bokeh);\n      }if (force === true) {\n        display_loaded();\n      }} else if (Date.now() < root._bokeh_timeout) {\n      setTimeout(run_inline_js, 100);\n    } else if (!root._bokeh_failed_load) {\n      console.log(\"Bokeh: BokehJS failed to load within specified timeout.\");\n      root._bokeh_failed_load = true;\n    } else if (force !== true) {\n      var cell = $(document.getElementById(\"06ff2cc4-1073-4b1a-8f03-6e0b73724bed\")).parents('.cell').data().cell;\n      cell.output_area.append_execute_result(NB_LOAD_WARNING)\n    }\n\n  }\n\n  if (root._bokeh_is_loading === 0) {\n    console.log(\"Bokeh: BokehJS loaded, going straight to plotting\");\n    run_inline_js();\n  } else {\n    load_libs(js_urls, function() {\n      console.log(\"Bokeh: BokehJS plotting callback run at\", now());\n      run_inline_js();\n    });\n  }\n}(window));"
     },
     "metadata": {},
     "output_type": "display_data"
    }
   ],
   "source": [
    "import numpy as np\n",
    "from scipy.stats import binom, geom\n",
    "from bokeh.plotting import Figure\n",
    "\n",
    "from bokeh.io import show,output_notebook\n",
    "from bokeh.models import HoverTool\n",
    "from bokeh.layouts import row\n",
    "\n",
    "import random\n",
    "output_notebook()"
   ]
  },
  {
   "cell_type": "code",
   "execution_count": 8,
   "metadata": {
    "scrolled": true
   },
   "outputs": [
    {
     "data": {
      "text/html": [
       "\n",
       "<div class=\"bk-root\">\n",
       "    <div class=\"bk-plotdiv\" id=\"f03c8fcf-d20e-4ee3-bdfa-ff5666623044\"></div>\n",
       "</div>"
      ]
     },
     "metadata": {},
     "output_type": "display_data"
    },
    {
     "data": {
      "application/javascript": [
       "(function(root) {\n",
       "  function embed_document(root) {\n",
       "    \n",
       "  var docs_json = {\"0f0c2927-fda8-486a-8bdb-7ff65eae1bb3\":{\"roots\":{\"references\":[{\"attributes\":{},\"id\":\"fd29def3-22d2-483c-824e-1c0917079c28\",\"type\":\"LinearScale\"},{\"attributes\":{\"data_source\":{\"id\":\"a2c39a66-01a4-42f2-8580-30b8e7f96fbe\",\"type\":\"ColumnDataSource\"},\"glyph\":{\"id\":\"a7785309-ebd7-491c-84c3-745b011a8fc8\",\"type\":\"Segment\"},\"hover_glyph\":null,\"muted_glyph\":null,\"nonselection_glyph\":{\"id\":\"348adad7-6038-41ea-8f37-0fb2d79edc4f\",\"type\":\"Segment\"},\"selection_glyph\":null,\"view\":{\"id\":\"a49a32b5-478c-4e1b-b550-8178ba945902\",\"type\":\"CDSView\"}},\"id\":\"7c4346fd-f5e1-45cd-965e-0c067b49881c\",\"type\":\"GlyphRenderer\"},{\"attributes\":{},\"id\":\"6986622e-c0cd-4a8e-b7a3-316df4519bad\",\"type\":\"LinearScale\"},{\"attributes\":{\"plot\":{\"id\":\"2c405841-3b0a-481b-8bf1-df967a00c092\",\"subtype\":\"Figure\",\"type\":\"Plot\"},\"ticker\":{\"id\":\"d45e8548-ebd7-4901-8783-0b2570d29b5b\",\"type\":\"BasicTicker\"}},\"id\":\"4821c2ef-4b54-4cf6-84c5-080f60348e91\",\"type\":\"Grid\"},{\"attributes\":{\"axis_label\":\"k\",\"formatter\":{\"id\":\"72275a35-f9a9-4086-810e-d4640e5cd0c7\",\"type\":\"BasicTickFormatter\"},\"plot\":{\"id\":\"2c405841-3b0a-481b-8bf1-df967a00c092\",\"subtype\":\"Figure\",\"type\":\"Plot\"},\"ticker\":{\"id\":\"d45e8548-ebd7-4901-8783-0b2570d29b5b\",\"type\":\"BasicTicker\"}},\"id\":\"8162bdea-b5f7-4fd9-984f-321a28fcbfa0\",\"type\":\"LinearAxis\"},{\"attributes\":{},\"id\":\"d45e8548-ebd7-4901-8783-0b2570d29b5b\",\"type\":\"BasicTicker\"},{\"attributes\":{\"axis_label\":\"F(k,n,p)\",\"formatter\":{\"id\":\"5ee10db3-4233-45b6-8383-b6513c45432e\",\"type\":\"BasicTickFormatter\"},\"plot\":{\"id\":\"2c405841-3b0a-481b-8bf1-df967a00c092\",\"subtype\":\"Figure\",\"type\":\"Plot\"},\"ticker\":{\"id\":\"95136177-f6ec-4b83-ac24-bf0eac7caaaa\",\"type\":\"BasicTicker\"}},\"id\":\"bcd1c688-2a93-43be-b8a3-c3c42408331e\",\"type\":\"LinearAxis\"},{\"attributes\":{\"fill_alpha\":{\"value\":0.1},\"fill_color\":{\"value\":\"#1f77b4\"},\"line_alpha\":{\"value\":0.1},\"line_color\":{\"value\":\"#1f77b4\"},\"size\":{\"units\":\"screen\",\"value\":7},\"x\":{\"field\":\"x\"},\"y\":{\"field\":\"y\"}},\"id\":\"c7fa1efb-33f3-4985-b9aa-21d3009ac22c\",\"type\":\"Circle\"},{\"attributes\":{},\"id\":\"95136177-f6ec-4b83-ac24-bf0eac7caaaa\",\"type\":\"BasicTicker\"},{\"attributes\":{\"dimension\":1,\"plot\":{\"id\":\"2c405841-3b0a-481b-8bf1-df967a00c092\",\"subtype\":\"Figure\",\"type\":\"Plot\"},\"ticker\":{\"id\":\"95136177-f6ec-4b83-ac24-bf0eac7caaaa\",\"type\":\"BasicTicker\"}},\"id\":\"2cb2b27e-4cd1-4c1a-b874-d03c4b40e5b5\",\"type\":\"Grid\"},{\"attributes\":{},\"id\":\"b001d60a-eb00-4e5c-ac1c-ae6b903ecd49\",\"type\":\"PanTool\"},{\"attributes\":{},\"id\":\"58beca93-ce07-450e-9bd3-62a335baa0be\",\"type\":\"WheelZoomTool\"},{\"attributes\":{},\"id\":\"2c393f51-d0ab-404d-ad58-d3015e17cf36\",\"type\":\"ResetTool\"},{\"attributes\":{},\"id\":\"eaa4983a-7e73-4a8d-97b8-83f06dcfd1cf\",\"type\":\"SaveTool\"},{\"attributes\":{\"line_alpha\":{\"value\":0.1},\"line_color\":{\"value\":\"#1f77b4\"},\"line_width\":{\"value\":3},\"x0\":{\"field\":\"x0\"},\"x1\":{\"field\":\"x1\"},\"y0\":{\"value\":0},\"y1\":{\"field\":\"y1\"}},\"id\":\"348adad7-6038-41ea-8f37-0fb2d79edc4f\",\"type\":\"Segment\"},{\"attributes\":{},\"id\":\"34479e1c-eed9-4136-b391-5290f1daeff2\",\"type\":\"Selection\"},{\"attributes\":{\"click_policy\":\"hide\",\"items\":[{\"id\":\"e9fe6794-c270-43fe-8402-e5c8b5e975bc\",\"type\":\"LegendItem\"},{\"id\":\"e4f407d8-89f4-48a2-a93b-39977f14aef9\",\"type\":\"LegendItem\"}],\"location\":\"top_left\",\"plot\":{\"id\":\"2a407481-2844-4b12-82af-6f9c9115d61e\",\"subtype\":\"Figure\",\"type\":\"Plot\"}},\"id\":\"6a0d6a47-8e5f-4571-ae24-4755fa9ff093\",\"type\":\"Legend\"},{\"attributes\":{\"callback\":null,\"data\":{\"x0\":[0,1,2,3,4,5,6,7,8,9,10,11,12,13,14,15,16,17,18,19,20],\"x1\":[0,1,2,3,4,5,6,7,8,9,10,11,12,13,14,15,16,17,18,19,20],\"y1\":{\"__ndarray__\":\"L2BteTYrwz2bgb8bWvQbPsr9jcBDXWM+AT58SJvxoD6FVy8n0wDVPnMeG61emgM/ETdyvHSWLD/eSu1tGa1QP4uIvDWAnW8/avjn8PGWiD9TB39Kg46fPz4XLFIPvLA/vCjNzxpJvT/q9T1niQbFP2pJyE2gh8g/wohUBPzkxj8Y+dJtorHAP50lZUaeVLI/oQFI36CDnD8LIYGTkAN8P8kNAd91JUo/\",\"dtype\":\"float64\",\"shape\":[21]}},\"selected\":{\"id\":\"9cddd62a-b7f1-4473-bc31-d71168bf3f95\",\"type\":\"Selection\"},\"selection_policy\":{\"id\":\"b036a300-a032-4e69-8de8-a69bee65c8b5\",\"type\":\"UnionRenderers\"}},\"id\":\"aadbc1f3-c33e-4342-850b-219f03fda668\",\"type\":\"ColumnDataSource\"},{\"attributes\":{\"line_color\":{\"value\":\"dodgerblue\"},\"line_width\":{\"value\":3},\"x0\":{\"field\":\"x0\"},\"x1\":{\"field\":\"x1\"},\"y0\":{\"value\":0},\"y1\":{\"field\":\"y1\"}},\"id\":\"a7785309-ebd7-491c-84c3-745b011a8fc8\",\"type\":\"Segment\"},{\"attributes\":{\"callback\":null,\"data\":{\"x\":[0,1,2,3,4,5,6,7,8,9,10,11,12,13,14,15,16,17,18,19,20],\"y\":{\"__ndarray__\":\"L2BteTYrwz2bgb8bWvQbPsr9jcBDXWM+AT58SJvxoD6FVy8n0wDVPnMeG61emgM/ETdyvHSWLD/eSu1tGa1QP4uIvDWAnW8/avjn8PGWiD9TB39Kg46fPz4XLFIPvLA/vCjNzxpJvT/q9T1niQbFP2pJyE2gh8g/wohUBPzkxj8Y+dJtorHAP50lZUaeVLI/oQFI36CDnD8LIYGTkAN8P8kNAd91JUo/\",\"dtype\":\"float64\",\"shape\":[21]}},\"selected\":{\"id\":\"28d66243-648c-43c2-abc8-f71ca9595144\",\"type\":\"Selection\"},\"selection_policy\":{\"id\":\"860fd985-bdb7-4449-8d11-3372c1dd24e5\",\"type\":\"UnionRenderers\"}},\"id\":\"837994c7-fcee-4627-8b24-e58d81cd4410\",\"type\":\"ColumnDataSource\"},{\"attributes\":{\"callback\":null,\"data\":{\"x\":[0,1,2,3,4,5,6,7,8,9,10,11,12,13,14,15,16,17,18,19,20],\"y\":{\"__ndarray__\":\"AAAAAAAAsD7////////0PgIAAAAAYCo///////8bVT///////zN4PwAAAAAAMZU//f///3+FrT//////39fAPwEAAAA4HNA/+////5dc2j8CAAAAtNHiPwAAAADk8ec/AAAAAAjK6z8AAAAAqCfuPwAAAAB4Vu8/AAAAAJjP7z8AAAAAcvXvPwAAAABa/u8/AAAAANb/7z8AAAAA/v/vPwAAAAAAAPA/\",\"dtype\":\"float64\",\"shape\":[21]}},\"selected\":{\"id\":\"9593b9b8-41f5-489a-a0f7-d4be22c35236\",\"type\":\"Selection\"},\"selection_policy\":{\"id\":\"1a614b32-f157-47d5-88d4-49ef1c430b18\",\"type\":\"UnionRenderers\"}},\"id\":\"44c4497d-1552-4904-a3bb-7962d4873add\",\"type\":\"ColumnDataSource\"},{\"attributes\":{\"fill_color\":{\"value\":\"red\"},\"line_color\":{\"value\":\"red\"},\"size\":{\"units\":\"screen\",\"value\":7},\"x\":{\"field\":\"x\"},\"y\":{\"field\":\"y\"}},\"id\":\"12ce51d5-542d-468d-92a9-a7d4292e4afb\",\"type\":\"Circle\"},{\"attributes\":{\"data_source\":{\"id\":\"837994c7-fcee-4627-8b24-e58d81cd4410\",\"type\":\"ColumnDataSource\"},\"glyph\":{\"id\":\"12ce51d5-542d-468d-92a9-a7d4292e4afb\",\"type\":\"Circle\"},\"hover_glyph\":null,\"muted_glyph\":null,\"nonselection_glyph\":{\"id\":\"592590e9-6572-4dd0-8fdd-a7174db0cd32\",\"type\":\"Circle\"},\"selection_glyph\":null,\"view\":{\"id\":\"6e34a6de-922a-4102-814f-60bd3c4195ab\",\"type\":\"CDSView\"}},\"id\":\"a9080dc8-37bc-4f6c-abc1-a19bae328530\",\"type\":\"GlyphRenderer\"},{\"attributes\":{\"data_source\":{\"id\":\"9e73d5dd-42cd-4856-a189-de0b726e017d\",\"type\":\"ColumnDataSource\"},\"glyph\":{\"id\":\"1deb8a50-0c5a-419d-8557-b1d84fdb7d12\",\"type\":\"Circle\"},\"hover_glyph\":null,\"muted_glyph\":null,\"nonselection_glyph\":{\"id\":\"c7fa1efb-33f3-4985-b9aa-21d3009ac22c\",\"type\":\"Circle\"},\"selection_glyph\":null,\"view\":{\"id\":\"c41e1b51-41c5-482d-8717-97cf1977df7c\",\"type\":\"CDSView\"}},\"id\":\"036e0762-84cb-442d-8648-d1c37b6d89c9\",\"type\":\"GlyphRenderer\"},{\"attributes\":{\"source\":{\"id\":\"a2c39a66-01a4-42f2-8580-30b8e7f96fbe\",\"type\":\"ColumnDataSource\"}},\"id\":\"a49a32b5-478c-4e1b-b550-8178ba945902\",\"type\":\"CDSView\"},{\"attributes\":{},\"id\":\"f7d70916-fc26-4b64-b094-1c15e74d0741\",\"type\":\"UnionRenderers\"},{\"attributes\":{\"source\":{\"id\":\"837994c7-fcee-4627-8b24-e58d81cd4410\",\"type\":\"ColumnDataSource\"}},\"id\":\"6e34a6de-922a-4102-814f-60bd3c4195ab\",\"type\":\"CDSView\"},{\"attributes\":{},\"id\":\"19988c6c-5b6f-4d8c-a769-e08575f907de\",\"type\":\"Selection\"},{\"attributes\":{\"fill_alpha\":{\"value\":0.1},\"fill_color\":{\"value\":\"#1f77b4\"},\"line_alpha\":{\"value\":0.1},\"line_color\":{\"value\":\"#1f77b4\"},\"size\":{\"units\":\"screen\",\"value\":7},\"x\":{\"field\":\"x\"},\"y\":{\"field\":\"y\"}},\"id\":\"592590e9-6572-4dd0-8fdd-a7174db0cd32\",\"type\":\"Circle\"},{\"attributes\":{},\"id\":\"e5d88126-1f89-4d64-a361-e6409137b7e2\",\"type\":\"UnionRenderers\"},{\"attributes\":{\"line_alpha\":{\"value\":0.1},\"line_color\":{\"value\":\"#1f77b4\"},\"line_width\":{\"value\":3},\"x0\":{\"field\":\"x0\"},\"x1\":{\"field\":\"x1\"},\"y0\":{\"value\":0},\"y1\":{\"field\":\"y1\"}},\"id\":\"9ebf0212-5f34-4be6-b211-db077ce9596d\",\"type\":\"Segment\"},{\"attributes\":{\"line_color\":{\"value\":\"red\"},\"line_width\":{\"value\":3},\"x0\":{\"field\":\"x0\"},\"x1\":{\"field\":\"x1\"},\"y0\":{\"value\":0},\"y1\":{\"field\":\"y1\"}},\"id\":\"b3faca70-a82c-4944-aafe-585a9b3aa9d1\",\"type\":\"Segment\"},{\"attributes\":{\"label\":{\"value\":\"n=20,p=0.70\"},\"renderers\":[{\"id\":\"a9080dc8-37bc-4f6c-abc1-a19bae328530\",\"type\":\"GlyphRenderer\"},{\"id\":\"19f9f909-05b7-4119-9c50-f809ef6f7143\",\"type\":\"GlyphRenderer\"}]},\"id\":\"e4f407d8-89f4-48a2-a93b-39977f14aef9\",\"type\":\"LegendItem\"},{\"attributes\":{\"fill_color\":{\"value\":\"red\"},\"line_color\":{\"value\":\"red\"},\"size\":{\"units\":\"screen\",\"value\":7},\"x\":{\"field\":\"x\"},\"y\":{\"field\":\"y\"}},\"id\":\"d85b6926-447d-4a96-be64-46377a7bd0d6\",\"type\":\"Circle\"},{\"attributes\":{\"data_source\":{\"id\":\"aadbc1f3-c33e-4342-850b-219f03fda668\",\"type\":\"ColumnDataSource\"},\"glyph\":{\"id\":\"b3faca70-a82c-4944-aafe-585a9b3aa9d1\",\"type\":\"Segment\"},\"hover_glyph\":null,\"muted_glyph\":null,\"nonselection_glyph\":{\"id\":\"9ebf0212-5f34-4be6-b211-db077ce9596d\",\"type\":\"Segment\"},\"selection_glyph\":null,\"view\":{\"id\":\"fc34c6ac-74d7-48dd-a2a9-90bc3f5a7953\",\"type\":\"CDSView\"}},\"id\":\"19f9f909-05b7-4119-9c50-f809ef6f7143\",\"type\":\"GlyphRenderer\"},{\"attributes\":{},\"id\":\"090aae70-5fbf-49d6-947f-ff3b7a3864d9\",\"type\":\"BasicTickFormatter\"},{\"attributes\":{\"fill_color\":{\"value\":\"dodgerblue\"},\"line_color\":{\"value\":\"dodgerblue\"},\"size\":{\"units\":\"screen\",\"value\":7},\"x\":{\"field\":\"x\"},\"y\":{\"field\":\"y\"}},\"id\":\"1deb8a50-0c5a-419d-8557-b1d84fdb7d12\",\"type\":\"Circle\"},{\"attributes\":{},\"id\":\"28d66243-648c-43c2-abc8-f71ca9595144\",\"type\":\"Selection\"},{\"attributes\":{\"fill_color\":{\"value\":\"dodgerblue\"},\"line_color\":{\"value\":\"dodgerblue\"},\"size\":{\"units\":\"screen\",\"value\":7},\"x\":{\"field\":\"x\"},\"y\":{\"field\":\"y\"}},\"id\":\"368eb55d-33d4-4196-9297-fd0c263856d6\",\"type\":\"Circle\"},{\"attributes\":{\"fill_alpha\":{\"value\":0.1},\"fill_color\":{\"value\":\"#1f77b4\"},\"line_alpha\":{\"value\":0.1},\"line_color\":{\"value\":\"#1f77b4\"},\"size\":{\"units\":\"screen\",\"value\":7},\"x\":{\"field\":\"x\"},\"y\":{\"field\":\"y\"}},\"id\":\"08877e68-5188-4776-8f1d-22925290f88a\",\"type\":\"Circle\"},{\"attributes\":{\"data_source\":{\"id\":\"44c4497d-1552-4904-a3bb-7962d4873add\",\"type\":\"ColumnDataSource\"},\"glyph\":{\"id\":\"368eb55d-33d4-4196-9297-fd0c263856d6\",\"type\":\"Circle\"},\"hover_glyph\":null,\"muted_glyph\":null,\"nonselection_glyph\":{\"id\":\"08877e68-5188-4776-8f1d-22925290f88a\",\"type\":\"Circle\"},\"selection_glyph\":null,\"view\":{\"id\":\"8713fe10-3397-4d30-bb6a-9e0ceb329d8c\",\"type\":\"CDSView\"}},\"id\":\"9ebef5b5-f7be-4b8d-86df-856763c87426\",\"type\":\"GlyphRenderer\"},{\"attributes\":{\"source\":{\"id\":\"9e73d5dd-42cd-4856-a189-de0b726e017d\",\"type\":\"ColumnDataSource\"}},\"id\":\"c41e1b51-41c5-482d-8717-97cf1977df7c\",\"type\":\"CDSView\"},{\"attributes\":{\"source\":{\"id\":\"aadbc1f3-c33e-4342-850b-219f03fda668\",\"type\":\"ColumnDataSource\"}},\"id\":\"fc34c6ac-74d7-48dd-a2a9-90bc3f5a7953\",\"type\":\"CDSView\"},{\"attributes\":{},\"id\":\"860fd985-bdb7-4449-8d11-3372c1dd24e5\",\"type\":\"UnionRenderers\"},{\"attributes\":{\"plot\":null,\"text\":\"\"},\"id\":\"0a755f16-17bd-4cdf-9525-7bcb2274dce4\",\"type\":\"Title\"},{\"attributes\":{\"below\":[{\"id\":\"333a04f4-e75b-4cf9-9106-0532bef23624\",\"type\":\"LinearAxis\"}],\"left\":[{\"id\":\"d7d40240-4cf0-4649-a03e-eb1a2573311d\",\"type\":\"LinearAxis\"}],\"plot_height\":300,\"plot_width\":400,\"renderers\":[{\"id\":\"333a04f4-e75b-4cf9-9106-0532bef23624\",\"type\":\"LinearAxis\"},{\"id\":\"1df06b32-3057-4087-949d-31b08bc96016\",\"type\":\"Grid\"},{\"id\":\"d7d40240-4cf0-4649-a03e-eb1a2573311d\",\"type\":\"LinearAxis\"},{\"id\":\"d52f4990-f3dc-4aed-bdfc-518eca726e2f\",\"type\":\"Grid\"},{\"id\":\"6a0d6a47-8e5f-4571-ae24-4755fa9ff093\",\"type\":\"Legend\"},{\"id\":\"036e0762-84cb-442d-8648-d1c37b6d89c9\",\"type\":\"GlyphRenderer\"},{\"id\":\"7c4346fd-f5e1-45cd-965e-0c067b49881c\",\"type\":\"GlyphRenderer\"},{\"id\":\"a9080dc8-37bc-4f6c-abc1-a19bae328530\",\"type\":\"GlyphRenderer\"},{\"id\":\"19f9f909-05b7-4119-9c50-f809ef6f7143\",\"type\":\"GlyphRenderer\"}],\"title\":{\"id\":\"74ad2167-43a3-4bcb-a550-90a7aaf5526a\",\"type\":\"Title\"},\"toolbar\":{\"id\":\"ec660fb9-5007-4662-959f-db4f1eeaeca1\",\"type\":\"Toolbar\"},\"x_range\":{\"id\":\"a1b7f971-8903-4725-af67-aaf10e5b8f7c\",\"type\":\"DataRange1d\"},\"x_scale\":{\"id\":\"802032ce-1805-4fc7-8a34-b681407cbcfc\",\"type\":\"LinearScale\"},\"y_range\":{\"id\":\"7bc6cfe2-9f3c-43b7-84fa-ca8d2cda9c29\",\"type\":\"DataRange1d\"},\"y_scale\":{\"id\":\"04575b87-3150-4df2-9c86-6190d807095a\",\"type\":\"LinearScale\"}},\"id\":\"2a407481-2844-4b12-82af-6f9c9115d61e\",\"subtype\":\"Figure\",\"type\":\"Plot\"},{\"attributes\":{\"source\":{\"id\":\"44c4497d-1552-4904-a3bb-7962d4873add\",\"type\":\"ColumnDataSource\"}},\"id\":\"8713fe10-3397-4d30-bb6a-9e0ceb329d8c\",\"type\":\"CDSView\"},{\"attributes\":{\"callback\":null,\"data\":{\"x\":[0,1,2,3,4,5,6,7,8,9,10,11,12,13,14,15,16,17,18,19,20],\"y\":{\"__ndarray__\":\"AAAAAAAAsD79///////zPvr/////vyc/+f/////PUT/0/////+xyP9f/////R44/8P/////soj8NAAAAAO2yPwAAAAAgwb4/9f///7+AxD/5////n43GP/X///+/gMQ/AAAAACDBvj8NAAAAAO2yP/D/////7KI/1/////9Hjj/0/////+xyP/n/////z1E/+v////+/Jz/9///////zPgAAAAAAALA+\",\"dtype\":\"float64\",\"shape\":[21]}},\"selected\":{\"id\":\"34479e1c-eed9-4136-b391-5290f1daeff2\",\"type\":\"Selection\"},\"selection_policy\":{\"id\":\"f7d70916-fc26-4b64-b094-1c15e74d0741\",\"type\":\"UnionRenderers\"}},\"id\":\"9e73d5dd-42cd-4856-a189-de0b726e017d\",\"type\":\"ColumnDataSource\"},{\"attributes\":{\"callback\":null,\"renderers\":\"auto\",\"tooltips\":[[\"\",\"$y\"]]},\"id\":\"3c0b47f2-e4f6-45ab-a27e-24428e329096\",\"type\":\"HoverTool\"},{\"attributes\":{\"callback\":null},\"id\":\"a1b7f971-8903-4725-af67-aaf10e5b8f7c\",\"type\":\"DataRange1d\"},{\"attributes\":{\"callback\":null,\"data\":{\"x\":[0,1,2,3,4,5,6,7,8,9,10,11,12,13,14,15,16,17,18,19,20],\"y\":{\"__ndarray__\":\"NWBteTYrwz2i7IrPs40cPi5VCl+xQWQ+YeNsXrY1oj4B9PzyiUfXPgu9eutPgwY/QnOoW6QbMT+sZ9eEAvRUPzgeFLzAC3U/yQN5J2mOkT+XBfw4do6oPxMaqm5KA70/a6E7nzImzT+uyzwDXhbZPzR4EBUXreI/bpolFlZm6D+6WJqxvpLsP239ZnpS3e4/ej1hgW/B7z+9P4iidvnvPwAAAAAAAPA/\",\"dtype\":\"float64\",\"shape\":[21]}},\"selected\":{\"id\":\"92540df0-7acc-42f7-80c4-328ce05344fa\",\"type\":\"Selection\"},\"selection_policy\":{\"id\":\"490dfa99-a521-4274-b3ae-b691eae74d37\",\"type\":\"UnionRenderers\"}},\"id\":\"8f145516-54f5-4e03-adfc-1942b3d7bf71\",\"type\":\"ColumnDataSource\"},{\"attributes\":{\"plot\":null,\"text\":\"Binomial Distribution\"},\"id\":\"74ad2167-43a3-4bcb-a550-90a7aaf5526a\",\"type\":\"Title\"},{\"attributes\":{\"fill_alpha\":{\"value\":0.1},\"fill_color\":{\"value\":\"#1f77b4\"},\"line_alpha\":{\"value\":0.1},\"line_color\":{\"value\":\"#1f77b4\"},\"size\":{\"units\":\"screen\",\"value\":7},\"x\":{\"field\":\"x\"},\"y\":{\"field\":\"y\"}},\"id\":\"0ff76dbb-c7a2-49ed-9675-745d3879c982\",\"type\":\"Circle\"},{\"attributes\":{\"data_source\":{\"id\":\"8f145516-54f5-4e03-adfc-1942b3d7bf71\",\"type\":\"ColumnDataSource\"},\"glyph\":{\"id\":\"d85b6926-447d-4a96-be64-46377a7bd0d6\",\"type\":\"Circle\"},\"hover_glyph\":null,\"muted_glyph\":null,\"nonselection_glyph\":{\"id\":\"0ff76dbb-c7a2-49ed-9675-745d3879c982\",\"type\":\"Circle\"},\"selection_glyph\":null,\"view\":{\"id\":\"4a25747d-fcac-47dd-9b87-d2004e6449ca\",\"type\":\"CDSView\"}},\"id\":\"e9e37182-017b-474c-a6d4-96855438aa77\",\"type\":\"GlyphRenderer\"},{\"attributes\":{},\"id\":\"cd267798-f636-4de8-b066-ff9c8304dc40\",\"type\":\"BasicTickFormatter\"},{\"attributes\":{},\"id\":\"04575b87-3150-4df2-9c86-6190d807095a\",\"type\":\"LinearScale\"},{\"attributes\":{\"source\":{\"id\":\"8f145516-54f5-4e03-adfc-1942b3d7bf71\",\"type\":\"ColumnDataSource\"}},\"id\":\"4a25747d-fcac-47dd-9b87-d2004e6449ca\",\"type\":\"CDSView\"},{\"attributes\":{\"below\":[{\"id\":\"8162bdea-b5f7-4fd9-984f-321a28fcbfa0\",\"type\":\"LinearAxis\"}],\"left\":[{\"id\":\"bcd1c688-2a93-43be-b8a3-c3c42408331e\",\"type\":\"LinearAxis\"}],\"plot_height\":300,\"plot_width\":400,\"renderers\":[{\"id\":\"8162bdea-b5f7-4fd9-984f-321a28fcbfa0\",\"type\":\"LinearAxis\"},{\"id\":\"4821c2ef-4b54-4cf6-84c5-080f60348e91\",\"type\":\"Grid\"},{\"id\":\"bcd1c688-2a93-43be-b8a3-c3c42408331e\",\"type\":\"LinearAxis\"},{\"id\":\"2cb2b27e-4cd1-4c1a-b874-d03c4b40e5b5\",\"type\":\"Grid\"},{\"id\":\"9ebef5b5-f7be-4b8d-86df-856763c87426\",\"type\":\"GlyphRenderer\"},{\"id\":\"e9e37182-017b-474c-a6d4-96855438aa77\",\"type\":\"GlyphRenderer\"}],\"title\":{\"id\":\"0a755f16-17bd-4cdf-9525-7bcb2274dce4\",\"type\":\"Title\"},\"toolbar\":{\"id\":\"62346288-7c30-479a-9d55-e5d752c33e68\",\"type\":\"Toolbar\"},\"x_range\":{\"id\":\"a1b7f971-8903-4725-af67-aaf10e5b8f7c\",\"type\":\"DataRange1d\"},\"x_scale\":{\"id\":\"fd29def3-22d2-483c-824e-1c0917079c28\",\"type\":\"LinearScale\"},\"y_range\":{\"id\":\"d8c1ce57-c6bf-4139-a3b1-707bbe055e07\",\"type\":\"Range1d\"},\"y_scale\":{\"id\":\"6986622e-c0cd-4a8e-b7a3-316df4519bad\",\"type\":\"LinearScale\"}},\"id\":\"2c405841-3b0a-481b-8bf1-df967a00c092\",\"subtype\":\"Figure\",\"type\":\"Plot\"},{\"attributes\":{\"children\":[{\"id\":\"2a407481-2844-4b12-82af-6f9c9115d61e\",\"subtype\":\"Figure\",\"type\":\"Plot\"},{\"id\":\"2c405841-3b0a-481b-8bf1-df967a00c092\",\"subtype\":\"Figure\",\"type\":\"Plot\"}]},\"id\":\"287d0010-f78e-4d63-ae1c-1bdb9875fa1f\",\"type\":\"Row\"},{\"attributes\":{\"active_drag\":\"auto\",\"active_inspect\":\"auto\",\"active_scroll\":\"auto\",\"active_tap\":\"auto\",\"tools\":[{\"id\":\"567a0d56-c2db-4973-8b71-c3cee5ccee8a\",\"type\":\"PanTool\"},{\"id\":\"e4938eeb-8379-4b08-967d-099f1d0f96f3\",\"type\":\"WheelZoomTool\"},{\"id\":\"054cdf43-9a21-4789-8f65-c01800a2dc69\",\"type\":\"ResetTool\"},{\"id\":\"101cae39-fb22-4c3b-9777-9926607fe442\",\"type\":\"SaveTool\"}]},\"id\":\"ec660fb9-5007-4662-959f-db4f1eeaeca1\",\"type\":\"Toolbar\"},{\"attributes\":{\"label\":{\"value\":\"n=20,p=0.50\"},\"renderers\":[{\"id\":\"036e0762-84cb-442d-8648-d1c37b6d89c9\",\"type\":\"GlyphRenderer\"},{\"id\":\"7c4346fd-f5e1-45cd-965e-0c067b49881c\",\"type\":\"GlyphRenderer\"}]},\"id\":\"e9fe6794-c270-43fe-8402-e5c8b5e975bc\",\"type\":\"LegendItem\"},{\"attributes\":{},\"id\":\"802032ce-1805-4fc7-8a34-b681407cbcfc\",\"type\":\"LinearScale\"},{\"attributes\":{},\"id\":\"72275a35-f9a9-4086-810e-d4640e5cd0c7\",\"type\":\"BasicTickFormatter\"},{\"attributes\":{\"callback\":null},\"id\":\"7bc6cfe2-9f3c-43b7-84fa-ca8d2cda9c29\",\"type\":\"DataRange1d\"},{\"attributes\":{},\"id\":\"9593b9b8-41f5-489a-a0f7-d4be22c35236\",\"type\":\"Selection\"},{\"attributes\":{\"axis_label\":\"k\",\"formatter\":{\"id\":\"cd267798-f636-4de8-b066-ff9c8304dc40\",\"type\":\"BasicTickFormatter\"},\"plot\":{\"id\":\"2a407481-2844-4b12-82af-6f9c9115d61e\",\"subtype\":\"Figure\",\"type\":\"Plot\"},\"ticker\":{\"id\":\"74381c8b-8764-4706-a8f1-db7ff69147de\",\"type\":\"BasicTicker\"}},\"id\":\"333a04f4-e75b-4cf9-9106-0532bef23624\",\"type\":\"LinearAxis\"},{\"attributes\":{},\"id\":\"490dfa99-a521-4274-b3ae-b691eae74d37\",\"type\":\"UnionRenderers\"},{\"attributes\":{},\"id\":\"74381c8b-8764-4706-a8f1-db7ff69147de\",\"type\":\"BasicTicker\"},{\"attributes\":{},\"id\":\"5ee10db3-4233-45b6-8383-b6513c45432e\",\"type\":\"BasicTickFormatter\"},{\"attributes\":{\"plot\":{\"id\":\"2a407481-2844-4b12-82af-6f9c9115d61e\",\"subtype\":\"Figure\",\"type\":\"Plot\"},\"ticker\":{\"id\":\"74381c8b-8764-4706-a8f1-db7ff69147de\",\"type\":\"BasicTicker\"}},\"id\":\"1df06b32-3057-4087-949d-31b08bc96016\",\"type\":\"Grid\"},{\"attributes\":{},\"id\":\"b036a300-a032-4e69-8de8-a69bee65c8b5\",\"type\":\"UnionRenderers\"},{\"attributes\":{\"axis_label\":\"f(k,n,p)\",\"formatter\":{\"id\":\"090aae70-5fbf-49d6-947f-ff3b7a3864d9\",\"type\":\"BasicTickFormatter\"},\"plot\":{\"id\":\"2a407481-2844-4b12-82af-6f9c9115d61e\",\"subtype\":\"Figure\",\"type\":\"Plot\"},\"ticker\":{\"id\":\"89931ff0-42f4-444e-a415-f5003e9a2423\",\"type\":\"BasicTicker\"}},\"id\":\"d7d40240-4cf0-4649-a03e-eb1a2573311d\",\"type\":\"LinearAxis\"},{\"attributes\":{},\"id\":\"9cddd62a-b7f1-4473-bc31-d71168bf3f95\",\"type\":\"Selection\"},{\"attributes\":{},\"id\":\"89931ff0-42f4-444e-a415-f5003e9a2423\",\"type\":\"BasicTicker\"},{\"attributes\":{\"dimension\":1,\"plot\":{\"id\":\"2a407481-2844-4b12-82af-6f9c9115d61e\",\"subtype\":\"Figure\",\"type\":\"Plot\"},\"ticker\":{\"id\":\"89931ff0-42f4-444e-a415-f5003e9a2423\",\"type\":\"BasicTicker\"}},\"id\":\"d52f4990-f3dc-4aed-bdfc-518eca726e2f\",\"type\":\"Grid\"},{\"attributes\":{},\"id\":\"1a614b32-f157-47d5-88d4-49ef1c430b18\",\"type\":\"UnionRenderers\"},{\"attributes\":{},\"id\":\"567a0d56-c2db-4973-8b71-c3cee5ccee8a\",\"type\":\"PanTool\"},{\"attributes\":{},\"id\":\"92540df0-7acc-42f7-80c4-328ce05344fa\",\"type\":\"Selection\"},{\"attributes\":{\"callback\":null,\"data\":{\"x0\":[0,1,2,3,4,5,6,7,8,9,10,11,12,13,14,15,16,17,18,19,20],\"x1\":[0,1,2,3,4,5,6,7,8,9,10,11,12,13,14,15,16,17,18,19,20],\"y1\":{\"__ndarray__\":\"AAAAAAAAsD79///////zPvr/////vyc/+f/////PUT/0/////+xyP9f/////R44/8P/////soj8NAAAAAO2yPwAAAAAgwb4/9f///7+AxD/5////n43GP/X///+/gMQ/AAAAACDBvj8NAAAAAO2yP/D/////7KI/1/////9Hjj/0/////+xyP/n/////z1E/+v////+/Jz/9///////zPgAAAAAAALA+\",\"dtype\":\"float64\",\"shape\":[21]}},\"selected\":{\"id\":\"19988c6c-5b6f-4d8c-a769-e08575f907de\",\"type\":\"Selection\"},\"selection_policy\":{\"id\":\"e5d88126-1f89-4d64-a361-e6409137b7e2\",\"type\":\"UnionRenderers\"}},\"id\":\"a2c39a66-01a4-42f2-8580-30b8e7f96fbe\",\"type\":\"ColumnDataSource\"},{\"attributes\":{\"active_drag\":\"auto\",\"active_inspect\":\"auto\",\"active_scroll\":\"auto\",\"active_tap\":\"auto\",\"tools\":[{\"id\":\"3c0b47f2-e4f6-45ab-a27e-24428e329096\",\"type\":\"HoverTool\"},{\"id\":\"b001d60a-eb00-4e5c-ac1c-ae6b903ecd49\",\"type\":\"PanTool\"},{\"id\":\"58beca93-ce07-450e-9bd3-62a335baa0be\",\"type\":\"WheelZoomTool\"},{\"id\":\"2c393f51-d0ab-404d-ad58-d3015e17cf36\",\"type\":\"ResetTool\"},{\"id\":\"eaa4983a-7e73-4a8d-97b8-83f06dcfd1cf\",\"type\":\"SaveTool\"}]},\"id\":\"62346288-7c30-479a-9d55-e5d752c33e68\",\"type\":\"Toolbar\"},{\"attributes\":{\"callback\":null,\"end\":1.05,\"start\":-0.05},\"id\":\"d8c1ce57-c6bf-4139-a3b1-707bbe055e07\",\"type\":\"Range1d\"},{\"attributes\":{},\"id\":\"101cae39-fb22-4c3b-9777-9926607fe442\",\"type\":\"SaveTool\"},{\"attributes\":{},\"id\":\"e4938eeb-8379-4b08-967d-099f1d0f96f3\",\"type\":\"WheelZoomTool\"},{\"attributes\":{},\"id\":\"054cdf43-9a21-4789-8f65-c01800a2dc69\",\"type\":\"ResetTool\"}],\"root_ids\":[\"287d0010-f78e-4d63-ae1c-1bdb9875fa1f\"]},\"title\":\"Bokeh Application\",\"version\":\"0.12.16\"}};\n",
       "  var render_items = [{\"docid\":\"0f0c2927-fda8-486a-8bdb-7ff65eae1bb3\",\"elementid\":\"f03c8fcf-d20e-4ee3-bdfa-ff5666623044\",\"modelid\":\"287d0010-f78e-4d63-ae1c-1bdb9875fa1f\"}];\n",
       "  root.Bokeh.embed.embed_items_notebook(docs_json, render_items);\n",
       "\n",
       "  }\n",
       "  if (root.Bokeh !== undefined) {\n",
       "    embed_document(root);\n",
       "  } else {\n",
       "    var attempts = 0;\n",
       "    var timer = setInterval(function(root) {\n",
       "      if (root.Bokeh !== undefined) {\n",
       "        embed_document(root);\n",
       "        clearInterval(timer);\n",
       "      }\n",
       "      attempts++;\n",
       "      if (attempts > 100) {\n",
       "        console.log(\"Bokeh: ERROR: Unable to run BokehJS code because BokehJS library is missing\")\n",
       "        clearInterval(timer);\n",
       "      }\n",
       "    }, 10, root)\n",
       "  }\n",
       "})(window);"
      ],
      "application/vnd.bokehjs_exec.v0+json": ""
     },
     "metadata": {
      "application/vnd.bokehjs_exec.v0+json": {
       "id": "287d0010-f78e-4d63-ae1c-1bdb9875fa1f"
      }
     },
     "output_type": "display_data"
    }
   ],
   "source": [
    "k = np.arange(21)\n",
    "n = 20\n",
    "p1 = 0.50\n",
    "p2 = 0.70\n",
    "\n",
    "# Tools for plots\n",
    "tools='pan,wheel_zoom,reset,save'\n",
    "\n",
    "# Set up plots\n",
    "fig_1 = Figure(width=400, height=300, tools=tools, title=\"Binomial Distribution\")\n",
    "fig_2 = Figure(width=400, height=300, tools=[tools,HoverTool(tooltips=[\n",
    "                (\"\", \"$y\")\n",
    "                ])], \n",
    "               y_range=[-0.05, 1.05])\n",
    "\n",
    "fig_1.xaxis.axis_label = 'k'\n",
    "fig_1.yaxis.axis_label = 'f(k,n,p)' \n",
    "\n",
    "fig_2.xaxis.axis_label = 'k'\n",
    "fig_2.yaxis.axis_label = 'F(k,n,p)'\n",
    "\n",
    "# Figure #1\n",
    "y1 = binom.pmf(k,n,p1)\n",
    "fig_1.circle(k, y1, size=7, color='dodgerblue',legend=\"n=20,p=0.50\")\n",
    "fig_1.segment(x0=k, x1=k, y0=0, y1=y1, line_width=3, \n",
    "              color='dodgerblue', legend=\"n=20,p=0.50\")\n",
    "\n",
    "y2 = binom.pmf(k,n,p2)\n",
    "fig_1.circle(k, y2, size=7, color='red',legend=\"n=20,p=0.70\")\n",
    "fig_1.segment(x0=k, x1=k, y0=0, y1=y2, line_width=3, \n",
    "              color='red', legend=\"n=20,p=0.70\")\n",
    "\n",
    "fig_1.legend.location = \"top_left\"\n",
    "fig_1.legend.click_policy=\"hide\"\n",
    "\n",
    "#Figure #2\n",
    "y3 = binom.cdf(k,n,p1)\n",
    "fig_2.circle(k, y3, size=7, color='dodgerblue')\n",
    "\n",
    "y4 = binom.cdf(k,n,p2)\n",
    "fig_2.circle(k, y4, size=7, color='red')\n",
    "\n",
    "# Link the x-axes\n",
    "fig_1.x_range = fig_2.x_range\n",
    "\n",
    "\n",
    "show(row([fig_1, fig_2]))"
   ]
  },
  {
   "cell_type": "markdown",
   "metadata": {},
   "source": [
    "In this example, we'll construct probability distributions. But first, let's look at the dataset we'll be using.\n",
    "\n",
    "In many countries, there are bikesharing programs where anyone can rent a bike from a depot, and return it at other depots throughout a city. There is one such program in Washington, D.C., in the US. We'll be looking at the number of bikes that were rented by day. Here are the relevant columns:\n",
    "\n",
    "- <span style=\"background-color: #F9EBEA; color:##C0392B\">dteday</span> the date that we're looking at.\n",
    "- <span style=\"background-color: #F9EBEA; color:##C0392B\">cnt</span> the total number of bikes rented.\n",
    "\n",
    "This data was collected by <span style=\"background-color: #F9EBEA; color:##C0392B\">Hadi Fanaee-T</span> at the <span style=\"background-color: #F9EBEA; color:##C0392B\">University of Porto</span>, and can be downloaded [here](http://archive.ics.uci.edu/ml/datasets/Bike+Sharing+Dataset)."
   ]
  },
  {
   "cell_type": "code",
   "execution_count": 9,
   "metadata": {
    "scrolled": true
   },
   "outputs": [
    {
     "data": {
      "text/html": [
       "<div>\n",
       "<style scoped>\n",
       "    .dataframe tbody tr th:only-of-type {\n",
       "        vertical-align: middle;\n",
       "    }\n",
       "\n",
       "    .dataframe tbody tr th {\n",
       "        vertical-align: top;\n",
       "    }\n",
       "\n",
       "    .dataframe thead th {\n",
       "        text-align: right;\n",
       "    }\n",
       "</style>\n",
       "<table border=\"1\" class=\"dataframe\">\n",
       "  <thead>\n",
       "    <tr style=\"text-align: right;\">\n",
       "      <th></th>\n",
       "      <th>instant</th>\n",
       "      <th>dteday</th>\n",
       "      <th>season</th>\n",
       "      <th>yr</th>\n",
       "      <th>mnth</th>\n",
       "      <th>holiday</th>\n",
       "      <th>weekday</th>\n",
       "      <th>workingday</th>\n",
       "      <th>weathersit</th>\n",
       "      <th>temp</th>\n",
       "      <th>atemp</th>\n",
       "      <th>hum</th>\n",
       "      <th>windspeed</th>\n",
       "      <th>casual</th>\n",
       "      <th>registered</th>\n",
       "      <th>cnt</th>\n",
       "    </tr>\n",
       "  </thead>\n",
       "  <tbody>\n",
       "    <tr>\n",
       "      <th>0</th>\n",
       "      <td>1</td>\n",
       "      <td>2011-01-01</td>\n",
       "      <td>1</td>\n",
       "      <td>0</td>\n",
       "      <td>1</td>\n",
       "      <td>0</td>\n",
       "      <td>6</td>\n",
       "      <td>0</td>\n",
       "      <td>2</td>\n",
       "      <td>0.344167</td>\n",
       "      <td>0.363625</td>\n",
       "      <td>0.805833</td>\n",
       "      <td>0.160446</td>\n",
       "      <td>331</td>\n",
       "      <td>654</td>\n",
       "      <td>985</td>\n",
       "    </tr>\n",
       "    <tr>\n",
       "      <th>1</th>\n",
       "      <td>2</td>\n",
       "      <td>2011-01-02</td>\n",
       "      <td>1</td>\n",
       "      <td>0</td>\n",
       "      <td>1</td>\n",
       "      <td>0</td>\n",
       "      <td>0</td>\n",
       "      <td>0</td>\n",
       "      <td>2</td>\n",
       "      <td>0.363478</td>\n",
       "      <td>0.353739</td>\n",
       "      <td>0.696087</td>\n",
       "      <td>0.248539</td>\n",
       "      <td>131</td>\n",
       "      <td>670</td>\n",
       "      <td>801</td>\n",
       "    </tr>\n",
       "    <tr>\n",
       "      <th>2</th>\n",
       "      <td>3</td>\n",
       "      <td>2011-01-03</td>\n",
       "      <td>1</td>\n",
       "      <td>0</td>\n",
       "      <td>1</td>\n",
       "      <td>0</td>\n",
       "      <td>1</td>\n",
       "      <td>1</td>\n",
       "      <td>1</td>\n",
       "      <td>0.196364</td>\n",
       "      <td>0.189405</td>\n",
       "      <td>0.437273</td>\n",
       "      <td>0.248309</td>\n",
       "      <td>120</td>\n",
       "      <td>1229</td>\n",
       "      <td>1349</td>\n",
       "    </tr>\n",
       "    <tr>\n",
       "      <th>3</th>\n",
       "      <td>4</td>\n",
       "      <td>2011-01-04</td>\n",
       "      <td>1</td>\n",
       "      <td>0</td>\n",
       "      <td>1</td>\n",
       "      <td>0</td>\n",
       "      <td>2</td>\n",
       "      <td>1</td>\n",
       "      <td>1</td>\n",
       "      <td>0.200000</td>\n",
       "      <td>0.212122</td>\n",
       "      <td>0.590435</td>\n",
       "      <td>0.160296</td>\n",
       "      <td>108</td>\n",
       "      <td>1454</td>\n",
       "      <td>1562</td>\n",
       "    </tr>\n",
       "    <tr>\n",
       "      <th>4</th>\n",
       "      <td>5</td>\n",
       "      <td>2011-01-05</td>\n",
       "      <td>1</td>\n",
       "      <td>0</td>\n",
       "      <td>1</td>\n",
       "      <td>0</td>\n",
       "      <td>3</td>\n",
       "      <td>1</td>\n",
       "      <td>1</td>\n",
       "      <td>0.226957</td>\n",
       "      <td>0.229270</td>\n",
       "      <td>0.436957</td>\n",
       "      <td>0.186900</td>\n",
       "      <td>82</td>\n",
       "      <td>1518</td>\n",
       "      <td>1600</td>\n",
       "    </tr>\n",
       "  </tbody>\n",
       "</table>\n",
       "</div>"
      ],
      "text/plain": [
       "   instant      dteday  season  yr  mnth  holiday  weekday  workingday  \\\n",
       "0        1  2011-01-01       1   0     1        0        6           0   \n",
       "1        2  2011-01-02       1   0     1        0        0           0   \n",
       "2        3  2011-01-03       1   0     1        0        1           1   \n",
       "3        4  2011-01-04       1   0     1        0        2           1   \n",
       "4        5  2011-01-05       1   0     1        0        3           1   \n",
       "\n",
       "   weathersit      temp     atemp       hum  windspeed  casual  registered  \\\n",
       "0           2  0.344167  0.363625  0.805833   0.160446     331         654   \n",
       "1           2  0.363478  0.353739  0.696087   0.248539     131         670   \n",
       "2           1  0.196364  0.189405  0.437273   0.248309     120        1229   \n",
       "3           1  0.200000  0.212122  0.590435   0.160296     108        1454   \n",
       "4           1  0.226957  0.229270  0.436957   0.186900      82        1518   \n",
       "\n",
       "    cnt  \n",
       "0   985  \n",
       "1   801  \n",
       "2  1349  \n",
       "3  1562  \n",
       "4  1600  "
      ]
     },
     "execution_count": 9,
     "metadata": {},
     "output_type": "execute_result"
    }
   ],
   "source": [
    "import pandas as pd\n",
    "bikes = pd.read_csv(\"bike_rental_day.csv\")\n",
    "bikes.head()"
   ]
  },
  {
   "cell_type": "markdown",
   "metadata": {},
   "source": [
    "<br>\n",
    "<div class=\"alert alert-info\">\n",
    "<b>Exercise Start.</b>\n",
    "</div>\n",
    "\n",
    "**Description**:\n",
    "\n",
    "1. Find the probability of there being more than <span style=\"background-color: #F9EBEA; color:##C0392B\">5000</span> riders in a single day (using the <span style=\"background-color: #F9EBEA; color:##C0392B\">cnt</span> column). \n",
    "2. Assign the result to <span style=\"background-color: #F9EBEA; color:##C0392B\">prob\\_over\\_5000</span>\n",
    "3. What is the probability that the bikesharing system has in a month at least 10 days with more than 5k riders?\n"
   ]
  },
  {
   "cell_type": "markdown",
   "metadata": {},
   "source": [
    "## Geometric Distribution\n",
    "\n",
    "\n",
    "$$\n",
    "\\begin{eqnarray*}\n",
    "P(X = k)  \\Leftrightarrow  f(k,p)  & = &\n",
    "\\begin{cases}\n",
    "               \\displaystyle (1-p)^{k-1}*p \\ \\ \\ k = 1,2,3,\\ldots \\\\\n",
    "               \\textrm{caso contrário}\n",
    "\\end{cases}\\\\\n",
    "P(X \\leq k) \\Leftrightarrow  F(k,p)  & = &\n",
    "               \\displaystyle \\sum_{i=1}^{k}  (1-p)^{k-1}*p \\\\\n",
    "               & = & 1 - (1-p)^k\n",
    "\\end{eqnarray*}\n",
    "$$"
   ]
  },
  {
   "cell_type": "code",
   "execution_count": 10,
   "metadata": {
    "scrolled": true
   },
   "outputs": [
    {
     "data": {
      "text/html": [
       "\n",
       "<div class=\"bk-root\">\n",
       "    <div class=\"bk-plotdiv\" id=\"f39fe3c1-bfeb-40dd-b600-b10440afde43\"></div>\n",
       "</div>"
      ]
     },
     "metadata": {},
     "output_type": "display_data"
    },
    {
     "data": {
      "application/javascript": [
       "(function(root) {\n",
       "  function embed_document(root) {\n",
       "    \n",
       "  var docs_json = {\"014fd3eb-1827-4a54-bba2-30ca8fe992ea\":{\"roots\":{\"references\":[{\"attributes\":{\"plot\":{\"id\":\"02f83dbe-551d-444c-8be8-4963365d00d2\",\"subtype\":\"Figure\",\"type\":\"Plot\"},\"ticker\":{\"id\":\"226d8e51-b11a-4179-abcb-e3309a838da0\",\"type\":\"BasicTicker\"}},\"id\":\"0d046b37-4c4f-47e9-ada8-0c4f26ec0a36\",\"type\":\"Grid\"},{\"attributes\":{\"fill_color\":{\"value\":\"dodgerblue\"},\"line_color\":{\"value\":\"dodgerblue\"},\"size\":{\"units\":\"screen\",\"value\":7},\"x\":{\"field\":\"x\"},\"y\":{\"field\":\"y\"}},\"id\":\"714c1127-27ac-459e-9159-b46c5ac3e6b9\",\"type\":\"Circle\"},{\"attributes\":{\"axis_label\":\"F(k,p)\",\"formatter\":{\"id\":\"983a2b42-83b4-46bf-97aa-afc4c172417d\",\"type\":\"BasicTickFormatter\"},\"plot\":{\"id\":\"02f83dbe-551d-444c-8be8-4963365d00d2\",\"subtype\":\"Figure\",\"type\":\"Plot\"},\"ticker\":{\"id\":\"eaa06079-c71b-406d-8d52-fe9f21ddcab5\",\"type\":\"BasicTicker\"}},\"id\":\"654782e3-8432-4335-a029-ab33074efea4\",\"type\":\"LinearAxis\"},{\"attributes\":{},\"id\":\"eaa06079-c71b-406d-8d52-fe9f21ddcab5\",\"type\":\"BasicTicker\"},{\"attributes\":{\"dimension\":1,\"plot\":{\"id\":\"02f83dbe-551d-444c-8be8-4963365d00d2\",\"subtype\":\"Figure\",\"type\":\"Plot\"},\"ticker\":{\"id\":\"eaa06079-c71b-406d-8d52-fe9f21ddcab5\",\"type\":\"BasicTicker\"}},\"id\":\"53ed522e-9dee-4543-9e8e-410126beec53\",\"type\":\"Grid\"},{\"attributes\":{},\"id\":\"110b676e-4898-4015-98cb-b90ed8f425de\",\"type\":\"BasicTickFormatter\"},{\"attributes\":{\"source\":{\"id\":\"0c649faf-ff78-45c3-a14c-d9df1ceb8e9b\",\"type\":\"ColumnDataSource\"}},\"id\":\"cf41f188-fee7-4c55-be2e-303a0075a0fe\",\"type\":\"CDSView\"},{\"attributes\":{},\"id\":\"950c2a52-7c1b-4ee4-b32a-8bbb8871d53b\",\"type\":\"PanTool\"},{\"attributes\":{\"data_source\":{\"id\":\"0c649faf-ff78-45c3-a14c-d9df1ceb8e9b\",\"type\":\"ColumnDataSource\"},\"glyph\":{\"id\":\"714c1127-27ac-459e-9159-b46c5ac3e6b9\",\"type\":\"Circle\"},\"hover_glyph\":null,\"muted_glyph\":null,\"nonselection_glyph\":{\"id\":\"6f0b39ae-3383-4fde-a50f-d16092539813\",\"type\":\"Circle\"},\"selection_glyph\":null,\"view\":{\"id\":\"cf41f188-fee7-4c55-be2e-303a0075a0fe\",\"type\":\"CDSView\"}},\"id\":\"e27aca0a-11ce-4d8a-9666-494864170608\",\"type\":\"GlyphRenderer\"},{\"attributes\":{},\"id\":\"9c376338-b09e-4789-af91-195dcc51cb28\",\"type\":\"WheelZoomTool\"},{\"attributes\":{},\"id\":\"68ce39a7-9b68-4697-80d4-3e41731a3975\",\"type\":\"ResetTool\"},{\"attributes\":{},\"id\":\"2a7ea1bf-a7d9-40d0-a8cd-053e0a72744d\",\"type\":\"SaveTool\"},{\"attributes\":{\"fill_alpha\":{\"value\":0.1},\"fill_color\":{\"value\":\"#1f77b4\"},\"line_alpha\":{\"value\":0.1},\"line_color\":{\"value\":\"#1f77b4\"},\"size\":{\"units\":\"screen\",\"value\":7},\"x\":{\"field\":\"x\"},\"y\":{\"field\":\"y\"}},\"id\":\"6f0b39ae-3383-4fde-a50f-d16092539813\",\"type\":\"Circle\"},{\"attributes\":{\"label\":{\"value\":\"p=0.30\"},\"renderers\":[{\"id\":\"e27aca0a-11ce-4d8a-9666-494864170608\",\"type\":\"GlyphRenderer\"},{\"id\":\"533d2605-099b-439f-9a6a-40cb3c37e250\",\"type\":\"GlyphRenderer\"}]},\"id\":\"e250dc15-ddd2-4b62-8c3b-6519067a55ab\",\"type\":\"LegendItem\"},{\"attributes\":{},\"id\":\"e25c08ed-ac9a-485d-b17d-54d1c6e868aa\",\"type\":\"BasicTickFormatter\"},{\"attributes\":{\"data_source\":{\"id\":\"f53b3d02-5672-42f0-b1f7-382c8c2fa8b9\",\"type\":\"ColumnDataSource\"},\"glyph\":{\"id\":\"b8e81811-cd4e-4e5b-b897-4e4f8b942586\",\"type\":\"Segment\"},\"hover_glyph\":null,\"muted_glyph\":null,\"nonselection_glyph\":{\"id\":\"bbc893c0-a8ff-4ac6-bfcd-3b7605c6626c\",\"type\":\"Segment\"},\"selection_glyph\":null,\"view\":{\"id\":\"09ae365b-e1dd-41cd-9aab-20090ec8d76b\",\"type\":\"CDSView\"}},\"id\":\"533d2605-099b-439f-9a6a-40cb3c37e250\",\"type\":\"GlyphRenderer\"},{\"attributes\":{\"line_alpha\":{\"value\":0.1},\"line_color\":{\"value\":\"#1f77b4\"},\"line_width\":{\"value\":3},\"x0\":{\"field\":\"x0\"},\"x1\":{\"field\":\"x1\"},\"y0\":{\"value\":0},\"y1\":{\"field\":\"y1\"}},\"id\":\"bbc893c0-a8ff-4ac6-bfcd-3b7605c6626c\",\"type\":\"Segment\"},{\"attributes\":{},\"id\":\"bba3c940-dc7c-4554-845d-c652a5f93d9e\",\"type\":\"Selection\"},{\"attributes\":{\"click_policy\":\"hide\",\"items\":[{\"id\":\"e250dc15-ddd2-4b62-8c3b-6519067a55ab\",\"type\":\"LegendItem\"},{\"id\":\"23b47b54-d72e-44a6-b45d-181069e482b6\",\"type\":\"LegendItem\"}],\"plot\":{\"id\":\"ccff16f2-d5b8-4f98-9e39-1b18e2c13cfb\",\"subtype\":\"Figure\",\"type\":\"Plot\"}},\"id\":\"e4e9b709-e136-408b-8a1f-f2ecc35bbdc8\",\"type\":\"Legend\"},{\"attributes\":{\"callback\":null,\"data\":{\"x0\":[1,2,3,4,5,6,7,8,9,10,11,12,13,14,15,16,17,18,19,20,21],\"x1\":[1,2,3,4,5,6,7,8,9,10,11,12,13,14,15,16,17,18,19,20,21],\"y1\":{\"__ndarray__\":\"ZmZmZmZm5j/iehSuR+HKP1XjpZvEILA/mt2Th4Vakz+61hcJbTl3P+A0tteC3ls/VLnT57S4QD/MRDEW2RAkP1wfO7Q3FAg/PL8TpQ/l7D5YDD+WPFbRPgRC5U3izbQ+oLWskA/3mD5bQM/gRfV9PgSNr1OQ+WE+0kJsZOCRRT7K6YF4QOIpPlvlm5CADw8+a1Yqveai8j3nmv/iFF3WPRftZRAZ1ro9\",\"dtype\":\"float64\",\"shape\":[21]}},\"selected\":{\"id\":\"5657f407-1b49-4f14-bcbd-f0da68fdd09a\",\"type\":\"Selection\"},\"selection_policy\":{\"id\":\"46e32f9a-a484-400d-aa58-58d84c8c2e65\",\"type\":\"UnionRenderers\"}},\"id\":\"4bc14c2a-8da0-46b4-86f4-969869806f9e\",\"type\":\"ColumnDataSource\"},{\"attributes\":{\"line_color\":{\"value\":\"dodgerblue\"},\"line_width\":{\"value\":3},\"x0\":{\"field\":\"x0\"},\"x1\":{\"field\":\"x1\"},\"y0\":{\"value\":0},\"y1\":{\"field\":\"y1\"}},\"id\":\"b8e81811-cd4e-4e5b-b897-4e4f8b942586\",\"type\":\"Segment\"},{\"attributes\":{\"callback\":null,\"data\":{\"x\":[1,2,3,4,5,6,7,8,9,10,11,12,13,14,15,16,17,18,19,20,21],\"y\":{\"__ndarray__\":\"ZmZmZmZm5j/iehSuR+HKP1XjpZvEILA/mt2Th4Vakz+61hcJbTl3P+A0tteC3ls/VLnT57S4QD/MRDEW2RAkP1wfO7Q3FAg/PL8TpQ/l7D5YDD+WPFbRPgRC5U3izbQ+oLWskA/3mD5bQM/gRfV9PgSNr1OQ+WE+0kJsZOCRRT7K6YF4QOIpPlvlm5CADw8+a1Yqveai8j3nmv/iFF3WPRftZRAZ1ro9\",\"dtype\":\"float64\",\"shape\":[21]}},\"selected\":{\"id\":\"1f237392-b26c-4b52-bc73-fc2641dac6b9\",\"type\":\"Selection\"},\"selection_policy\":{\"id\":\"d03b6bd7-f2a5-4401-b749-0cd517f6979b\",\"type\":\"UnionRenderers\"}},\"id\":\"4c580f77-e20b-4bac-b3c0-0e6484b65096\",\"type\":\"ColumnDataSource\"},{\"attributes\":{\"callback\":null,\"data\":{\"x\":[1,2,3,4,5,6,7,8,9,10,11,12,13,14,15,16,17,18,19,20,21],\"y\":{\"__ndarray__\":\"MzMzMzMz0z9SuB6F61HgP58aL90kBuU/b18HzhlR6D8B9tGpK5/qPwH5Eio4POw/tBTag1pd7T9L20tcvyfuP4EZNVpste4/2pGLpZgY7z/msuFzBF7vP6FjhLecju8/JKzc5qCw7z9/eJqhcMjvP4yHUqQb2e8/ryugjMbk7z+UHnBi8ezvP5tIG/io8u8/oH95eqn27z+9P4iidvnvP2r5+KRs++8/\",\"dtype\":\"float64\",\"shape\":[21]}},\"selected\":{\"id\":\"377edecc-db5f-4048-807a-ab2ef4ea2cba\",\"type\":\"Selection\"},\"selection_policy\":{\"id\":\"31b86bd4-d5a0-4a15-9b08-61e6f98a3da2\",\"type\":\"UnionRenderers\"}},\"id\":\"eeacd3c3-0955-4f1a-821d-d4dea209478d\",\"type\":\"ColumnDataSource\"},{\"attributes\":{\"fill_color\":{\"value\":\"red\"},\"line_color\":{\"value\":\"red\"},\"size\":{\"units\":\"screen\",\"value\":7},\"x\":{\"field\":\"x\"},\"y\":{\"field\":\"y\"}},\"id\":\"859807ba-c06d-4a81-b5d9-7b92d59ad765\",\"type\":\"Circle\"},{\"attributes\":{\"fill_alpha\":{\"value\":0.1},\"fill_color\":{\"value\":\"#1f77b4\"},\"line_alpha\":{\"value\":0.1},\"line_color\":{\"value\":\"#1f77b4\"},\"size\":{\"units\":\"screen\",\"value\":7},\"x\":{\"field\":\"x\"},\"y\":{\"field\":\"y\"}},\"id\":\"49b2cfb9-bcfa-4fd0-9827-0c2bdd0bdfc3\",\"type\":\"Circle\"},{\"attributes\":{\"source\":{\"id\":\"f53b3d02-5672-42f0-b1f7-382c8c2fa8b9\",\"type\":\"ColumnDataSource\"}},\"id\":\"09ae365b-e1dd-41cd-9aab-20090ec8d76b\",\"type\":\"CDSView\"},{\"attributes\":{},\"id\":\"9b827a2d-4a3a-4c81-a1bb-f518940d309d\",\"type\":\"UnionRenderers\"},{\"attributes\":{\"data_source\":{\"id\":\"4c580f77-e20b-4bac-b3c0-0e6484b65096\",\"type\":\"ColumnDataSource\"},\"glyph\":{\"id\":\"859807ba-c06d-4a81-b5d9-7b92d59ad765\",\"type\":\"Circle\"},\"hover_glyph\":null,\"muted_glyph\":null,\"nonselection_glyph\":{\"id\":\"49b2cfb9-bcfa-4fd0-9827-0c2bdd0bdfc3\",\"type\":\"Circle\"},\"selection_glyph\":null,\"view\":{\"id\":\"85832940-1a2c-4b11-ba2e-e252dc3bfb49\",\"type\":\"CDSView\"}},\"id\":\"46833b72-16f0-461f-87af-5ee648df8dbf\",\"type\":\"GlyphRenderer\"},{\"attributes\":{\"source\":{\"id\":\"4c580f77-e20b-4bac-b3c0-0e6484b65096\",\"type\":\"ColumnDataSource\"}},\"id\":\"85832940-1a2c-4b11-ba2e-e252dc3bfb49\",\"type\":\"CDSView\"},{\"attributes\":{},\"id\":\"18a15547-8cd3-4052-8d57-0790c1f6a164\",\"type\":\"Selection\"},{\"attributes\":{},\"id\":\"7cee4d1d-4b4f-4537-91a9-02ca9de3bb76\",\"type\":\"UnionRenderers\"},{\"attributes\":{\"line_alpha\":{\"value\":0.1},\"line_color\":{\"value\":\"#1f77b4\"},\"line_width\":{\"value\":3},\"x0\":{\"field\":\"x0\"},\"x1\":{\"field\":\"x1\"},\"y0\":{\"value\":0},\"y1\":{\"field\":\"y1\"}},\"id\":\"8d8c3cf6-4e6d-47ae-a3a7-70f5953b4dd4\",\"type\":\"Segment\"},{\"attributes\":{\"line_color\":{\"value\":\"red\"},\"line_width\":{\"value\":3},\"x0\":{\"field\":\"x0\"},\"x1\":{\"field\":\"x1\"},\"y0\":{\"value\":0},\"y1\":{\"field\":\"y1\"}},\"id\":\"aa6a8c49-81da-49b7-9b37-decacef01df0\",\"type\":\"Segment\"},{\"attributes\":{\"label\":{\"value\":\"p=0.70\"},\"renderers\":[{\"id\":\"46833b72-16f0-461f-87af-5ee648df8dbf\",\"type\":\"GlyphRenderer\"},{\"id\":\"f1280cc0-a489-4a79-a45f-75ecd5f7cafb\",\"type\":\"GlyphRenderer\"}]},\"id\":\"23b47b54-d72e-44a6-b45d-181069e482b6\",\"type\":\"LegendItem\"},{\"attributes\":{\"fill_color\":{\"value\":\"red\"},\"line_color\":{\"value\":\"red\"},\"size\":{\"units\":\"screen\",\"value\":7},\"x\":{\"field\":\"x\"},\"y\":{\"field\":\"y\"}},\"id\":\"f70f8012-ada4-4d1a-b8ea-6dde7e1bfdd0\",\"type\":\"Circle\"},{\"attributes\":{\"data_source\":{\"id\":\"4bc14c2a-8da0-46b4-86f4-969869806f9e\",\"type\":\"ColumnDataSource\"},\"glyph\":{\"id\":\"aa6a8c49-81da-49b7-9b37-decacef01df0\",\"type\":\"Segment\"},\"hover_glyph\":null,\"muted_glyph\":null,\"nonselection_glyph\":{\"id\":\"8d8c3cf6-4e6d-47ae-a3a7-70f5953b4dd4\",\"type\":\"Segment\"},\"selection_glyph\":null,\"view\":{\"id\":\"ea30b9c3-7049-49bf-b3d7-bb8041ff30cf\",\"type\":\"CDSView\"}},\"id\":\"f1280cc0-a489-4a79-a45f-75ecd5f7cafb\",\"type\":\"GlyphRenderer\"},{\"attributes\":{},\"id\":\"1f237392-b26c-4b52-bc73-fc2641dac6b9\",\"type\":\"Selection\"},{\"attributes\":{\"fill_color\":{\"value\":\"dodgerblue\"},\"line_color\":{\"value\":\"dodgerblue\"},\"size\":{\"units\":\"screen\",\"value\":7},\"x\":{\"field\":\"x\"},\"y\":{\"field\":\"y\"}},\"id\":\"30661bf8-7e82-4ec1-aa4f-f462f05b3be3\",\"type\":\"Circle\"},{\"attributes\":{\"fill_alpha\":{\"value\":0.1},\"fill_color\":{\"value\":\"#1f77b4\"},\"line_alpha\":{\"value\":0.1},\"line_color\":{\"value\":\"#1f77b4\"},\"size\":{\"units\":\"screen\",\"value\":7},\"x\":{\"field\":\"x\"},\"y\":{\"field\":\"y\"}},\"id\":\"793ededf-b5f4-4119-be08-b07f0c9437e2\",\"type\":\"Circle\"},{\"attributes\":{\"source\":{\"id\":\"4bc14c2a-8da0-46b4-86f4-969869806f9e\",\"type\":\"ColumnDataSource\"}},\"id\":\"ea30b9c3-7049-49bf-b3d7-bb8041ff30cf\",\"type\":\"CDSView\"},{\"attributes\":{},\"id\":\"d03b6bd7-f2a5-4401-b749-0cd517f6979b\",\"type\":\"UnionRenderers\"},{\"attributes\":{\"plot\":null,\"text\":\"\"},\"id\":\"1e6d51da-89ea-4442-b774-5e85aa408a57\",\"type\":\"Title\"},{\"attributes\":{\"callback\":null,\"renderers\":\"auto\",\"tooltips\":[[\"\",\"$y\"]]},\"id\":\"b0e51569-7cf0-41c2-a223-c5edca37f7f0\",\"type\":\"HoverTool\"},{\"attributes\":{\"active_drag\":\"auto\",\"active_inspect\":\"auto\",\"active_scroll\":\"auto\",\"active_tap\":\"auto\",\"tools\":[{\"id\":\"a6eba220-8c40-48df-aac4-b935d606950d\",\"type\":\"PanTool\"},{\"id\":\"c89d3f6f-0ac3-48f4-a593-34c927bfd5e6\",\"type\":\"WheelZoomTool\"},{\"id\":\"e6d5aad5-1d4b-45d3-9184-743a761cea7a\",\"type\":\"ResetTool\"},{\"id\":\"d32e3bae-ab7a-46a3-b94a-df62b5149a39\",\"type\":\"SaveTool\"}]},\"id\":\"d4bc22cb-09d2-4c28-a3af-6c13c3e7f05f\",\"type\":\"Toolbar\"},{\"attributes\":{\"data_source\":{\"id\":\"eeacd3c3-0955-4f1a-821d-d4dea209478d\",\"type\":\"ColumnDataSource\"},\"glyph\":{\"id\":\"30661bf8-7e82-4ec1-aa4f-f462f05b3be3\",\"type\":\"Circle\"},\"hover_glyph\":null,\"muted_glyph\":null,\"nonselection_glyph\":{\"id\":\"793ededf-b5f4-4119-be08-b07f0c9437e2\",\"type\":\"Circle\"},\"selection_glyph\":null,\"view\":{\"id\":\"169dbf54-24c6-49db-b59a-6c35fda9f901\",\"type\":\"CDSView\"}},\"id\":\"c2a21cd7-8f41-407b-9ef5-8ac1986b97cf\",\"type\":\"GlyphRenderer\"},{\"attributes\":{\"callback\":null,\"data\":{\"x\":[1,2,3,4,5,6,7,8,9,10,11,12,13,14,15,16,17,18,19,20,21],\"y\":{\"__ndarray__\":\"MzMzMzMz0z/hehSuR+HKPzaJQWDl0MI/fybChqdXuj+MtFTejnCyP/YvEATI0Kk/LLtxnCUSoj/X0jgOm0yZP8nGJ72ftZE/TRae1RLLiD/PQoiV81qBP4hdWNEhTHg/eEEkrBcCcT+oW8y9us9nP/UMD7gCq2A/V0VIm9BVVz8jyuWfq1VQP/0aqKxW3kY/5BLceAkCQD8/5wB2QGk2P1fdmgsnYC8/\",\"dtype\":\"float64\",\"shape\":[21]}},\"selected\":{\"id\":\"bba3c940-dc7c-4554-845d-c652a5f93d9e\",\"type\":\"Selection\"},\"selection_policy\":{\"id\":\"9b827a2d-4a3a-4c81-a1bb-f518940d309d\",\"type\":\"UnionRenderers\"}},\"id\":\"0c649faf-ff78-45c3-a14c-d9df1ceb8e9b\",\"type\":\"ColumnDataSource\"},{\"attributes\":{\"below\":[{\"id\":\"c94c55d4-03b7-473d-a683-562027ff0bdf\",\"type\":\"LinearAxis\"}],\"left\":[{\"id\":\"654782e3-8432-4335-a029-ab33074efea4\",\"type\":\"LinearAxis\"}],\"plot_height\":300,\"plot_width\":400,\"renderers\":[{\"id\":\"c94c55d4-03b7-473d-a683-562027ff0bdf\",\"type\":\"LinearAxis\"},{\"id\":\"0d046b37-4c4f-47e9-ada8-0c4f26ec0a36\",\"type\":\"Grid\"},{\"id\":\"654782e3-8432-4335-a029-ab33074efea4\",\"type\":\"LinearAxis\"},{\"id\":\"53ed522e-9dee-4543-9e8e-410126beec53\",\"type\":\"Grid\"},{\"id\":\"c2a21cd7-8f41-407b-9ef5-8ac1986b97cf\",\"type\":\"GlyphRenderer\"},{\"id\":\"765b3987-240e-4330-a461-55210cf3d482\",\"type\":\"GlyphRenderer\"}],\"title\":{\"id\":\"1e6d51da-89ea-4442-b774-5e85aa408a57\",\"type\":\"Title\"},\"toolbar\":{\"id\":\"b45a55a2-d322-46db-acde-63980fbe53fd\",\"type\":\"Toolbar\"},\"x_range\":{\"id\":\"55c2a5eb-02af-44c8-b87f-487b8174c789\",\"type\":\"DataRange1d\"},\"x_scale\":{\"id\":\"a60288ca-d0e4-42ac-8a0a-3cdfd1ae12fc\",\"type\":\"LinearScale\"},\"y_range\":{\"id\":\"f0db2efa-1895-4b82-b2ae-3c83e9fdbbe9\",\"type\":\"Range1d\"},\"y_scale\":{\"id\":\"3b34eff6-93f9-4840-9966-09f971d7d10e\",\"type\":\"LinearScale\"}},\"id\":\"02f83dbe-551d-444c-8be8-4963365d00d2\",\"subtype\":\"Figure\",\"type\":\"Plot\"},{\"attributes\":{\"source\":{\"id\":\"eeacd3c3-0955-4f1a-821d-d4dea209478d\",\"type\":\"ColumnDataSource\"}},\"id\":\"169dbf54-24c6-49db-b59a-6c35fda9f901\",\"type\":\"CDSView\"},{\"attributes\":{\"below\":[{\"id\":\"6b0e93a9-168d-44e2-920c-afc4019ad08e\",\"type\":\"LinearAxis\"}],\"left\":[{\"id\":\"62497868-ab13-451a-9b80-33f4ce8d081b\",\"type\":\"LinearAxis\"}],\"plot_height\":300,\"plot_width\":400,\"renderers\":[{\"id\":\"6b0e93a9-168d-44e2-920c-afc4019ad08e\",\"type\":\"LinearAxis\"},{\"id\":\"b5e832db-6f54-48e2-81db-99ccf98b9b50\",\"type\":\"Grid\"},{\"id\":\"62497868-ab13-451a-9b80-33f4ce8d081b\",\"type\":\"LinearAxis\"},{\"id\":\"ac4d67ad-4a46-4956-802f-cf3cef7c0561\",\"type\":\"Grid\"},{\"id\":\"e4e9b709-e136-408b-8a1f-f2ecc35bbdc8\",\"type\":\"Legend\"},{\"id\":\"e27aca0a-11ce-4d8a-9666-494864170608\",\"type\":\"GlyphRenderer\"},{\"id\":\"533d2605-099b-439f-9a6a-40cb3c37e250\",\"type\":\"GlyphRenderer\"},{\"id\":\"46833b72-16f0-461f-87af-5ee648df8dbf\",\"type\":\"GlyphRenderer\"},{\"id\":\"f1280cc0-a489-4a79-a45f-75ecd5f7cafb\",\"type\":\"GlyphRenderer\"}],\"title\":{\"id\":\"d9ad718a-f616-4c7e-8505-8e1cabeebabc\",\"type\":\"Title\"},\"toolbar\":{\"id\":\"d4bc22cb-09d2-4c28-a3af-6c13c3e7f05f\",\"type\":\"Toolbar\"},\"x_range\":{\"id\":\"55c2a5eb-02af-44c8-b87f-487b8174c789\",\"type\":\"DataRange1d\"},\"x_scale\":{\"id\":\"7be47ad1-cb78-40b3-96dc-3c0339a32eef\",\"type\":\"LinearScale\"},\"y_range\":{\"id\":\"e77a9058-86f1-44ee-8e08-68d23cc536c7\",\"type\":\"DataRange1d\"},\"y_scale\":{\"id\":\"bb1a3b8f-ba18-47cc-a250-61e2f6309872\",\"type\":\"LinearScale\"}},\"id\":\"ccff16f2-d5b8-4f98-9e39-1b18e2c13cfb\",\"subtype\":\"Figure\",\"type\":\"Plot\"},{\"attributes\":{\"callback\":null},\"id\":\"55c2a5eb-02af-44c8-b87f-487b8174c789\",\"type\":\"DataRange1d\"},{\"attributes\":{\"callback\":null,\"data\":{\"x\":[1,2,3,4,5,6,7,8,9,10,11,12,13,14,15,16,17,18,19,20,21],\"y\":{\"__ndarray__\":\"ZmZmZmZm5j8fhetRuB7tP4lBYOXQIu8/duCcEaW97z8jEK/rF+zvPz7rGi0H+u8/LOBUWjX+7z9AQ+Zndv/vPy0UxbjW/+8/QbnUnfP/7z9gBPNI/P/vPx1Or+L+/+8/ospnqv//7z9kVlLm///vP7jmS/j//+8/0V6w/f//7z/Ygk7////vP9rAyv///+8/qAbw////7z8yNfv////vP/aP/v///+8/\",\"dtype\":\"float64\",\"shape\":[21]}},\"selected\":{\"id\":\"3e3878c3-9256-4395-bc2a-ad7a6b9f6115\",\"type\":\"Selection\"},\"selection_policy\":{\"id\":\"255c3aaa-a529-41bf-b818-3f3e64386ee9\",\"type\":\"UnionRenderers\"}},\"id\":\"96ca3072-b9fe-4c93-ad06-90486e2eaed5\",\"type\":\"ColumnDataSource\"},{\"attributes\":{\"plot\":null,\"text\":\"Geometric Distribution\"},\"id\":\"d9ad718a-f616-4c7e-8505-8e1cabeebabc\",\"type\":\"Title\"},{\"attributes\":{\"fill_alpha\":{\"value\":0.1},\"fill_color\":{\"value\":\"#1f77b4\"},\"line_alpha\":{\"value\":0.1},\"line_color\":{\"value\":\"#1f77b4\"},\"size\":{\"units\":\"screen\",\"value\":7},\"x\":{\"field\":\"x\"},\"y\":{\"field\":\"y\"}},\"id\":\"d1374e0c-f5dc-4b49-b56d-119b644fa993\",\"type\":\"Circle\"},{\"attributes\":{},\"id\":\"7be47ad1-cb78-40b3-96dc-3c0339a32eef\",\"type\":\"LinearScale\"},{\"attributes\":{\"data_source\":{\"id\":\"96ca3072-b9fe-4c93-ad06-90486e2eaed5\",\"type\":\"ColumnDataSource\"},\"glyph\":{\"id\":\"f70f8012-ada4-4d1a-b8ea-6dde7e1bfdd0\",\"type\":\"Circle\"},\"hover_glyph\":null,\"muted_glyph\":null,\"nonselection_glyph\":{\"id\":\"d1374e0c-f5dc-4b49-b56d-119b644fa993\",\"type\":\"Circle\"},\"selection_glyph\":null,\"view\":{\"id\":\"903d5462-b95b-4ddb-8371-af239bcf2b34\",\"type\":\"CDSView\"}},\"id\":\"765b3987-240e-4330-a461-55210cf3d482\",\"type\":\"GlyphRenderer\"},{\"attributes\":{\"callback\":null},\"id\":\"e77a9058-86f1-44ee-8e08-68d23cc536c7\",\"type\":\"DataRange1d\"},{\"attributes\":{\"source\":{\"id\":\"96ca3072-b9fe-4c93-ad06-90486e2eaed5\",\"type\":\"ColumnDataSource\"}},\"id\":\"903d5462-b95b-4ddb-8371-af239bcf2b34\",\"type\":\"CDSView\"},{\"attributes\":{},\"id\":\"bb1a3b8f-ba18-47cc-a250-61e2f6309872\",\"type\":\"LinearScale\"},{\"attributes\":{\"children\":[{\"id\":\"ccff16f2-d5b8-4f98-9e39-1b18e2c13cfb\",\"subtype\":\"Figure\",\"type\":\"Plot\"},{\"id\":\"02f83dbe-551d-444c-8be8-4963365d00d2\",\"subtype\":\"Figure\",\"type\":\"Plot\"}]},\"id\":\"29fefb92-2b2f-45c7-a1de-d1446faf01b8\",\"type\":\"Row\"},{\"attributes\":{\"plot\":{\"id\":\"ccff16f2-d5b8-4f98-9e39-1b18e2c13cfb\",\"subtype\":\"Figure\",\"type\":\"Plot\"},\"ticker\":{\"id\":\"16d7b9dd-ba7e-482e-b298-3b0b7e82781e\",\"type\":\"BasicTicker\"}},\"id\":\"b5e832db-6f54-48e2-81db-99ccf98b9b50\",\"type\":\"Grid\"},{\"attributes\":{\"axis_label\":\"k\",\"formatter\":{\"id\":\"e25c08ed-ac9a-485d-b17d-54d1c6e868aa\",\"type\":\"BasicTickFormatter\"},\"plot\":{\"id\":\"ccff16f2-d5b8-4f98-9e39-1b18e2c13cfb\",\"subtype\":\"Figure\",\"type\":\"Plot\"},\"ticker\":{\"id\":\"16d7b9dd-ba7e-482e-b298-3b0b7e82781e\",\"type\":\"BasicTicker\"}},\"id\":\"6b0e93a9-168d-44e2-920c-afc4019ad08e\",\"type\":\"LinearAxis\"},{\"attributes\":{},\"id\":\"735a9af7-12e5-4bf8-a469-446d6b4881d4\",\"type\":\"BasicTickFormatter\"},{\"attributes\":{},\"id\":\"16d7b9dd-ba7e-482e-b298-3b0b7e82781e\",\"type\":\"BasicTicker\"},{\"attributes\":{\"axis_label\":\"f(k,p)\",\"formatter\":{\"id\":\"110b676e-4898-4015-98cb-b90ed8f425de\",\"type\":\"BasicTickFormatter\"},\"plot\":{\"id\":\"ccff16f2-d5b8-4f98-9e39-1b18e2c13cfb\",\"subtype\":\"Figure\",\"type\":\"Plot\"},\"ticker\":{\"id\":\"7a1ef349-1d1c-44a0-9c2d-307e0ed49d15\",\"type\":\"BasicTicker\"}},\"id\":\"62497868-ab13-451a-9b80-33f4ce8d081b\",\"type\":\"LinearAxis\"},{\"attributes\":{},\"id\":\"46e32f9a-a484-400d-aa58-58d84c8c2e65\",\"type\":\"UnionRenderers\"},{\"attributes\":{},\"id\":\"7a1ef349-1d1c-44a0-9c2d-307e0ed49d15\",\"type\":\"BasicTicker\"},{\"attributes\":{},\"id\":\"377edecc-db5f-4048-807a-ab2ef4ea2cba\",\"type\":\"Selection\"},{\"attributes\":{\"dimension\":1,\"plot\":{\"id\":\"ccff16f2-d5b8-4f98-9e39-1b18e2c13cfb\",\"subtype\":\"Figure\",\"type\":\"Plot\"},\"ticker\":{\"id\":\"7a1ef349-1d1c-44a0-9c2d-307e0ed49d15\",\"type\":\"BasicTicker\"}},\"id\":\"ac4d67ad-4a46-4956-802f-cf3cef7c0561\",\"type\":\"Grid\"},{\"attributes\":{},\"id\":\"983a2b42-83b4-46bf-97aa-afc4c172417d\",\"type\":\"BasicTickFormatter\"},{\"attributes\":{\"active_drag\":\"auto\",\"active_inspect\":\"auto\",\"active_scroll\":\"auto\",\"active_tap\":\"auto\",\"tools\":[{\"id\":\"b0e51569-7cf0-41c2-a223-c5edca37f7f0\",\"type\":\"HoverTool\"},{\"id\":\"950c2a52-7c1b-4ee4-b32a-8bbb8871d53b\",\"type\":\"PanTool\"},{\"id\":\"9c376338-b09e-4789-af91-195dcc51cb28\",\"type\":\"WheelZoomTool\"},{\"id\":\"68ce39a7-9b68-4697-80d4-3e41731a3975\",\"type\":\"ResetTool\"},{\"id\":\"2a7ea1bf-a7d9-40d0-a8cd-053e0a72744d\",\"type\":\"SaveTool\"}]},\"id\":\"b45a55a2-d322-46db-acde-63980fbe53fd\",\"type\":\"Toolbar\"},{\"attributes\":{},\"id\":\"255c3aaa-a529-41bf-b818-3f3e64386ee9\",\"type\":\"UnionRenderers\"},{\"attributes\":{\"callback\":null,\"data\":{\"x0\":[1,2,3,4,5,6,7,8,9,10,11,12,13,14,15,16,17,18,19,20,21],\"x1\":[1,2,3,4,5,6,7,8,9,10,11,12,13,14,15,16,17,18,19,20,21],\"y1\":{\"__ndarray__\":\"MzMzMzMz0z/hehSuR+HKPzaJQWDl0MI/fybChqdXuj+MtFTejnCyP/YvEATI0Kk/LLtxnCUSoj/X0jgOm0yZP8nGJ72ftZE/TRae1RLLiD/PQoiV81qBP4hdWNEhTHg/eEEkrBcCcT+oW8y9us9nP/UMD7gCq2A/V0VIm9BVVz8jyuWfq1VQP/0aqKxW3kY/5BLceAkCQD8/5wB2QGk2P1fdmgsnYC8/\",\"dtype\":\"float64\",\"shape\":[21]}},\"selected\":{\"id\":\"18a15547-8cd3-4052-8d57-0790c1f6a164\",\"type\":\"Selection\"},\"selection_policy\":{\"id\":\"7cee4d1d-4b4f-4537-91a9-02ca9de3bb76\",\"type\":\"UnionRenderers\"}},\"id\":\"f53b3d02-5672-42f0-b1f7-382c8c2fa8b9\",\"type\":\"ColumnDataSource\"},{\"attributes\":{},\"id\":\"5657f407-1b49-4f14-bcbd-f0da68fdd09a\",\"type\":\"Selection\"},{\"attributes\":{\"callback\":null,\"end\":1.05,\"start\":-0.05},\"id\":\"f0db2efa-1895-4b82-b2ae-3c83e9fdbbe9\",\"type\":\"Range1d\"},{\"attributes\":{},\"id\":\"a6eba220-8c40-48df-aac4-b935d606950d\",\"type\":\"PanTool\"},{\"attributes\":{},\"id\":\"31b86bd4-d5a0-4a15-9b08-61e6f98a3da2\",\"type\":\"UnionRenderers\"},{\"attributes\":{},\"id\":\"a60288ca-d0e4-42ac-8a0a-3cdfd1ae12fc\",\"type\":\"LinearScale\"},{\"attributes\":{},\"id\":\"3e3878c3-9256-4395-bc2a-ad7a6b9f6115\",\"type\":\"Selection\"},{\"attributes\":{},\"id\":\"c89d3f6f-0ac3-48f4-a593-34c927bfd5e6\",\"type\":\"WheelZoomTool\"},{\"attributes\":{},\"id\":\"e6d5aad5-1d4b-45d3-9184-743a761cea7a\",\"type\":\"ResetTool\"},{\"attributes\":{},\"id\":\"d32e3bae-ab7a-46a3-b94a-df62b5149a39\",\"type\":\"SaveTool\"},{\"attributes\":{},\"id\":\"3b34eff6-93f9-4840-9966-09f971d7d10e\",\"type\":\"LinearScale\"},{\"attributes\":{},\"id\":\"226d8e51-b11a-4179-abcb-e3309a838da0\",\"type\":\"BasicTicker\"},{\"attributes\":{\"axis_label\":\"k\",\"formatter\":{\"id\":\"735a9af7-12e5-4bf8-a469-446d6b4881d4\",\"type\":\"BasicTickFormatter\"},\"plot\":{\"id\":\"02f83dbe-551d-444c-8be8-4963365d00d2\",\"subtype\":\"Figure\",\"type\":\"Plot\"},\"ticker\":{\"id\":\"226d8e51-b11a-4179-abcb-e3309a838da0\",\"type\":\"BasicTicker\"}},\"id\":\"c94c55d4-03b7-473d-a683-562027ff0bdf\",\"type\":\"LinearAxis\"}],\"root_ids\":[\"29fefb92-2b2f-45c7-a1de-d1446faf01b8\"]},\"title\":\"Bokeh Application\",\"version\":\"0.12.16\"}};\n",
       "  var render_items = [{\"docid\":\"014fd3eb-1827-4a54-bba2-30ca8fe992ea\",\"elementid\":\"f39fe3c1-bfeb-40dd-b600-b10440afde43\",\"modelid\":\"29fefb92-2b2f-45c7-a1de-d1446faf01b8\"}];\n",
       "  root.Bokeh.embed.embed_items_notebook(docs_json, render_items);\n",
       "\n",
       "  }\n",
       "  if (root.Bokeh !== undefined) {\n",
       "    embed_document(root);\n",
       "  } else {\n",
       "    var attempts = 0;\n",
       "    var timer = setInterval(function(root) {\n",
       "      if (root.Bokeh !== undefined) {\n",
       "        embed_document(root);\n",
       "        clearInterval(timer);\n",
       "      }\n",
       "      attempts++;\n",
       "      if (attempts > 100) {\n",
       "        console.log(\"Bokeh: ERROR: Unable to run BokehJS code because BokehJS library is missing\")\n",
       "        clearInterval(timer);\n",
       "      }\n",
       "    }, 10, root)\n",
       "  }\n",
       "})(window);"
      ],
      "application/vnd.bokehjs_exec.v0+json": ""
     },
     "metadata": {
      "application/vnd.bokehjs_exec.v0+json": {
       "id": "29fefb92-2b2f-45c7-a1de-d1446faf01b8"
      }
     },
     "output_type": "display_data"
    }
   ],
   "source": [
    "k = np.arange(21)+1\n",
    "p1 = 0.30\n",
    "p2 = 0.70\n",
    "\n",
    "# Tools for plots\n",
    "tools='pan,wheel_zoom,reset,save'\n",
    "\n",
    "# Set up plots\n",
    "fig_1 = Figure(width=400, height=300, tools=tools, title=\"Geometric Distribution\")\n",
    "fig_2 = Figure(width=400, height=300, tools=[tools,HoverTool(tooltips=[\n",
    "                (\"\", \"$y\")\n",
    "                ])], \n",
    "               y_range=[-0.05, 1.05])\n",
    "\n",
    "fig_1.xaxis.axis_label = 'k'\n",
    "fig_1.yaxis.axis_label = 'f(k,p)' \n",
    "\n",
    "fig_2.xaxis.axis_label = 'k'\n",
    "fig_2.yaxis.axis_label = 'F(k,p)'\n",
    "\n",
    "# Figure #1\n",
    "y1 = geom.pmf(k,p1)\n",
    "fig_1.circle(k, y1, size=7, color='dodgerblue',legend=\"p=0.30\")\n",
    "fig_1.segment(x0=k, x1=k, y0=0, y1=y1, line_width=3, \n",
    "              color='dodgerblue', legend=\"p=0.30\")\n",
    "\n",
    "y2 = geom.pmf(k,p2)\n",
    "fig_1.circle(k, y2, size=7, color='red',legend=\"p=0.70\")\n",
    "fig_1.segment(x0=k, x1=k, y0=0, y1=y2, line_width=3, \n",
    "              color='red', legend=\"p=0.70\")\n",
    "\n",
    "fig_1.legend.location = \"top_right\"\n",
    "fig_1.legend.click_policy=\"hide\"\n",
    "\n",
    "#Figure #2\n",
    "y3 = geom.cdf(k,p1)\n",
    "fig_2.circle(k, y3, size=7, color='dodgerblue')\n",
    "\n",
    "y4 = geom.cdf(k,p2)\n",
    "fig_2.circle(k, y4, size=7, color='red')\n",
    "\n",
    "# Link the x-axes\n",
    "fig_1.x_range = fig_2.x_range\n",
    "\n",
    "\n",
    "show(row([fig_1, fig_2]))"
   ]
  },
  {
   "cell_type": "markdown",
   "metadata": {},
   "source": [
    "# Continuous Distribution"
   ]
  },
  {
   "cell_type": "markdown",
   "metadata": {},
   "source": [
    "## Uniform distribution\n",
    "\n",
    "$$\n",
    "\\begin{eqnarray*}\n",
    "P(X = x)  \\Leftrightarrow  f(x)  & = &\n",
    "\\begin{cases}\n",
    "               \\displaystyle \\frac{1}{b-a} \\ \\ \\ a \\leq x \\leq b\\\\\n",
    "               \\textrm{caso contrário}\n",
    "\\end{cases}\\\\\n",
    "P(X \\leq x)  \\Leftrightarrow  F(x)  & = &\n",
    "\\begin{cases}\n",
    "               0 \\ \\ \\ \\ \\ \\ \\ \\  x \\leq a\\\\\n",
    "               \\frac{x-a}{b-a} \\ \\ \\ a \\leq x \\leq b\\\\\n",
    "               1 \\ \\ \\ \\ \\ \\ \\  x \\geq b\n",
    "\\end{cases}\n",
    "\\end{eqnarray*}\n",
    "$$"
   ]
  },
  {
   "cell_type": "code",
   "execution_count": 11,
   "metadata": {},
   "outputs": [
    {
     "data": {
      "text/html": [
       "\n",
       "<div class=\"bk-root\">\n",
       "    <div class=\"bk-plotdiv\" id=\"182a2f43-b8cd-48ae-b643-278e9440216f\"></div>\n",
       "</div>"
      ]
     },
     "metadata": {},
     "output_type": "display_data"
    },
    {
     "data": {
      "application/javascript": [
       "(function(root) {\n",
       "  function embed_document(root) {\n",
       "    \n",
       "  var docs_json = {\"6858532a-7dd1-4f83-a17c-9c4a12138a80\":{\"roots\":{\"references\":[{\"attributes\":{},\"id\":\"1b013e28-e969-426e-b908-4b733c59309f\",\"type\":\"BasicTicker\"},{\"attributes\":{\"axis_label\":\"F(x,(2,7))\",\"formatter\":{\"id\":\"910b2bdf-6300-4f1e-9798-0503e3151273\",\"type\":\"BasicTickFormatter\"},\"plot\":{\"id\":\"9963fa6e-1d85-4186-b963-2f6e366f05a8\",\"subtype\":\"Figure\",\"type\":\"Plot\"},\"ticker\":{\"id\":\"816645fe-bfaa-4608-8379-7ff70cfed7bb\",\"type\":\"BasicTicker\"}},\"id\":\"94afa82c-dffd-4f5f-802f-b229e5d7cfc2\",\"type\":\"LinearAxis\"},{\"attributes\":{},\"id\":\"816645fe-bfaa-4608-8379-7ff70cfed7bb\",\"type\":\"BasicTicker\"},{\"attributes\":{\"dimension\":1,\"plot\":{\"id\":\"9963fa6e-1d85-4186-b963-2f6e366f05a8\",\"subtype\":\"Figure\",\"type\":\"Plot\"},\"ticker\":{\"id\":\"816645fe-bfaa-4608-8379-7ff70cfed7bb\",\"type\":\"BasicTicker\"}},\"id\":\"f2421459-83db-48ea-82f1-514455a90482\",\"type\":\"Grid\"},{\"attributes\":{\"line_color\":\"dodgerblue\",\"line_width\":3,\"x\":{\"field\":\"x\"},\"y\":{\"field\":\"y\"}},\"id\":\"e4c78fd6-26f0-46fa-8efe-f9056a325743\",\"type\":\"Line\"},{\"attributes\":{},\"id\":\"4a2041d4-04fa-4225-9636-2126e3433293\",\"type\":\"BasicTickFormatter\"},{\"attributes\":{\"label\":{\"value\":\"pdf\"},\"renderers\":[{\"id\":\"2ce796df-5599-4d7a-a274-4b6ea14aed84\",\"type\":\"GlyphRenderer\"}]},\"id\":\"e72e02cd-53d5-4535-a9c4-ab5d62d85a87\",\"type\":\"LegendItem\"},{\"attributes\":{\"callback\":null},\"id\":\"8714122d-5893-42ad-8800-b3f331c6ce20\",\"type\":\"DataRange1d\"},{\"attributes\":{},\"id\":\"6aa7c8e1-eb85-422c-9829-f81b1a88e33f\",\"type\":\"PanTool\"},{\"attributes\":{\"active_drag\":\"auto\",\"active_inspect\":\"auto\",\"active_scroll\":\"auto\",\"active_tap\":\"auto\",\"tools\":[{\"id\":\"daf05c37-b1b3-4909-9e95-a7674715a9c6\",\"type\":\"HoverTool\"},{\"id\":\"6aa7c8e1-eb85-422c-9829-f81b1a88e33f\",\"type\":\"PanTool\"},{\"id\":\"b6607527-c9ec-4383-9e38-943a57dee8a1\",\"type\":\"WheelZoomTool\"},{\"id\":\"1c9c9607-ae27-4f46-b190-8c7b0824ad0a\",\"type\":\"ResetTool\"},{\"id\":\"10b58760-5619-4e51-8650-27d4c066116b\",\"type\":\"SaveTool\"}]},\"id\":\"2b003849-d480-420c-adaa-c17286fe2766\",\"type\":\"Toolbar\"},{\"attributes\":{\"source\":{\"id\":\"6e4e774f-e5c3-4384-8e68-020c8bf042d2\",\"type\":\"ColumnDataSource\"}},\"id\":\"c5af3700-cd4d-45d5-bcdb-f72144aa3bc2\",\"type\":\"CDSView\"},{\"attributes\":{\"callback\":null,\"renderers\":\"auto\",\"tooltips\":[[\"\",\"$y\"]]},\"id\":\"d9d66c4a-eaf2-4a98-b320-7a291e4a7b43\",\"type\":\"HoverTool\"},{\"attributes\":{},\"id\":\"b6607527-c9ec-4383-9e38-943a57dee8a1\",\"type\":\"WheelZoomTool\"},{\"attributes\":{},\"id\":\"c6ac3088-41ae-419a-b33c-d13e1dacb57f\",\"type\":\"LinearScale\"},{\"attributes\":{},\"id\":\"1c9c9607-ae27-4f46-b190-8c7b0824ad0a\",\"type\":\"ResetTool\"},{\"attributes\":{\"callback\":null,\"renderers\":\"auto\",\"tooltips\":[[\"\",\"$y\"]]},\"id\":\"daf05c37-b1b3-4909-9e95-a7674715a9c6\",\"type\":\"HoverTool\"},{\"attributes\":{},\"id\":\"10b58760-5619-4e51-8650-27d4c066116b\",\"type\":\"SaveTool\"},{\"attributes\":{\"below\":[{\"id\":\"13dd462a-9614-4c84-ad43-1e5bab5055e8\",\"type\":\"LinearAxis\"}],\"left\":[{\"id\":\"bfdd191b-231d-40c1-b862-f78323bcee08\",\"type\":\"LinearAxis\"}],\"plot_height\":300,\"plot_width\":400,\"renderers\":[{\"id\":\"13dd462a-9614-4c84-ad43-1e5bab5055e8\",\"type\":\"LinearAxis\"},{\"id\":\"6f2f2634-6381-47a6-828b-3a0a1579fea7\",\"type\":\"Grid\"},{\"id\":\"bfdd191b-231d-40c1-b862-f78323bcee08\",\"type\":\"LinearAxis\"},{\"id\":\"f1c9c7dd-1d13-4f90-a20c-882125c0b820\",\"type\":\"Grid\"},{\"id\":\"ed517b97-4246-49cc-bfe1-7e4a1f909ddf\",\"type\":\"Legend\"},{\"id\":\"2ce796df-5599-4d7a-a274-4b6ea14aed84\",\"type\":\"GlyphRenderer\"}],\"title\":{\"id\":\"ca061939-222a-4344-ad5c-89d796e6d011\",\"type\":\"Title\"},\"toolbar\":{\"id\":\"bca25f0e-10be-41a6-af33-a0c62f2d6605\",\"type\":\"Toolbar\"},\"x_range\":{\"id\":\"32dd26b4-0820-4351-b77e-648883aa4914\",\"type\":\"Range1d\"},\"x_scale\":{\"id\":\"43af1331-e100-4d5d-b7a8-4bde445442cc\",\"type\":\"LinearScale\"},\"y_range\":{\"id\":\"8714122d-5893-42ad-8800-b3f331c6ce20\",\"type\":\"DataRange1d\"},\"y_scale\":{\"id\":\"c6ac3088-41ae-419a-b33c-d13e1dacb57f\",\"type\":\"LinearScale\"}},\"id\":\"10674b7a-e25a-40f8-9c68-2a18104103e8\",\"subtype\":\"Figure\",\"type\":\"Plot\"},{\"attributes\":{\"data_source\":{\"id\":\"6e4e774f-e5c3-4384-8e68-020c8bf042d2\",\"type\":\"ColumnDataSource\"},\"glyph\":{\"id\":\"e4c78fd6-26f0-46fa-8efe-f9056a325743\",\"type\":\"Line\"},\"hover_glyph\":null,\"muted_glyph\":null,\"nonselection_glyph\":{\"id\":\"9dbc9d82-0a9c-4e80-a04b-b43ba85bc59e\",\"type\":\"Line\"},\"selection_glyph\":null,\"view\":{\"id\":\"c5af3700-cd4d-45d5-bcdb-f72144aa3bc2\",\"type\":\"CDSView\"}},\"id\":\"2ce796df-5599-4d7a-a274-4b6ea14aed84\",\"type\":\"GlyphRenderer\"},{\"attributes\":{\"plot\":null,\"text\":\"Uniform Distribution\"},\"id\":\"ca061939-222a-4344-ad5c-89d796e6d011\",\"type\":\"Title\"},{\"attributes\":{},\"id\":\"4e867733-c439-414a-8d1b-3a346b767f4d\",\"type\":\"BasicTickFormatter\"},{\"attributes\":{\"callback\":null,\"end\":20},\"id\":\"32dd26b4-0820-4351-b77e-648883aa4914\",\"type\":\"Range1d\"},{\"attributes\":{\"source\":{\"id\":\"86598feb-bd65-45b2-809a-ce0c18127281\",\"type\":\"ColumnDataSource\"}},\"id\":\"95fe41bb-975b-4408-8b62-dffca84cd348\",\"type\":\"CDSView\"},{\"attributes\":{\"active_drag\":\"auto\",\"active_inspect\":\"auto\",\"active_scroll\":\"auto\",\"active_tap\":\"auto\",\"tools\":[{\"id\":\"d9d66c4a-eaf2-4a98-b320-7a291e4a7b43\",\"type\":\"HoverTool\"},{\"id\":\"dd8bd1f0-43c7-4375-9f69-6b1f42c0f6e4\",\"type\":\"PanTool\"},{\"id\":\"0e43da56-9b24-4eb2-9616-f5d9113d79b1\",\"type\":\"WheelZoomTool\"},{\"id\":\"ea7d3634-291e-4ba3-b5f0-fb790c4ae380\",\"type\":\"ResetTool\"},{\"id\":\"1e8c1075-fe9c-4688-9e26-640929e1c4d9\",\"type\":\"SaveTool\"}]},\"id\":\"bca25f0e-10be-41a6-af33-a0c62f2d6605\",\"type\":\"Toolbar\"},{\"attributes\":{\"line_alpha\":0.1,\"line_color\":\"#1f77b4\",\"line_width\":3,\"x\":{\"field\":\"x\"},\"y\":{\"field\":\"y\"}},\"id\":\"58dc4809-cb7d-4074-9f4b-6efd108b63ee\",\"type\":\"Line\"},{\"attributes\":{\"plot\":{\"id\":\"10674b7a-e25a-40f8-9c68-2a18104103e8\",\"subtype\":\"Figure\",\"type\":\"Plot\"},\"ticker\":{\"id\":\"b3c2ed31-448d-49cb-bdb3-e102bd01106f\",\"type\":\"BasicTicker\"}},\"id\":\"6f2f2634-6381-47a6-828b-3a0a1579fea7\",\"type\":\"Grid\"},{\"attributes\":{\"callback\":null,\"data\":{\"x\":{\"__ndarray__\":\"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\",\"dtype\":\"float64\",\"shape\":[200]},\"y\":{\"__ndarray__\":\"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\",\"dtype\":\"float64\",\"shape\":[200]}},\"selected\":{\"id\":\"530dadeb-5997-4429-939b-31f861b0e812\",\"type\":\"Selection\"},\"selection_policy\":{\"id\":\"75cdc036-c1db-41d4-b7f2-c7ca0dda7d07\",\"type\":\"UnionRenderers\"}},\"id\":\"86598feb-bd65-45b2-809a-ce0c18127281\",\"type\":\"ColumnDataSource\"},{\"attributes\":{\"line_alpha\":0.1,\"line_color\":\"#1f77b4\",\"line_width\":3,\"x\":{\"field\":\"x\"},\"y\":{\"field\":\"y\"}},\"id\":\"9dbc9d82-0a9c-4e80-a04b-b43ba85bc59e\",\"type\":\"Line\"},{\"attributes\":{\"click_policy\":\"hide\",\"items\":[{\"id\":\"e72e02cd-53d5-4535-a9c4-ab5d62d85a87\",\"type\":\"LegendItem\"}],\"plot\":{\"id\":\"10674b7a-e25a-40f8-9c68-2a18104103e8\",\"subtype\":\"Figure\",\"type\":\"Plot\"}},\"id\":\"ed517b97-4246-49cc-bfe1-7e4a1f909ddf\",\"type\":\"Legend\"},{\"attributes\":{},\"id\":\"43af1331-e100-4d5d-b7a8-4bde445442cc\",\"type\":\"LinearScale\"},{\"attributes\":{},\"id\":\"910b2bdf-6300-4f1e-9798-0503e3151273\",\"type\":\"BasicTickFormatter\"},{\"attributes\":{\"axis_label\":\"x\",\"formatter\":{\"id\":\"4e867733-c439-414a-8d1b-3a346b767f4d\",\"type\":\"BasicTickFormatter\"},\"plot\":{\"id\":\"10674b7a-e25a-40f8-9c68-2a18104103e8\",\"subtype\":\"Figure\",\"type\":\"Plot\"},\"ticker\":{\"id\":\"b3c2ed31-448d-49cb-bdb3-e102bd01106f\",\"type\":\"BasicTicker\"}},\"id\":\"13dd462a-9614-4c84-ad43-1e5bab5055e8\",\"type\":\"LinearAxis\"},{\"attributes\":{\"line_color\":\"dodgerblue\",\"line_width\":3,\"x\":{\"field\":\"x\"},\"y\":{\"field\":\"y\"}},\"id\":\"f9b2b7bb-d990-451d-b6c8-95acd79a55cf\",\"type\":\"Line\"},{\"attributes\":{},\"id\":\"b3c2ed31-448d-49cb-bdb3-e102bd01106f\",\"type\":\"BasicTicker\"},{\"attributes\":{\"data_source\":{\"id\":\"86598feb-bd65-45b2-809a-ce0c18127281\",\"type\":\"ColumnDataSource\"},\"glyph\":{\"id\":\"f9b2b7bb-d990-451d-b6c8-95acd79a55cf\",\"type\":\"Line\"},\"hover_glyph\":null,\"muted_glyph\":null,\"nonselection_glyph\":{\"id\":\"58dc4809-cb7d-4074-9f4b-6efd108b63ee\",\"type\":\"Line\"},\"selection_glyph\":null,\"view\":{\"id\":\"95fe41bb-975b-4408-8b62-dffca84cd348\",\"type\":\"CDSView\"}},\"id\":\"4f972091-b41d-4437-a670-d95cec5b3816\",\"type\":\"GlyphRenderer\"},{\"attributes\":{\"axis_label\":\"f(x,(2,7))\",\"formatter\":{\"id\":\"4a2041d4-04fa-4225-9636-2126e3433293\",\"type\":\"BasicTickFormatter\"},\"plot\":{\"id\":\"10674b7a-e25a-40f8-9c68-2a18104103e8\",\"subtype\":\"Figure\",\"type\":\"Plot\"},\"ticker\":{\"id\":\"bf9a6709-cd1f-42c0-9073-bb1beac19b61\",\"type\":\"BasicTicker\"}},\"id\":\"bfdd191b-231d-40c1-b862-f78323bcee08\",\"type\":\"LinearAxis\"},{\"attributes\":{},\"id\":\"8a0fca05-fe1a-45aa-ac29-9709b923507e\",\"type\":\"BasicTickFormatter\"},{\"attributes\":{},\"id\":\"bf9a6709-cd1f-42c0-9073-bb1beac19b61\",\"type\":\"BasicTicker\"},{\"attributes\":{\"plot\":null,\"text\":\"\"},\"id\":\"0e587781-49c6-42eb-9bde-0492960b9464\",\"type\":\"Title\"},{\"attributes\":{\"dimension\":1,\"plot\":{\"id\":\"10674b7a-e25a-40f8-9c68-2a18104103e8\",\"subtype\":\"Figure\",\"type\":\"Plot\"},\"ticker\":{\"id\":\"bf9a6709-cd1f-42c0-9073-bb1beac19b61\",\"type\":\"BasicTicker\"}},\"id\":\"f1c9c7dd-1d13-4f90-a20c-882125c0b820\",\"type\":\"Grid\"},{\"attributes\":{\"items\":[{\"id\":\"7a2bc219-24d3-4aea-8064-1313cc48a1eb\",\"type\":\"LegendItem\"}],\"location\":\"bottom_right\",\"plot\":{\"id\":\"9963fa6e-1d85-4186-b963-2f6e366f05a8\",\"subtype\":\"Figure\",\"type\":\"Plot\"}},\"id\":\"cc484a90-f7e1-4ef1-ab49-e7b9ac07c5ad\",\"type\":\"Legend\"},{\"attributes\":{\"below\":[{\"id\":\"a244ed7e-dc16-4e1b-8a88-eacf6d0515e1\",\"type\":\"LinearAxis\"}],\"left\":[{\"id\":\"94afa82c-dffd-4f5f-802f-b229e5d7cfc2\",\"type\":\"LinearAxis\"}],\"plot_height\":300,\"plot_width\":400,\"renderers\":[{\"id\":\"a244ed7e-dc16-4e1b-8a88-eacf6d0515e1\",\"type\":\"LinearAxis\"},{\"id\":\"df4ba8ba-43d3-439a-94d5-6fb2b34e13da\",\"type\":\"Grid\"},{\"id\":\"94afa82c-dffd-4f5f-802f-b229e5d7cfc2\",\"type\":\"LinearAxis\"},{\"id\":\"f2421459-83db-48ea-82f1-514455a90482\",\"type\":\"Grid\"},{\"id\":\"cc484a90-f7e1-4ef1-ab49-e7b9ac07c5ad\",\"type\":\"Legend\"},{\"id\":\"4f972091-b41d-4437-a670-d95cec5b3816\",\"type\":\"GlyphRenderer\"}],\"title\":{\"id\":\"0e587781-49c6-42eb-9bde-0492960b9464\",\"type\":\"Title\"},\"toolbar\":{\"id\":\"2b003849-d480-420c-adaa-c17286fe2766\",\"type\":\"Toolbar\"},\"x_range\":{\"id\":\"9c72a1c1-4119-480f-8853-faf70acfcbe7\",\"type\":\"Range1d\"},\"x_scale\":{\"id\":\"37b9c0b6-923a-45c3-b822-0bb345fe2b97\",\"type\":\"LinearScale\"},\"y_range\":{\"id\":\"9c900afc-5808-4e60-be28-2e90ab624b21\",\"type\":\"Range1d\"},\"y_scale\":{\"id\":\"1f0ff348-e767-4aa7-b55e-64b27ecad6bb\",\"type\":\"LinearScale\"}},\"id\":\"9963fa6e-1d85-4186-b963-2f6e366f05a8\",\"subtype\":\"Figure\",\"type\":\"Plot\"},{\"attributes\":{\"label\":{\"value\":\"cdf\"},\"renderers\":[{\"id\":\"4f972091-b41d-4437-a670-d95cec5b3816\",\"type\":\"GlyphRenderer\"}]},\"id\":\"7a2bc219-24d3-4aea-8064-1313cc48a1eb\",\"type\":\"LegendItem\"},{\"attributes\":{},\"id\":\"1f0ff348-e767-4aa7-b55e-64b27ecad6bb\",\"type\":\"LinearScale\"},{\"attributes\":{},\"id\":\"dd8bd1f0-43c7-4375-9f69-6b1f42c0f6e4\",\"type\":\"PanTool\"},{\"attributes\":{\"callback\":null,\"data\":{\"x\":{\"__ndarray__\":\"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\",\"dtype\":\"float64\",\"shape\":[200]},\"y\":{\"__ndarray__\":\"AAAAAAAAAAAAAAAAAAAAAAAAAAAAAAAAAAAAAAAAAAAAAAAAAAAAAAAAAAAAAAAAAAAAAAAAAAAAAAAAAAAAAAAAAAAAAAAAAAAAAAAAAAAAAAAAAAAAAAAAAAAAAAAAAAAAAAAAAAAAAAAAAAAAAAAAAAAAAAAAAAAAAAAAAAAAAAAAAAAAAAAAAAAAAAAAAAAAAAAAAAAAAAAAAAAAAJqZmZmZmck/mpmZmZmZyT+amZmZmZnJP5qZmZmZmck/mpmZmZmZyT+amZmZmZnJP5qZmZmZmck/mpmZmZmZyT+amZmZmZnJP5qZmZmZmck/mpmZmZmZyT+amZmZmZnJP5qZmZmZmck/mpmZmZmZyT+amZmZmZnJP5qZmZmZmck/mpmZmZmZyT+amZmZmZnJP5qZmZmZmck/mpmZmZmZyT+amZmZmZnJP5qZmZmZmck/mpmZmZmZyT+amZmZmZnJP5qZmZmZmck/mpmZmZmZyT+amZmZmZnJP5qZmZmZmck/mpmZmZmZyT+amZmZmZnJP5qZmZmZmck/mpmZmZmZyT+amZmZmZnJP5qZmZmZmck/mpmZmZmZyT+amZmZmZnJP5qZmZmZmck/mpmZmZmZyT+amZmZmZnJP5qZmZmZmck/mpmZmZmZyT+amZmZmZnJP5qZmZmZmck/mpmZmZmZyT+amZmZmZnJP5qZmZmZmck/mpmZmZmZyT+amZmZmZnJP5qZmZmZmck/mpmZmZmZyT8AAAAAAAAAAAAAAAAAAAAAAAAAAAAAAAAAAAAAAAAAAAAAAAAAAAAAAAAAAAAAAAAAAAAAAAAAAAAAAAAAAAAAAAAAAAAAAAAAAAAAAAAAAAAAAAAAAAAAAAAAAAAAAAAAAAAAAAAAAAAAAAAAAAAAAAAAAAAAAAAAAAAAAAAAAAAAAAAAAAAAAAAAAAAAAAAAAAAAAAAAAAAAAAAAAAAAAAAAAAAAAAAAAAAAAAAAAAAAAAAAAAAAAAAAAAAAAAAAAAAAAAAAAAAAAAAAAAAAAAAAAAAAAAAAAAAAAAAAAAAAAAAAAAAAAAAAAAAAAAAAAAAAAAAAAAAAAAAAAAAAAAAAAAAAAAAAAAAAAAAAAAAAAAAAAAAAAAAAAAAAAAAAAAAAAAAAAAAAAAAAAAAAAAAAAAAAAAAAAAAAAAAAAAAAAAAAAAAAAAAAAAAAAAAAAAAAAAAAAAAAAAAAAAAAAAAAAAAAAAAAAAAAAAAAAAAAAAAAAAAAAAAAAAAAAAAAAAAAAAAAAAAAAAAAAAAAAAAAAAAAAAAAAAAAAAAAAAAAAAAAAAAAAAAAAAAAAAAAAAAAAAAAAAAAAAAAAAAAAAAAAAAAAAAAAAAAAAAAAAAAAAAAAAAAAAAAAAAAAAAAAAAAAAAAAAAAAAAAAAAAAAAAAAAAAAAAAAAAAAAAAAAAAAAAAAAAAAAAAAAAAAAAAAAAAAAAAAAAAAAAAAAAAAAAAAAAAAAAAAAAAAAAAAAAAAAAAAAAAAAAAAAAAAAAAAAAAAAAAAAAAAAAAAAAAAAAAAAAAAAAAAAAAAAAAAAAAAAAAAAAAAAAAAAAAAAAAAAAAAAAAAAAAAAAAAAAAAAAAAAAAAAAAAAAAAAAAAAAAAAAAAAAAAAAAAAAAAAAAAAAAAAAAAAAAAAAAAAAAAAAAAAAAAAAAAAAAAAAAAAAAAAAAAAAAAAAAAAAAAAAAAAAAAAAAAAAAAAAAAAAAAAAAAAAAAAAAAAAAAAAAAAAAAAAAAAAAAAAAAAAAAAAAAAAAAAAAAAAAAAAAAAAAAAAAAAAAAAAAAAAAAAAAAAAAAAAAAAAAAAAAAAAAAAAAAAAAAAAAAAAAAAAAAAAAAAAAAAAAAAAAAAAAAAAAAAAAAAAAAAAAAAAAAAAAAAAAAAAAAAAAAAAAAAAAAAAAAAAAAAAAAAAAAAAAAAAAAAAAAAAAAAAAAAAAAAAAAAAAAAAAAAAAAAAAAAAAAAAAAAAAAAAAAAAAAAAAAAAAAAAAAAAAAAAAAAAAAAAAAAAAAAAAAAAAAAAAAAAAAAAAAAAAAAAAAAAAAAAAAAAAAAAAAAAAAAAAAAAAAAAAAAAAAAAAAAAAAAAAAAAAAAAAAAAAAAAAAAAAAAAAAAAAA==\",\"dtype\":\"float64\",\"shape\":[200]}},\"selected\":{\"id\":\"55a8c20a-09af-4a91-b096-2433e018ba75\",\"type\":\"Selection\"},\"selection_policy\":{\"id\":\"0cf4b445-6098-45f3-b01e-cc3bf5954b70\",\"type\":\"UnionRenderers\"}},\"id\":\"6e4e774f-e5c3-4384-8e68-020c8bf042d2\",\"type\":\"ColumnDataSource\"},{\"attributes\":{\"children\":[{\"id\":\"10674b7a-e25a-40f8-9c68-2a18104103e8\",\"subtype\":\"Figure\",\"type\":\"Plot\"},{\"id\":\"9963fa6e-1d85-4186-b963-2f6e366f05a8\",\"subtype\":\"Figure\",\"type\":\"Plot\"}]},\"id\":\"39a56a95-d0cd-475b-8314-638492a846c0\",\"type\":\"Row\"},{\"attributes\":{},\"id\":\"0e43da56-9b24-4eb2-9616-f5d9113d79b1\",\"type\":\"WheelZoomTool\"},{\"attributes\":{},\"id\":\"0cf4b445-6098-45f3-b01e-cc3bf5954b70\",\"type\":\"UnionRenderers\"},{\"attributes\":{},\"id\":\"ea7d3634-291e-4ba3-b5f0-fb790c4ae380\",\"type\":\"ResetTool\"},{\"attributes\":{},\"id\":\"55a8c20a-09af-4a91-b096-2433e018ba75\",\"type\":\"Selection\"},{\"attributes\":{},\"id\":\"1e8c1075-fe9c-4688-9e26-640929e1c4d9\",\"type\":\"SaveTool\"},{\"attributes\":{\"callback\":null,\"end\":20},\"id\":\"9c72a1c1-4119-480f-8853-faf70acfcbe7\",\"type\":\"Range1d\"},{\"attributes\":{},\"id\":\"530dadeb-5997-4429-939b-31f861b0e812\",\"type\":\"Selection\"},{\"attributes\":{\"callback\":null,\"end\":1.05,\"start\":-0.05},\"id\":\"9c900afc-5808-4e60-be28-2e90ab624b21\",\"type\":\"Range1d\"},{\"attributes\":{},\"id\":\"75cdc036-c1db-41d4-b7f2-c7ca0dda7d07\",\"type\":\"UnionRenderers\"},{\"attributes\":{},\"id\":\"37b9c0b6-923a-45c3-b822-0bb345fe2b97\",\"type\":\"LinearScale\"},{\"attributes\":{\"plot\":{\"id\":\"9963fa6e-1d85-4186-b963-2f6e366f05a8\",\"subtype\":\"Figure\",\"type\":\"Plot\"},\"ticker\":{\"id\":\"1b013e28-e969-426e-b908-4b733c59309f\",\"type\":\"BasicTicker\"}},\"id\":\"df4ba8ba-43d3-439a-94d5-6fb2b34e13da\",\"type\":\"Grid\"},{\"attributes\":{\"axis_label\":\"x\",\"formatter\":{\"id\":\"8a0fca05-fe1a-45aa-ac29-9709b923507e\",\"type\":\"BasicTickFormatter\"},\"plot\":{\"id\":\"9963fa6e-1d85-4186-b963-2f6e366f05a8\",\"subtype\":\"Figure\",\"type\":\"Plot\"},\"ticker\":{\"id\":\"1b013e28-e969-426e-b908-4b733c59309f\",\"type\":\"BasicTicker\"}},\"id\":\"a244ed7e-dc16-4e1b-8a88-eacf6d0515e1\",\"type\":\"LinearAxis\"}],\"root_ids\":[\"39a56a95-d0cd-475b-8314-638492a846c0\"]},\"title\":\"Bokeh Application\",\"version\":\"0.12.16\"}};\n",
       "  var render_items = [{\"docid\":\"6858532a-7dd1-4f83-a17c-9c4a12138a80\",\"elementid\":\"182a2f43-b8cd-48ae-b643-278e9440216f\",\"modelid\":\"39a56a95-d0cd-475b-8314-638492a846c0\"}];\n",
       "  root.Bokeh.embed.embed_items_notebook(docs_json, render_items);\n",
       "\n",
       "  }\n",
       "  if (root.Bokeh !== undefined) {\n",
       "    embed_document(root);\n",
       "  } else {\n",
       "    var attempts = 0;\n",
       "    var timer = setInterval(function(root) {\n",
       "      if (root.Bokeh !== undefined) {\n",
       "        embed_document(root);\n",
       "        clearInterval(timer);\n",
       "      }\n",
       "      attempts++;\n",
       "      if (attempts > 100) {\n",
       "        console.log(\"Bokeh: ERROR: Unable to run BokehJS code because BokehJS library is missing\")\n",
       "        clearInterval(timer);\n",
       "      }\n",
       "    }, 10, root)\n",
       "  }\n",
       "})(window);"
      ],
      "application/vnd.bokehjs_exec.v0+json": ""
     },
     "metadata": {
      "application/vnd.bokehjs_exec.v0+json": {
       "id": "39a56a95-d0cd-475b-8314-638492a846c0"
      }
     },
     "output_type": "display_data"
    }
   ],
   "source": [
    "from scipy.stats import uniform\n",
    "\n",
    "x = np.linspace(0, 20, 200)\n",
    "\n",
    "# Tools for plots\n",
    "tools='pan,wheel_zoom,reset,save'\n",
    "\n",
    "# Set up plots\n",
    "fig_1 = Figure(width=400, height=300, tools=[tools,HoverTool(tooltips=[\n",
    "                (\"\", \"$y\")\n",
    "                ])], title=\"Uniform Distribution\",x_range=(0, 20))\n",
    "fig_2 = Figure(width=400, height=300, tools=[tools,HoverTool(tooltips=[\n",
    "                (\"\", \"$y\")\n",
    "                ])], \n",
    "               y_range=[-0.05, 1.05],x_range=(0, 20))\n",
    "\n",
    "fig_1.xaxis.axis_label = 'x'\n",
    "fig_1.yaxis.axis_label = 'f(x,(2,7))' \n",
    "\n",
    "fig_2.xaxis.axis_label = 'x'\n",
    "fig_2.yaxis.axis_label = 'F(x,(2,7))'\n",
    "\n",
    "# Figure #1\n",
    "y1 = uniform.pdf(x,2,5)\n",
    "fig_1.line(x, y1, line_width=3, color='dodgerblue',legend=\"pdf\")\n",
    "\n",
    "fig_1.legend.location = \"top_right\"\n",
    "fig_1.legend.click_policy=\"hide\"\n",
    "\n",
    "#Figure #2\n",
    "y2 = uniform.cdf(x,2,5)\n",
    "fig_2.line(x, y2, line_width=3, color='dodgerblue',legend=\"cdf\")\n",
    "fig_2.legend.location = \"bottom_right\"\n",
    "\n",
    "show(row([fig_1, fig_2]))"
   ]
  },
  {
   "cell_type": "markdown",
   "metadata": {},
   "source": [
    "## Exponential Distribution"
   ]
  },
  {
   "cell_type": "markdown",
   "metadata": {},
   "source": [
    "$$\n",
    "\\begin{eqnarray*}\n",
    "P(X = x)  \\Leftrightarrow  f(x,\\lambda)  & = &\n",
    "\\begin{cases}\n",
    "               \\displaystyle \\lambda e^{-\\lambda x} \\ \\ \\ x \\geq 0\\\\\n",
    "               0 \\ \\ \\ \\textrm{caso contrário}\n",
    "\\end{cases}\\\\\n",
    "P(X \\leq x)  \\Leftrightarrow  F(x,\\lambda)  & = &\n",
    "\\begin{cases}\n",
    "               1 - e^{-\\lambda x} \\ \\ \\  x \\geq 0\\\\ \n",
    "               0 \\ \\ \\ \\textrm{caso contrário}\n",
    "\\end{cases}\n",
    "\\end{eqnarray*}\n",
    "$$"
   ]
  },
  {
   "cell_type": "code",
   "execution_count": 12,
   "metadata": {},
   "outputs": [
    {
     "data": {
      "text/html": [
       "\n",
       "<div class=\"bk-root\">\n",
       "    <div class=\"bk-plotdiv\" id=\"36b5c6d1-c692-4bc9-97bc-c4c4fe843a0c\"></div>\n",
       "</div>"
      ]
     },
     "metadata": {},
     "output_type": "display_data"
    },
    {
     "data": {
      "application/javascript": [
       "(function(root) {\n",
       "  function embed_document(root) {\n",
       "    \n",
       "  var docs_json = {\"a15eb9bc-fe5c-4988-9e07-2da6d695e2e4\":{\"roots\":{\"references\":[{\"attributes\":{},\"id\":\"872c62a1-6ca2-4c6d-bab8-f1ac2a341867\",\"type\":\"Selection\"},{\"attributes\":{},\"id\":\"3f3c609e-89a0-4279-adb1-9e625d9aa96d\",\"type\":\"Selection\"},{\"attributes\":{\"label\":{\"value\":\"\\u03bb=0.0001\"},\"renderers\":[{\"id\":\"e31ae2f4-2207-40a3-9eb6-7d99cc45da5d\",\"type\":\"GlyphRenderer\"}]},\"id\":\"4ea04c95-99db-4cab-82c0-700dbd73aaea\",\"type\":\"LegendItem\"},{\"attributes\":{\"line_color\":\"dodgerblue\",\"line_width\":3,\"x\":{\"field\":\"x\"},\"y\":{\"field\":\"y\"}},\"id\":\"a6bd91a3-0bbb-4fd4-891c-0df54d969908\",\"type\":\"Line\"},{\"attributes\":{\"line_alpha\":0.1,\"line_color\":\"#1f77b4\",\"line_width\":3,\"x\":{\"field\":\"x\"},\"y\":{\"field\":\"y\"}},\"id\":\"d5d4ef46-ca03-45ea-8764-98916ddf15f5\",\"type\":\"Line\"},{\"attributes\":{\"line_color\":\"green\",\"line_width\":3,\"x\":{\"field\":\"x\"},\"y\":{\"field\":\"y\"}},\"id\":\"0de69487-8946-4a45-bf5b-7d7431edaead\",\"type\":\"Line\"},{\"attributes\":{\"source\":{\"id\":\"9210703d-6d4f-429e-ae50-f106327563c0\",\"type\":\"ColumnDataSource\"}},\"id\":\"c01f2d35-47de-4a0c-90d2-859b028e03f2\",\"type\":\"CDSView\"},{\"attributes\":{\"data_source\":{\"id\":\"9210703d-6d4f-429e-ae50-f106327563c0\",\"type\":\"ColumnDataSource\"},\"glyph\":{\"id\":\"0de69487-8946-4a45-bf5b-7d7431edaead\",\"type\":\"Line\"},\"hover_glyph\":null,\"muted_glyph\":null,\"nonselection_glyph\":{\"id\":\"d5d4ef46-ca03-45ea-8764-98916ddf15f5\",\"type\":\"Line\"},\"selection_glyph\":null,\"view\":{\"id\":\"c01f2d35-47de-4a0c-90d2-859b028e03f2\",\"type\":\"CDSView\"}},\"id\":\"e05cb41e-43ca-44d4-aee9-35b88a795b08\",\"type\":\"GlyphRenderer\"},{\"attributes\":{},\"id\":\"6311b80a-b2c8-4d23-8373-d90c40855059\",\"type\":\"BasicTickFormatter\"},{\"attributes\":{},\"id\":\"dcdf6543-25b9-479e-b3bc-4955a586e21a\",\"type\":\"UnionRenderers\"},{\"attributes\":{\"callback\":null,\"data\":{\"x\":{\"__ndarray__\":\"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\",\"dtype\":\"float64\",\"shape\":[200]},\"y\":{\"__ndarray__\":\"AAAAAAAAAAAizF2KxxepP1ievr5derg/nR5dc5LpwT+Xrh62x07HP4HT7bhLcMw/QPkg5Leo0D8XV3LIrfrSP+BjFpWHL9U/cG9Qg7JI1z9ClyHmiUfZP7LT2wpYLds/+mizDlf73D/s0tipsbLeP+Y+T/hBKuA/npeTBe7w4D+A8Qly3a3hP+EGUWeKYeI/KNdSEmkM4z9mqWLu567jP6uarAxwSeQ/kegkWGXc5D/i5CLWJmjlP0BY0eMO7eU/bw2ccHNr5j+wTMA1puPmP2Y0JOv0Vec/phmXeanC5z+YbpsqCiroP+cU2dVZjOg/x35VDNjp6D+SkI1BwULpPyXWi/JOl+k/7lEUy7fn6T9j7v3ILzTqPyxt0F3ofOo/ZZC8jhDC6j/GKQMT1QPrPxC43nBgQus/ikQCGdt96z/BR7+Aa7brP7h94zo27Os/k71eD14f7D8WH8ARBFDsP2D4mLZHfuw/CojT50aq7D8UcgoYHtTsP1GR7VTo++w/3gHAWL8h7T8YtPqau0XtP6lJHmD0Z+0/IXe+yH+I7T97pNDfcqftP6QMR6jhxO0/PCgBKt/g7T8+wRl+ffvtP3CkmtrNFO4/gIGdneAs7j/gK+FXxUPuPycU2taKWe4/1ntELj9u7j/Nkz7B74HuPwlo8EqplO4/dzHH5nem7j9jYEkYZ7fuP1tviNKBx+4/uE41f9LW7j+//FsFY+XuP8akys888+4/NWko02gA7z9ByL+T7wzvP+RZACvZGO8/lna7TC0k7z+dKR9M8y7vP1GnciAyOe8/S1eXafBC7z8HXFF0NEzvP/lcWj4EVe8/UTVBemVd7z+0CBmTXWXvP5cf+q/xbO8/Ns9WtyZ07z+flCZSAXvvPzZv6e6Fge8/gW2FxLiH7z+ERgDVnY3vP7DCFvA4k+8/baGztY2Y7z8bk0eYn53vP4fLA99xou8/sJ34pwen7z/FfxnqY6vvP/jEJ3eJr+8/cUqF/Xqz7z8nRfAJO7fvP4lPKQnMuu8/7MeESTC+7z8pg2j8acHvP1vKtjd7xO8/TY4n92XH7z/nr5AdLMrvP8sxHnbPzO8/Dh17tVHP7z/32Ot6tNHvP1asWlH50+8/GBZXsCHW7z8oogj9LtjvP6LXFYsi2u8/sdV/nf3b7z8KLXNnwd3vPxp9Dg1v3+8/TVUfpAfh7z+O1NU0jOLvPyR7b7r94+8/Zp3ZI13l7z9I4EtUq+bvP58j2yPp5+8/LTkFYBfp7z+5wjXMNurvPyeNRCJI6+8/N7rtEkzs7z+xBkRGQ+3vP8x2HVwu7u8/JK967A3v7z8EPemH4u/vP6EN4bes8O8/pFAd/2zx7z+G//DZI/LvP2NAl77R8u8/Qdh/HXfz7z8t3pdhFPTvP0TejvCp9O8/RZkYKzj17z9Eiyttv/XvP9xhPA5A9u8/XIh2Ybr27z917vG1LvfvP0Es5lad9+8/myTbiwb47z9QRdeYavjvPwODi77J+O8/PC19OiT57z+ptS1HevnvP0+EQBzM+e8/F/Ge7hn67z8GeprwY/rvPzRMDVKq+u8/kDR5QO367z96DCXnLPvvPyW1OG9p++8/8rPX/6L77z/mgDq+2fvvP5yXxs0N/O8/T1olUD/87z+y1VllbvzvP7tz1Sub/O8/wKqLwMX87z+YtQQ/7vzvP99gb8EU/e8/5fixYDn97z81Y3o0XP3vPxpuTVN9/e8/DWCV0pz97z940K/Guv3vP77S+kLX/e8/B3zhWfL97z/3y+ccDP7vP/P/tZwk/u8/V1gj6Tv+7z+AVkARUv7vP156YCNn/u8/zoUjLXv+7z+1S347jv7vP6UQw1qg/u8/U4KplrH+7z8pS1b6wf7vP8JGYpDR/u8/AVzhYuD+7z8vAWl77v7vP1xuFuP7/u8//4GUogj/7z+jWyHCFP/vP0iwk0kg/+8/59tfQCv/7z9Vs5ytNf/vP7wZCJg//+8/hVwLBkn/7z+YWL/9Uf/vP5Jr8IRa/+8/kjMioWL/7z/rH5NXav/vPyjVP61x/+8/gWbmpnj/7z/cZglJf//vP1DT8peF/+8/G9m2l4v/7z/JeDZMkf/vPzwIIrmW/+8/TJX74Zv/7z9uKhnKoP/vPw==\",\"dtype\":\"float64\",\"shape\":[200]}},\"selected\":{\"id\":\"841f2f82-c9da-44d6-897e-4cd5c9f63a60\",\"type\":\"Selection\"},\"selection_policy\":{\"id\":\"83d9ce50-d595-4b40-b41f-862257c982f4\",\"type\":\"UnionRenderers\"}},\"id\":\"1157fc9c-a0bc-455b-82a1-4a98113a6406\",\"type\":\"ColumnDataSource\"},{\"attributes\":{\"line_alpha\":0.1,\"line_color\":\"#1f77b4\",\"line_width\":3,\"x\":{\"field\":\"x\"},\"y\":{\"field\":\"y\"}},\"id\":\"ccdc8c17-06c7-4348-8622-7443d9fc6792\",\"type\":\"Line\"},{\"attributes\":{\"callback\":null,\"data\":{\"x\":{\"__ndarray__\":\"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\",\"dtype\":\"float64\",\"shape\":[200]},\"y\":{\"__ndarray__\":\"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\",\"dtype\":\"float64\",\"shape\":[200]}},\"selected\":{\"id\":\"1a920d64-b07e-4529-9190-b30d74e22d8b\",\"type\":\"Selection\"},\"selection_policy\":{\"id\":\"0c314417-78f8-4807-b295-326caebc50a1\",\"type\":\"UnionRenderers\"}},\"id\":\"3bc68c56-0991-473e-a6cb-3d0b0ea1cb3f\",\"type\":\"ColumnDataSource\"},{\"attributes\":{\"label\":{\"value\":\"\\u03bb=0.0002\"},\"renderers\":[{\"id\":\"e05cb41e-43ca-44d4-aee9-35b88a795b08\",\"type\":\"GlyphRenderer\"}]},\"id\":\"7d016fd9-ab86-4777-b3f6-fdec3206d6eb\",\"type\":\"LegendItem\"},{\"attributes\":{\"source\":{\"id\":\"1157fc9c-a0bc-455b-82a1-4a98113a6406\",\"type\":\"ColumnDataSource\"}},\"id\":\"4f36fc18-5a8e-4f84-bd0f-2e42d3ebd56b\",\"type\":\"CDSView\"},{\"attributes\":{\"data_source\":{\"id\":\"1157fc9c-a0bc-455b-82a1-4a98113a6406\",\"type\":\"ColumnDataSource\"},\"glyph\":{\"id\":\"a6bd91a3-0bbb-4fd4-891c-0df54d969908\",\"type\":\"Line\"},\"hover_glyph\":null,\"muted_glyph\":null,\"nonselection_glyph\":{\"id\":\"ccdc8c17-06c7-4348-8622-7443d9fc6792\",\"type\":\"Line\"},\"selection_glyph\":null,\"view\":{\"id\":\"4f36fc18-5a8e-4f84-bd0f-2e42d3ebd56b\",\"type\":\"CDSView\"}},\"id\":\"a7845d89-ed86-4741-9b7f-7534417d6385\",\"type\":\"GlyphRenderer\"},{\"attributes\":{},\"id\":\"d8c9213a-6514-446c-9d59-663ac11b0762\",\"type\":\"BasicTickFormatter\"},{\"attributes\":{\"plot\":null,\"text\":\"\"},\"id\":\"c503cc90-b332-43b1-833c-b8175b1f5c78\",\"type\":\"Title\"},{\"attributes\":{\"items\":[{\"id\":\"596389b0-a63b-4788-8db7-df83685499e4\",\"type\":\"LegendItem\"},{\"id\":\"c3a8ebd3-87a8-404d-8991-b7fa9945a909\",\"type\":\"LegendItem\"},{\"id\":\"b56500df-c928-49b1-9d7e-75fad0e9bbb2\",\"type\":\"LegendItem\"}],\"location\":\"bottom_right\",\"plot\":{\"id\":\"d899af49-d26e-4f1a-bd76-8c3ba5490669\",\"subtype\":\"Figure\",\"type\":\"Plot\"}},\"id\":\"1f088c72-66bb-4c76-92ac-9c43dc02f227\",\"type\":\"Legend\"},{\"attributes\":{\"source\":{\"id\":\"3bc68c56-0991-473e-a6cb-3d0b0ea1cb3f\",\"type\":\"ColumnDataSource\"}},\"id\":\"a03142c0-841b-4331-9d4e-c069c6a3c638\",\"type\":\"CDSView\"},{\"attributes\":{\"label\":{\"value\":\"\\u03bb=0.001\"},\"renderers\":[{\"id\":\"a7845d89-ed86-4741-9b7f-7534417d6385\",\"type\":\"GlyphRenderer\"}]},\"id\":\"596389b0-a63b-4788-8db7-df83685499e4\",\"type\":\"LegendItem\"},{\"attributes\":{\"below\":[{\"id\":\"77329e2d-ca03-47b5-882a-9439129513fc\",\"type\":\"LinearAxis\"}],\"left\":[{\"id\":\"bb9aa189-c237-4567-bcc3-f034d7999211\",\"type\":\"LinearAxis\"}],\"plot_height\":300,\"plot_width\":400,\"renderers\":[{\"id\":\"77329e2d-ca03-47b5-882a-9439129513fc\",\"type\":\"LinearAxis\"},{\"id\":\"528a7378-a306-47cc-bacb-b16eefdf2237\",\"type\":\"Grid\"},{\"id\":\"bb9aa189-c237-4567-bcc3-f034d7999211\",\"type\":\"LinearAxis\"},{\"id\":\"202d83a3-5554-46d9-a937-4b60382e0377\",\"type\":\"Grid\"},{\"id\":\"9fdd565d-cfe2-4efe-9ab7-4a06aa492026\",\"type\":\"Legend\"},{\"id\":\"c38643df-c72e-46e6-b742-e32555653406\",\"type\":\"GlyphRenderer\"},{\"id\":\"e31ae2f4-2207-40a3-9eb6-7d99cc45da5d\",\"type\":\"GlyphRenderer\"},{\"id\":\"e05cb41e-43ca-44d4-aee9-35b88a795b08\",\"type\":\"GlyphRenderer\"}],\"title\":{\"id\":\"bcb923af-dafc-473b-b110-e17726c0906d\",\"type\":\"Title\"},\"toolbar\":{\"id\":\"85c36d66-a0de-4ff2-be71-e1800e5bda53\",\"type\":\"Toolbar\"},\"x_range\":{\"id\":\"572dc30a-d32f-406d-8054-6eed15be7607\",\"type\":\"DataRange1d\"},\"x_scale\":{\"id\":\"7e68cd7d-835b-4946-8e88-87f61ead4a55\",\"type\":\"LinearScale\"},\"y_range\":{\"id\":\"88a4956a-8143-431c-8bb8-baa876ff87e3\",\"type\":\"DataRange1d\"},\"y_scale\":{\"id\":\"a4982ea9-c297-450c-a694-abe36bb8fdb6\",\"type\":\"LinearScale\"}},\"id\":\"911b8a26-94ce-4d3b-aa23-becf91003dec\",\"subtype\":\"Figure\",\"type\":\"Plot\"},{\"attributes\":{\"active_drag\":\"auto\",\"active_inspect\":\"auto\",\"active_scroll\":\"auto\",\"active_tap\":\"auto\",\"tools\":[{\"id\":\"5b2b6bad-422c-4f0d-a1f3-acd207cbc42e\",\"type\":\"HoverTool\"},{\"id\":\"c2786471-48af-4137-911d-776a997c621e\",\"type\":\"PanTool\"},{\"id\":\"a24ba001-8b8d-4bc7-92cb-25a4d4179ce1\",\"type\":\"WheelZoomTool\"},{\"id\":\"c5dbb460-1e1a-4c1d-b6bd-c75348ddbc0f\",\"type\":\"ResetTool\"},{\"id\":\"47dc75f3-0734-4abd-b6b5-a79aa6feb943\",\"type\":\"SaveTool\"}]},\"id\":\"7c343ba9-eac8-4913-8bbe-f3d55ffd3e31\",\"type\":\"Toolbar\"},{\"attributes\":{\"line_alpha\":0.1,\"line_color\":\"#1f77b4\",\"line_width\":3,\"x\":{\"field\":\"x\"},\"y\":{\"field\":\"y\"}},\"id\":\"4bd3c664-b2d0-4a8b-9ca4-9b7a73f8a448\",\"type\":\"Line\"},{\"attributes\":{\"callback\":null,\"data\":{\"x\":{\"__ndarray__\":\"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\",\"dtype\":\"float64\",\"shape\":[200]},\"y\":{\"__ndarray__\":\"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\",\"dtype\":\"float64\",\"shape\":[200]}},\"selected\":{\"id\":\"3fd6f4f5-5b06-45a5-b9b0-7e17d4309d46\",\"type\":\"Selection\"},\"selection_policy\":{\"id\":\"543071f2-4aeb-4f24-bb5b-82df17e75213\",\"type\":\"UnionRenderers\"}},\"id\":\"40621be1-d27a-4cf4-a4cb-7d8f38e7a746\",\"type\":\"ColumnDataSource\"},{\"attributes\":{\"callback\":null,\"renderers\":\"auto\",\"tooltips\":[[\"\",\"($x,$y)\"]]},\"id\":\"5b2b6bad-422c-4f0d-a1f3-acd207cbc42e\",\"type\":\"HoverTool\"},{\"attributes\":{\"plot\":null,\"text\":\"Exponential Distribution\"},\"id\":\"bcb923af-dafc-473b-b110-e17726c0906d\",\"type\":\"Title\"},{\"attributes\":{\"line_color\":\"red\",\"line_width\":3,\"x\":{\"field\":\"x\"},\"y\":{\"field\":\"y\"}},\"id\":\"03ff4b37-3e50-4080-85b1-50a9484c36df\",\"type\":\"Line\"},{\"attributes\":{\"data_source\":{\"id\":\"3bc68c56-0991-473e-a6cb-3d0b0ea1cb3f\",\"type\":\"ColumnDataSource\"},\"glyph\":{\"id\":\"03ff4b37-3e50-4080-85b1-50a9484c36df\",\"type\":\"Line\"},\"hover_glyph\":null,\"muted_glyph\":null,\"nonselection_glyph\":{\"id\":\"4bd3c664-b2d0-4a8b-9ca4-9b7a73f8a448\",\"type\":\"Line\"},\"selection_glyph\":null,\"view\":{\"id\":\"a03142c0-841b-4331-9d4e-c069c6a3c638\",\"type\":\"CDSView\"}},\"id\":\"15a0e8da-cc91-4540-a045-caa689da9aa1\",\"type\":\"GlyphRenderer\"},{\"attributes\":{\"callback\":null,\"renderers\":\"auto\",\"tooltips\":[[\"\",\"($x,$y)\"]]},\"id\":\"0bd1a724-28dd-4766-8623-c57d2ea2f3aa\",\"type\":\"HoverTool\"},{\"attributes\":{\"callback\":null},\"id\":\"572dc30a-d32f-406d-8054-6eed15be7607\",\"type\":\"DataRange1d\"},{\"attributes\":{},\"id\":\"841f2f82-c9da-44d6-897e-4cd5c9f63a60\",\"type\":\"Selection\"},{\"attributes\":{\"line_color\":\"dodgerblue\",\"line_width\":3,\"x\":{\"field\":\"x\"},\"y\":{\"field\":\"y\"}},\"id\":\"f49ace01-0160-4aa0-af3f-cfdca69c3548\",\"type\":\"Line\"},{\"attributes\":{},\"id\":\"83d9ce50-d595-4b40-b41f-862257c982f4\",\"type\":\"UnionRenderers\"},{\"attributes\":{\"line_alpha\":0.1,\"line_color\":\"#1f77b4\",\"line_width\":3,\"x\":{\"field\":\"x\"},\"y\":{\"field\":\"y\"}},\"id\":\"0cf7998b-beeb-4368-8bbc-330019a396c0\",\"type\":\"Line\"},{\"attributes\":{\"source\":{\"id\":\"98b74aa3-9e84-4e97-8465-5768c5398479\",\"type\":\"ColumnDataSource\"}},\"id\":\"12680e00-5316-4202-9d03-43e9bd2646f4\",\"type\":\"CDSView\"},{\"attributes\":{\"line_alpha\":0.1,\"line_color\":\"#1f77b4\",\"line_width\":3,\"x\":{\"field\":\"x\"},\"y\":{\"field\":\"y\"}},\"id\":\"3cf4234d-bb29-40e9-976d-5f10c12d926e\",\"type\":\"Line\"},{\"attributes\":{\"active_drag\":\"auto\",\"active_inspect\":\"auto\",\"active_scroll\":\"auto\",\"active_tap\":\"auto\",\"tools\":[{\"id\":\"0bd1a724-28dd-4766-8623-c57d2ea2f3aa\",\"type\":\"HoverTool\"},{\"id\":\"ac1cfc88-4dc6-4acf-9313-1d5dabee356f\",\"type\":\"PanTool\"},{\"id\":\"178a1ea4-7ac7-45d1-8283-20286ad7fc34\",\"type\":\"WheelZoomTool\"},{\"id\":\"60dbef10-a12c-4b31-abee-7b488390e679\",\"type\":\"ResetTool\"},{\"id\":\"468bdae2-4a83-4eb5-bb9e-34247a1256cf\",\"type\":\"SaveTool\"}]},\"id\":\"85c36d66-a0de-4ff2-be71-e1800e5bda53\",\"type\":\"Toolbar\"},{\"attributes\":{\"line_color\":\"green\",\"line_width\":3,\"x\":{\"field\":\"x\"},\"y\":{\"field\":\"y\"}},\"id\":\"68105322-08f7-4bcc-affa-164b06a6794c\",\"type\":\"Line\"},{\"attributes\":{},\"id\":\"7e68cd7d-835b-4946-8e88-87f61ead4a55\",\"type\":\"LinearScale\"},{\"attributes\":{\"label\":{\"value\":\"\\u03bb=0.0001\"},\"renderers\":[{\"id\":\"15a0e8da-cc91-4540-a045-caa689da9aa1\",\"type\":\"GlyphRenderer\"}]},\"id\":\"c3a8ebd3-87a8-404d-8991-b7fa9945a909\",\"type\":\"LegendItem\"},{\"attributes\":{\"callback\":null},\"id\":\"88a4956a-8143-431c-8bb8-baa876ff87e3\",\"type\":\"DataRange1d\"},{\"attributes\":{\"source\":{\"id\":\"40621be1-d27a-4cf4-a4cb-7d8f38e7a746\",\"type\":\"ColumnDataSource\"}},\"id\":\"3ec77123-a473-409a-9bf7-9988910ba90d\",\"type\":\"CDSView\"},{\"attributes\":{\"data_source\":{\"id\":\"40621be1-d27a-4cf4-a4cb-7d8f38e7a746\",\"type\":\"ColumnDataSource\"},\"glyph\":{\"id\":\"68105322-08f7-4bcc-affa-164b06a6794c\",\"type\":\"Line\"},\"hover_glyph\":null,\"muted_glyph\":null,\"nonselection_glyph\":{\"id\":\"3cf4234d-bb29-40e9-976d-5f10c12d926e\",\"type\":\"Line\"},\"selection_glyph\":null,\"view\":{\"id\":\"3ec77123-a473-409a-9bf7-9988910ba90d\",\"type\":\"CDSView\"}},\"id\":\"dfb953bf-43c0-449b-8c1d-4558541625e1\",\"type\":\"GlyphRenderer\"},{\"attributes\":{},\"id\":\"a4982ea9-c297-450c-a694-abe36bb8fdb6\",\"type\":\"LinearScale\"},{\"attributes\":{\"plot\":{\"id\":\"911b8a26-94ce-4d3b-aa23-becf91003dec\",\"subtype\":\"Figure\",\"type\":\"Plot\"},\"ticker\":{\"id\":\"e7b745f1-af65-40c9-81ec-577b19060e61\",\"type\":\"BasicTicker\"}},\"id\":\"528a7378-a306-47cc-bacb-b16eefdf2237\",\"type\":\"Grid\"},{\"attributes\":{},\"id\":\"1a920d64-b07e-4529-9190-b30d74e22d8b\",\"type\":\"Selection\"},{\"attributes\":{\"axis_label\":\"x\",\"formatter\":{\"id\":\"f53bde5f-43ae-4c2d-a799-6016a0b4fc7f\",\"type\":\"BasicTickFormatter\"},\"plot\":{\"id\":\"911b8a26-94ce-4d3b-aa23-becf91003dec\",\"subtype\":\"Figure\",\"type\":\"Plot\"},\"ticker\":{\"id\":\"e7b745f1-af65-40c9-81ec-577b19060e61\",\"type\":\"BasicTicker\"}},\"id\":\"77329e2d-ca03-47b5-882a-9439129513fc\",\"type\":\"LinearAxis\"},{\"attributes\":{},\"id\":\"0c314417-78f8-4807-b295-326caebc50a1\",\"type\":\"UnionRenderers\"},{\"attributes\":{\"children\":[{\"id\":\"911b8a26-94ce-4d3b-aa23-becf91003dec\",\"subtype\":\"Figure\",\"type\":\"Plot\"},{\"id\":\"d899af49-d26e-4f1a-bd76-8c3ba5490669\",\"subtype\":\"Figure\",\"type\":\"Plot\"}]},\"id\":\"74081be8-2d62-4efa-8d97-0574f17edf70\",\"type\":\"Row\"},{\"attributes\":{},\"id\":\"e7b745f1-af65-40c9-81ec-577b19060e61\",\"type\":\"BasicTicker\"},{\"attributes\":{\"axis_label\":\"f(x,\\u03bb)\",\"formatter\":{\"id\":\"8b66b19a-8549-4c5e-b809-54a8b1932f46\",\"type\":\"BasicTickFormatter\"},\"plot\":{\"id\":\"911b8a26-94ce-4d3b-aa23-becf91003dec\",\"subtype\":\"Figure\",\"type\":\"Plot\"},\"ticker\":{\"id\":\"632374ae-b409-488b-9f00-19e44100245a\",\"type\":\"BasicTicker\"}},\"id\":\"bb9aa189-c237-4567-bcc3-f034d7999211\",\"type\":\"LinearAxis\"},{\"attributes\":{},\"id\":\"632374ae-b409-488b-9f00-19e44100245a\",\"type\":\"BasicTicker\"},{\"attributes\":{\"dimension\":1,\"plot\":{\"id\":\"911b8a26-94ce-4d3b-aa23-becf91003dec\",\"subtype\":\"Figure\",\"type\":\"Plot\"},\"ticker\":{\"id\":\"632374ae-b409-488b-9f00-19e44100245a\",\"type\":\"BasicTicker\"}},\"id\":\"202d83a3-5554-46d9-a937-4b60382e0377\",\"type\":\"Grid\"},{\"attributes\":{\"label\":{\"value\":\"\\u03bb=0.0002\"},\"renderers\":[{\"id\":\"dfb953bf-43c0-449b-8c1d-4558541625e1\",\"type\":\"GlyphRenderer\"}]},\"id\":\"b56500df-c928-49b1-9d7e-75fad0e9bbb2\",\"type\":\"LegendItem\"},{\"attributes\":{\"below\":[{\"id\":\"5274dc08-2c3f-41d9-8673-e1e8bfb021e9\",\"type\":\"LinearAxis\"}],\"left\":[{\"id\":\"3e83beef-7b5c-4d8d-b3b5-c0097add9025\",\"type\":\"LinearAxis\"}],\"plot_height\":300,\"plot_width\":400,\"renderers\":[{\"id\":\"5274dc08-2c3f-41d9-8673-e1e8bfb021e9\",\"type\":\"LinearAxis\"},{\"id\":\"b959a5cb-fc6f-430c-b8d7-94f1af1f0ad0\",\"type\":\"Grid\"},{\"id\":\"3e83beef-7b5c-4d8d-b3b5-c0097add9025\",\"type\":\"LinearAxis\"},{\"id\":\"e2b59c11-82e1-491e-8695-0e585ec7b39e\",\"type\":\"Grid\"},{\"id\":\"1f088c72-66bb-4c76-92ac-9c43dc02f227\",\"type\":\"Legend\"},{\"id\":\"a7845d89-ed86-4741-9b7f-7534417d6385\",\"type\":\"GlyphRenderer\"},{\"id\":\"15a0e8da-cc91-4540-a045-caa689da9aa1\",\"type\":\"GlyphRenderer\"},{\"id\":\"dfb953bf-43c0-449b-8c1d-4558541625e1\",\"type\":\"GlyphRenderer\"}],\"title\":{\"id\":\"c503cc90-b332-43b1-833c-b8175b1f5c78\",\"type\":\"Title\"},\"toolbar\":{\"id\":\"7c343ba9-eac8-4913-8bbe-f3d55ffd3e31\",\"type\":\"Toolbar\"},\"x_range\":{\"id\":\"5e44e15a-7af1-415f-b7e1-c2313d953e27\",\"type\":\"DataRange1d\"},\"x_scale\":{\"id\":\"b198efd0-3704-478a-bc2c-671bcb4b58de\",\"type\":\"LinearScale\"},\"y_range\":{\"id\":\"70b28abc-0efa-4e4a-96b6-361d4fcb3e5c\",\"type\":\"Range1d\"},\"y_scale\":{\"id\":\"b7d7e878-d293-4728-adee-87eaa19cbdcd\",\"type\":\"LinearScale\"}},\"id\":\"d899af49-d26e-4f1a-bd76-8c3ba5490669\",\"subtype\":\"Figure\",\"type\":\"Plot\"},{\"attributes\":{\"data_source\":{\"id\":\"98b74aa3-9e84-4e97-8465-5768c5398479\",\"type\":\"ColumnDataSource\"},\"glyph\":{\"id\":\"f49ace01-0160-4aa0-af3f-cfdca69c3548\",\"type\":\"Line\"},\"hover_glyph\":null,\"muted_glyph\":null,\"nonselection_glyph\":{\"id\":\"0cf7998b-beeb-4368-8bbc-330019a396c0\",\"type\":\"Line\"},\"selection_glyph\":null,\"view\":{\"id\":\"12680e00-5316-4202-9d03-43e9bd2646f4\",\"type\":\"CDSView\"}},\"id\":\"c38643df-c72e-46e6-b742-e32555653406\",\"type\":\"GlyphRenderer\"},{\"attributes\":{},\"id\":\"6c9b8119-c6d9-43b5-9d0e-b375c643da24\",\"type\":\"UnionRenderers\"},{\"attributes\":{\"callback\":null,\"end\":1.05,\"start\":-0.05},\"id\":\"70b28abc-0efa-4e4a-96b6-361d4fcb3e5c\",\"type\":\"Range1d\"},{\"attributes\":{},\"id\":\"0d2bf1ff-a903-44fd-9f29-966d6fbe6ca3\",\"type\":\"Selection\"},{\"attributes\":{},\"id\":\"ac1cfc88-4dc6-4acf-9313-1d5dabee356f\",\"type\":\"PanTool\"},{\"attributes\":{},\"id\":\"3fd6f4f5-5b06-45a5-b9b0-7e17d4309d46\",\"type\":\"Selection\"},{\"attributes\":{},\"id\":\"8b66b19a-8549-4c5e-b809-54a8b1932f46\",\"type\":\"BasicTickFormatter\"},{\"attributes\":{},\"id\":\"178a1ea4-7ac7-45d1-8283-20286ad7fc34\",\"type\":\"WheelZoomTool\"},{\"attributes\":{},\"id\":\"60dbef10-a12c-4b31-abee-7b488390e679\",\"type\":\"ResetTool\"},{\"attributes\":{},\"id\":\"543071f2-4aeb-4f24-bb5b-82df17e75213\",\"type\":\"UnionRenderers\"},{\"attributes\":{},\"id\":\"468bdae2-4a83-4eb5-bb9e-34247a1256cf\",\"type\":\"SaveTool\"},{\"attributes\":{\"callback\":null},\"id\":\"5e44e15a-7af1-415f-b7e1-c2313d953e27\",\"type\":\"DataRange1d\"},{\"attributes\":{},\"id\":\"b7d7e878-d293-4728-adee-87eaa19cbdcd\",\"type\":\"LinearScale\"},{\"attributes\":{},\"id\":\"b198efd0-3704-478a-bc2c-671bcb4b58de\",\"type\":\"LinearScale\"},{\"attributes\":{\"plot\":{\"id\":\"d899af49-d26e-4f1a-bd76-8c3ba5490669\",\"subtype\":\"Figure\",\"type\":\"Plot\"},\"ticker\":{\"id\":\"e13c6bb2-c161-4c03-857e-9133ff1df3e1\",\"type\":\"BasicTicker\"}},\"id\":\"b959a5cb-fc6f-430c-b8d7-94f1af1f0ad0\",\"type\":\"Grid\"},{\"attributes\":{\"axis_label\":\"x\",\"formatter\":{\"id\":\"d8c9213a-6514-446c-9d59-663ac11b0762\",\"type\":\"BasicTickFormatter\"},\"plot\":{\"id\":\"d899af49-d26e-4f1a-bd76-8c3ba5490669\",\"subtype\":\"Figure\",\"type\":\"Plot\"},\"ticker\":{\"id\":\"e13c6bb2-c161-4c03-857e-9133ff1df3e1\",\"type\":\"BasicTicker\"}},\"id\":\"5274dc08-2c3f-41d9-8673-e1e8bfb021e9\",\"type\":\"LinearAxis\"},{\"attributes\":{},\"id\":\"e13c6bb2-c161-4c03-857e-9133ff1df3e1\",\"type\":\"BasicTicker\"},{\"attributes\":{\"axis_label\":\"F(x,\\u03bb)\",\"formatter\":{\"id\":\"6311b80a-b2c8-4d23-8373-d90c40855059\",\"type\":\"BasicTickFormatter\"},\"plot\":{\"id\":\"d899af49-d26e-4f1a-bd76-8c3ba5490669\",\"subtype\":\"Figure\",\"type\":\"Plot\"},\"ticker\":{\"id\":\"0c3c681e-99ba-4bc5-bff6-cfa0676ecaf9\",\"type\":\"BasicTicker\"}},\"id\":\"3e83beef-7b5c-4d8d-b3b5-c0097add9025\",\"type\":\"LinearAxis\"},{\"attributes\":{},\"id\":\"0c3c681e-99ba-4bc5-bff6-cfa0676ecaf9\",\"type\":\"BasicTicker\"},{\"attributes\":{\"dimension\":1,\"plot\":{\"id\":\"d899af49-d26e-4f1a-bd76-8c3ba5490669\",\"subtype\":\"Figure\",\"type\":\"Plot\"},\"ticker\":{\"id\":\"0c3c681e-99ba-4bc5-bff6-cfa0676ecaf9\",\"type\":\"BasicTicker\"}},\"id\":\"e2b59c11-82e1-491e-8695-0e585ec7b39e\",\"type\":\"Grid\"},{\"attributes\":{\"callback\":null,\"data\":{\"x\":{\"__ndarray__\":\"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\",\"dtype\":\"float64\",\"shape\":[200]},\"y\":{\"__ndarray__\":\"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\",\"dtype\":\"float64\",\"shape\":[200]}},\"selected\":{\"id\":\"872c62a1-6ca2-4c6d-bab8-f1ac2a341867\",\"type\":\"Selection\"},\"selection_policy\":{\"id\":\"dcdf6543-25b9-479e-b3bc-4955a586e21a\",\"type\":\"UnionRenderers\"}},\"id\":\"bf45d1ec-fc04-467d-aded-1c0670a8b1ae\",\"type\":\"ColumnDataSource\"},{\"attributes\":{\"callback\":null,\"data\":{\"x\":{\"__ndarray__\":\"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\",\"dtype\":\"float64\",\"shape\":[200]},\"y\":{\"__ndarray__\":\"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\",\"dtype\":\"float64\",\"shape\":[200]}},\"selected\":{\"id\":\"3f3c609e-89a0-4279-adb1-9e625d9aa96d\",\"type\":\"Selection\"},\"selection_policy\":{\"id\":\"0c3e3ab5-e5ad-4137-aecd-75483b4047fa\",\"type\":\"UnionRenderers\"}},\"id\":\"98b74aa3-9e84-4e97-8465-5768c5398479\",\"type\":\"ColumnDataSource\"},{\"attributes\":{\"source\":{\"id\":\"bf45d1ec-fc04-467d-aded-1c0670a8b1ae\",\"type\":\"ColumnDataSource\"}},\"id\":\"97caa47c-32eb-415d-9621-d4cbc9f7eb78\",\"type\":\"CDSView\"},{\"attributes\":{},\"id\":\"c2786471-48af-4137-911d-776a997c621e\",\"type\":\"PanTool\"},{\"attributes\":{},\"id\":\"f53bde5f-43ae-4c2d-a799-6016a0b4fc7f\",\"type\":\"BasicTickFormatter\"},{\"attributes\":{},\"id\":\"a24ba001-8b8d-4bc7-92cb-25a4d4179ce1\",\"type\":\"WheelZoomTool\"},{\"attributes\":{},\"id\":\"c5dbb460-1e1a-4c1d-b6bd-c75348ddbc0f\",\"type\":\"ResetTool\"},{\"attributes\":{},\"id\":\"47dc75f3-0734-4abd-b6b5-a79aa6feb943\",\"type\":\"SaveTool\"},{\"attributes\":{\"label\":{\"value\":\"\\u03bb=0.001\"},\"renderers\":[{\"id\":\"c38643df-c72e-46e6-b742-e32555653406\",\"type\":\"GlyphRenderer\"}]},\"id\":\"3c0fd051-32d7-4b01-ac35-4fd3688dac6c\",\"type\":\"LegendItem\"},{\"attributes\":{\"line_alpha\":0.1,\"line_color\":\"#1f77b4\",\"line_width\":3,\"x\":{\"field\":\"x\"},\"y\":{\"field\":\"y\"}},\"id\":\"ad0269aa-67bb-4796-967e-a1a811b28563\",\"type\":\"Line\"},{\"attributes\":{},\"id\":\"0c3e3ab5-e5ad-4137-aecd-75483b4047fa\",\"type\":\"UnionRenderers\"},{\"attributes\":{\"click_policy\":\"hide\",\"items\":[{\"id\":\"3c0fd051-32d7-4b01-ac35-4fd3688dac6c\",\"type\":\"LegendItem\"},{\"id\":\"4ea04c95-99db-4cab-82c0-700dbd73aaea\",\"type\":\"LegendItem\"},{\"id\":\"7d016fd9-ab86-4777-b3f6-fdec3206d6eb\",\"type\":\"LegendItem\"}],\"plot\":{\"id\":\"911b8a26-94ce-4d3b-aa23-becf91003dec\",\"subtype\":\"Figure\",\"type\":\"Plot\"}},\"id\":\"9fdd565d-cfe2-4efe-9ab7-4a06aa492026\",\"type\":\"Legend\"},{\"attributes\":{\"callback\":null,\"data\":{\"x\":{\"__ndarray__\":\"AAAAAAAAAACFn1yIuhkUQIWfXIi6GSRASO+KzJcmLkCFn1yIuhk0QGbHcyopIDlASO+KzJcmPkCUC1E3g5ZBQIWfXIi6GURAdjNo2fGcRkBmx3MqKSBJQFdbf3tgo0tASO+KzJcmTkCcQcuO51RQQJQLUTeDllFAjdXW3x7YUkCFn1yIuhlUQH1p4jBWW1VAdjNo2fGcVkBu/e2Bjd5XQGbHcyopIFlAX5H50sRhWkBXW397YKNbQE8lBST85FxASO+KzJcmXkBAuRB1M2hfQJxBy47nVGBAmCYOY7X1YECUC1E3g5ZhQJHwkwtRN2JAjdXW3x7YYkCJuhm07HhjQIWfXIi6GWRAgYSfXIi6ZEB9aeIwVltlQHlOJQUk/GVAdjNo2fGcZkByGKutvz1nQG797YGN3mdAauIwVlt/aEBmx3MqKSBpQGKstv72wGlAX5H50sRhakBbdjynkgJrQFdbf3tgo2tAU0DCTy5EbEBPJQUk/ORsQEsKSPjJhW1ASO+KzJcmbkBE1M2gZcduQEC5EHUzaG9AHs+ppIAEcECcQcuO51RwQBq07HhOpXBAmCYOY7X1cEAWmS9NHEZxQJQLUTeDlnFAEn5yIermcUCR8JMLUTdyQA9jtfW3h3JAjdXW3x7YckALSPjJhShzQIm6GbTseHNABy07nlPJc0CFn1yIuhl0QAMSfnIhanRAgYSfXIi6dED/9sBG7wp1QH1p4jBWW3VA+9sDG72rdUB5TiUFJPx1QPjARu+KTHZAdjNo2fGcdkD0pYnDWO12QHIYq62/PXdA8IrMlyaOd0Bu/e2Bjd53QOxvD2z0LnhAauIwVlt/eEDoVFJAws94QGbHcyopIHlA5DmVFJBweUBirLb+9sB5QOAe2OhdEXpAX5H50sRhekDdAxu9K7J6QFt2PKeSAntA2ehdkflSe0BXW397YKN7QNXNoGXH83tAU0DCTy5EfEDRsuM5lZR8QE8lBST85HxAzZcmDmM1fUBLCkj4yYV9QMl8aeIw1n1ASO+KzJcmfkDGYay2/nZ+QETUzaBlx35AwkbviswXf0BAuRB1M2h/QL4rMl+auH9AHs+ppIAEgEBdiLoZtCyAQJxBy47nVIBA2/rbAxt9gEAatOx4TqWAQFlt/e2BzYBAmCYOY7X1gEDX3x7Y6B2BQBaZL00cRoFAVVJAwk9ugUCUC1E3g5aBQNPEYay2voFAEn5yIermgUBRN4OWHQ+CQJHwkwtRN4JA0KmkgIRfgkAPY7X1t4eCQE4cxmrrr4JAjdXW3x7YgkDMjudUUgCDQAtI+MmFKINASgEJP7lQg0CJuhm07HiDQMhzKikgoYNABy07nlPJg0BG5ksTh/GDQIWfXIi6GYRAxFht/e1BhEADEn5yIWqEQELLjudUkoRAgYSfXIi6hEDAPbDRu+KEQP/2wEbvCoVAPrDRuyIzhUB9aeIwVluFQLwi86WJg4VA+9sDG72rhUA6lRSQ8NOFQHlOJQUk/IVAuQc2elckhkD4wEbvikyGQDd6V2S+dIZAdjNo2fGchkC17HhOJcWGQPSlicNY7YZAM1+aOIwVh0ByGKutvz2HQLHRuyLzZYdA8IrMlyaOh0AvRN0MWraHQG797YGN3odArbb+9sAGiEDsbw9s9C6IQCspIOEnV4hAauIwVlt/iECpm0HLjqeIQOhUUkDCz4hAJw5jtfX3iEBmx3MqKSCJQKWAhJ9cSIlA5DmVFJBwiUAj86WJw5iJQGKstv72wIlAoWXHcyrpiUDgHtjoXRGKQCDY6F2ROYpAX5H50sRhikCeSgpI+ImKQN0DG70rsopAHL0rMl/aikBbdjynkgKLQJovTRzGKotA2ehdkflSi0AYom4GLXuLQFdbf3tgo4tAlhSQ8JPLi0DVzaBlx/OLQBSHsdr6G4xAU0DCTy5EjECS+dLEYWyMQNGy4zmVlIxAEGz0rsi8jEBPJQUk/OSMQI7eFZkvDY1AzZcmDmM1jUAMUTeDll2NQEsKSPjJhY1AisNYbf2tjUDJfGniMNaNQAg2eldk/o1ASO+KzJcmjkCHqJtBy06OQMZhrLb+do5ABRu9KzKfjkBE1M2gZceOQION3hWZ745AwkbviswXj0AAAAAAAECPQA==\",\"dtype\":\"float64\",\"shape\":[200]},\"y\":{\"__ndarray__\":\"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\",\"dtype\":\"float64\",\"shape\":[200]}},\"selected\":{\"id\":\"0d2bf1ff-a903-44fd-9f29-966d6fbe6ca3\",\"type\":\"Selection\"},\"selection_policy\":{\"id\":\"6c9b8119-c6d9-43b5-9d0e-b375c643da24\",\"type\":\"UnionRenderers\"}},\"id\":\"9210703d-6d4f-429e-ae50-f106327563c0\",\"type\":\"ColumnDataSource\"},{\"attributes\":{\"line_color\":\"red\",\"line_width\":3,\"x\":{\"field\":\"x\"},\"y\":{\"field\":\"y\"}},\"id\":\"08830db1-9243-4707-9dac-1bfec43805b7\",\"type\":\"Line\"},{\"attributes\":{\"data_source\":{\"id\":\"bf45d1ec-fc04-467d-aded-1c0670a8b1ae\",\"type\":\"ColumnDataSource\"},\"glyph\":{\"id\":\"08830db1-9243-4707-9dac-1bfec43805b7\",\"type\":\"Line\"},\"hover_glyph\":null,\"muted_glyph\":null,\"nonselection_glyph\":{\"id\":\"ad0269aa-67bb-4796-967e-a1a811b28563\",\"type\":\"Line\"},\"selection_glyph\":null,\"view\":{\"id\":\"97caa47c-32eb-415d-9621-d4cbc9f7eb78\",\"type\":\"CDSView\"}},\"id\":\"e31ae2f4-2207-40a3-9eb6-7d99cc45da5d\",\"type\":\"GlyphRenderer\"}],\"root_ids\":[\"74081be8-2d62-4efa-8d97-0574f17edf70\"]},\"title\":\"Bokeh Application\",\"version\":\"0.12.16\"}};\n",
       "  var render_items = [{\"docid\":\"a15eb9bc-fe5c-4988-9e07-2da6d695e2e4\",\"elementid\":\"36b5c6d1-c692-4bc9-97bc-c4c4fe843a0c\",\"modelid\":\"74081be8-2d62-4efa-8d97-0574f17edf70\"}];\n",
       "  root.Bokeh.embed.embed_items_notebook(docs_json, render_items);\n",
       "\n",
       "  }\n",
       "  if (root.Bokeh !== undefined) {\n",
       "    embed_document(root);\n",
       "  } else {\n",
       "    var attempts = 0;\n",
       "    var timer = setInterval(function(root) {\n",
       "      if (root.Bokeh !== undefined) {\n",
       "        embed_document(root);\n",
       "        clearInterval(timer);\n",
       "      }\n",
       "      attempts++;\n",
       "      if (attempts > 100) {\n",
       "        console.log(\"Bokeh: ERROR: Unable to run BokehJS code because BokehJS library is missing\")\n",
       "        clearInterval(timer);\n",
       "      }\n",
       "    }, 10, root)\n",
       "  }\n",
       "})(window);"
      ],
      "application/vnd.bokehjs_exec.v0+json": ""
     },
     "metadata": {
      "application/vnd.bokehjs_exec.v0+json": {
       "id": "74081be8-2d62-4efa-8d97-0574f17edf70"
      }
     },
     "output_type": "display_data"
    }
   ],
   "source": [
    "from scipy.stats import expon\n",
    "\n",
    "x = np.linspace(0, 1000, 200)\n",
    "lambda_1 = 0.01\n",
    "lambda_2 = 0.001\n",
    "lambda_3 = 0.002\n",
    "\n",
    "# Tools for plots\n",
    "tools='pan,wheel_zoom,reset,save'\n",
    "\n",
    "# Set up plots\n",
    "fig_1 = Figure(width=400, height=300, tools=[tools,HoverTool(tooltips=[\n",
    "                (\"\", \"($x,$y)\")\n",
    "                ])], title=\"Exponential Distribution\")\n",
    "fig_2 = Figure(width=400, height=300, tools=[tools,HoverTool(tooltips=[\n",
    "                (\"\", \"($x,$y)\")\n",
    "                ])], \n",
    "               y_range=[-0.05, 1.05])\n",
    "\n",
    "fig_1.xaxis.axis_label = 'x'\n",
    "fig_1.yaxis.axis_label = 'f(x,λ)' \n",
    "\n",
    "fig_2.xaxis.axis_label = 'x'\n",
    "fig_2.yaxis.axis_label = 'F(x,λ)'\n",
    "\n",
    "# Figure #1\n",
    "y1 = expon.pdf(x,scale=1/lambda_1)\n",
    "y2 = expon.pdf(x,scale=1/lambda_2)\n",
    "y3 = expon.pdf(x,scale=1/lambda_3)\n",
    "\n",
    "fig_1.line(x, y1, line_width=3, color='dodgerblue',legend=\"λ=0.001\")\n",
    "fig_1.line(x, y2, line_width=3, color='red',legend=\"λ=0.0001\")\n",
    "fig_1.line(x, y3, line_width=3, color='green',legend=\"λ=0.0002\")\n",
    "\n",
    "fig_1.legend.location = \"top_right\"\n",
    "fig_1.legend.click_policy=\"hide\"\n",
    "\n",
    "#Figure #2\n",
    "y4 = expon.cdf(x,scale=1/lambda_1)\n",
    "y5 = expon.cdf(x,scale=1/lambda_2)\n",
    "y6 = expon.cdf(x,scale=1/lambda_3)\n",
    "\n",
    "fig_2.line(x, y4, line_width=3, color='dodgerblue',legend=\"λ=0.001\")\n",
    "fig_2.line(x, y5, line_width=3, color='red',legend=\"λ=0.0001\")\n",
    "fig_2.line(x, y6, line_width=3, color='green',legend=\"λ=0.0002\")\n",
    "fig_2.legend.location = \"bottom_right\"\n",
    "\n",
    "show(row([fig_1, fig_2]))"
   ]
  },
  {
   "cell_type": "markdown",
   "metadata": {},
   "source": [
    "# References"
   ]
  },
  {
   "cell_type": "markdown",
   "metadata": {},
   "source": [
    "http://bebi103.caltech.edu.s3-website-us-east-1.amazonaws.com/2016/tutorials/t3b_probability_stories.html\n",
    "\n",
    "http://students.brown.edu/seeing-theory/probability-distributions/index.html#section1"
   ]
  }
 ],
 "metadata": {
  "kernelspec": {
   "display_name": "Python 2",
   "language": "python",
   "name": "python2"
  },
  "language_info": {
   "codemirror_mode": {
    "name": "ipython",
    "version": 2
   },
   "file_extension": ".py",
   "mimetype": "text/x-python",
   "name": "python",
   "nbconvert_exporter": "python",
   "pygments_lexer": "ipython2",
   "version": "2.7.13"
  }
 },
 "nbformat": 4,
 "nbformat_minor": 2
}
